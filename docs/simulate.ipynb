{
 "cells": [
  {
   "cell_type": "markdown",
   "metadata": {},
   "source": [
    "The simulation performs the same calculations as the optimization, but uses recorded historical data for all inputs.  The minimum set of inputs that differ between the simulation and optimization are the same as the parameters in the optimization problem:\n",
    "\n",
    "* `Allocation[:waterfromgw]`: The amount of water withdrawn through pumping ($county \\times time$)\n",
    "* `Allocation[:withdrawals]`: The amount of water extracted from rivers ($canal \\times time$)\n",
    "* `Agriculture[:rainfedareas]`: The land planted for rainfed agriculture ($county \\times crop \\times time$)\n",
    "* `Agriculture[:irrigatedareas]`: The land planted for fully irrigated agriculture ($county \\times crop \\times time$)\n",
    "* `Transportation[:imported]`: The amount of each crop shipped between counties ($edge \\times crop \\times time$)\n",
    "* `Market[:internationalsales]`: The amount of each crop sold at international prices ($county \\times crop \\times time$)"
   ]
  },
  {
   "cell_type": "markdown",
   "metadata": {
    "collapsed": true
   },
   "source": [
    "Here is a diagram of the entire model, which applies to both the simulation and the optimization.\n",
    "\n",
    "![title](ModelDiagram.svg)\n",
    "\n",
    "In the simulation, the entries labeled as optimized are provided as inputs."
   ]
  },
  {
   "cell_type": "markdown",
   "metadata": {},
   "source": [
    "## Agricultural Land Use\n",
    "\n",
    "Agriculture harvest areas come from the USDA Quickstats."
   ]
  },
  {
   "cell_type": "markdown",
   "metadata": {},
   "source": [
    "## Water Demand\n",
    "\n",
    "Water demand is from the USGS."
   ]
  },
  {
   "cell_type": "code",
   "execution_count": null,
   "metadata": {
    "collapsed": true
   },
   "outputs": [],
   "source": []
  }
 ],
 "metadata": {
  "kernelspec": {
   "display_name": "Julia 0.4.0",
   "language": "julia",
   "name": "julia-0.4"
  },
  "language_info": {
   "file_extension": ".jl",
   "mimetype": "application/julia",
   "name": "julia",
   "version": "0.4.0"
  }
 },
 "nbformat": 4,
 "nbformat_minor": 0
}
