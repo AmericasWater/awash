{
 "cells": [
  {
   "cell_type": "markdown",
   "metadata": {},
   "source": [
    "# Model description\n",
    "\n",
    "The America's Water model describes the connections between water supply and water demand and the spatial and temporal decisions around them.  The broad goals of the model are to understand cross-basin connections in the US, the price of water and tradeoffs, and the future landscape of water.\n",
    "\n",
    "The current version of the model is called the \"Operational Problem\" model.  Water supply can come from river network runoff, groundwater with seepage, and reservoirs with storage.  Water demand is driven by agriculture and livestock, industry, urban demands, and thermoelectric plants.  The transporation and selling of agricultural products is also modeled, and this is where the model gets its name: the key objective of the model is to maximize profits to farmers, under a variety of constraints and planning."
   ]
  },
  {
   "cell_type": "markdown",
   "metadata": {},
   "source": [
    "![Operational Problem Model](https://raw.githubusercontent.com/AmericasWater/operational-problem/master/docs/ModelDiagram.png)"
   ]
  },
  {
   "cell_type": "markdown",
   "metadata": {},
   "source": [
    "# Simulation and optimization\n",
    "\n",
    "The model can be run in simulation mode or optimization mode.  For simulation mode, we have collected inputs that describe the current situation in the United States, and the model produces results from this, such as total agricultural production and market outputs.  Under optimization mode, a variety of decision variables are selected to optimize the benefits produced by water.\n",
    "\n",
    "The model can also be run using a mix of simulation and optimization, selecting some parameters to be fed by data and others by optimization.  You can also generate decisions with the optimization mode under one set of assumptions, and then simulate it with another set, for example if the water managers understand only part of the full water system."
   ]
  },
  {
   "cell_type": "markdown",
   "metadata": {},
   "source": [
    "# Recent improvements\n",
    "\n",
    "Since the March 24 workshop, we've gotten the full optimization and simulation models working.\n",
    "\n",
    "- Optimization of withdrawals\n",
    "- Reservoir model\n",
    "- Jupyter notebook documentation"
   ]
  },
  {
   "cell_type": "markdown",
   "metadata": {},
   "source": [
    "# Plans for the future\n",
    "\n",
    "The model is at a stage where there are a ton of experiments and analyses it can be used for.  The Progress document lays out future tasks:\n",
    "https://docs.google.com/spreadsheets/d/1vK-tiuVdShQjh58EiPbTZP8Erc4rLuhIL_70ZIntwJA/edit#gid=1429916549\n",
    "\n",
    "Broadly, tasks for the future fall into three categories: Validation, Extensions, and Analyses.\n",
    "\n",
    "---\n",
    "## Validation Exercises\n",
    "\n",
    "### Internal consistency\n",
    "\n",
    "- Check that optimization matrix matches the numerical derivative of simulation code\n",
    "- Automated testing of components\n",
    "\n",
    "### Component operation\n",
    "\n",
    "- Historical agricultural yields\n",
    "- Transportation under port-based international sales\n",
    "\n",
    "---\n",
    "## Extensions\n",
    "\n",
    "### Policy Extensions\n",
    "\n",
    "- Minimal environmental flow requirements\n",
    "- Inter-state compacts\n",
    "\n",
    "### Sectors\n",
    "\n",
    "- Agricultural growing seasons lasting multiple periods\n",
    "- Sending electricity on the high-voltage grid\n",
    "- Biofuels\n",
    "\n",
    "### Structural changes\n",
    "\n",
    "- Capacity expansion\n",
    "- Migration\n",
    "\n",
    "---\n",
    "## Analyses\n",
    "\n",
    "### Comparison to optimal\n",
    "\n",
    "- Current situation vs. optimal usage\n",
    "- Optimization under uncertain climate\n",
    "- Reservoir release policies\n",
    "\n",
    "### Value of water\n",
    "\n",
    "- Determinants of the shadow price"
   ]
  },
  {
   "cell_type": "markdown",
   "metadata": {
    "collapsed": true
   },
   "source": [
    "# How to get involved\n",
    "\n",
    "We hope that the model is fairly easy to run, modify, and contribute to.  It's written in [Julia](http://julialang.org/), which is very similar to Matlab.  It's based on [components](http://anthofflab.berkeley.edu/Mimi.jl/stable/tutorial/), so you can modify one sector without worrying about others.  And you can see it in use it the [documentation notebooks](https://github.com/AmericasWater/operational-problem/tree/master/docs).\n",
    "\n",
    "We are looking for people who want to **use** and **expand** the model:\n",
    "- Helping with validation\n",
    "- Adding new policies and components\n",
    "- Running experiments and analyses\n",
    "\n",
    "There is no user interface, so working with the model means running and modify code.  But we are happy to help you get going.  To get started, just [install the model](http://localhost:8888/edit/install.md) and try it out!"
   ]
  },
  {
   "cell_type": "code",
   "execution_count": null,
   "metadata": {
    "collapsed": true
   },
   "outputs": [],
   "source": []
  }
 ],
 "metadata": {
  "kernelspec": {
   "display_name": "Julia 0.4.0",
   "language": "julia",
   "name": "julia-0.4"
  },
  "language_info": {
   "file_extension": ".jl",
   "mimetype": "application/julia",
   "name": "julia",
   "version": "0.4.0"
  }
 },
 "nbformat": 4,
 "nbformat_minor": 0
}
