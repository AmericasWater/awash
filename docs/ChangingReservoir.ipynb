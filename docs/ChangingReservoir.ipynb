{
 "cells": [
  {
   "cell_type": "code",
   "execution_count": 1,
   "metadata": {},
   "outputs": [
    {
     "name": "stderr",
     "output_type": "stream",
     "text": [
      "\u001b[1m\u001b[36mINFO: \u001b[39m\u001b[22m\u001b[36mPrecompiling module RCall.\n",
      "\u001b[39mWARNING: Method definition promote_rule(Type{T}, Type{Any}) in module Nulls at /Users/jrising/.julia/v0.6/Nulls/src/Nulls.jl:29 overwritten in module Missings at /Users/jrising/.julia/v0.6/Missings/src/Missings.jl:52.\n",
      "WARNING: Method definition ==(Base.Nullable{S}, Base.Nullable{T}) in module Base at nullable.jl:238 overwritten in module NullableArrays at /Users/jrising/.julia/v0.6/NullableArrays/src/operators.jl:99.\n",
      "\u001b[1m\u001b[91mERROR: \u001b[39m\u001b[22mLoadError: LoadError: \u001b[91mCould not find R installation. Either set the \"R_HOME\" environmental variable, or ensure the R executable is available in \"PATH\".\u001b[39m\n",
      "Stacktrace:\n",
      " [1] \u001b[1mlocate_Rhome_libR\u001b[22m\u001b[22m\u001b[1m(\u001b[22m\u001b[22m\u001b[1m)\u001b[22m\u001b[22m at \u001b[1m/Users/jrising/.julia/v0.6/RCall/src/setup.jl:118\u001b[22m\u001b[22m\n",
      " [2] \u001b[1minclude_from_node1\u001b[22m\u001b[22m\u001b[1m(\u001b[22m\u001b[22m::String\u001b[1m)\u001b[22m\u001b[22m at \u001b[1m./loading.jl:576\u001b[22m\u001b[22m\n",
      " [3] \u001b[1minclude\u001b[22m\u001b[22m\u001b[1m(\u001b[22m\u001b[22m::String\u001b[1m)\u001b[22m\u001b[22m at \u001b[1m./sysimg.jl:14\u001b[22m\u001b[22m\n",
      " [4] \u001b[1minclude_from_node1\u001b[22m\u001b[22m\u001b[1m(\u001b[22m\u001b[22m::String\u001b[1m)\u001b[22m\u001b[22m at \u001b[1m./loading.jl:576\u001b[22m\u001b[22m\n",
      " [5] \u001b[1minclude\u001b[22m\u001b[22m\u001b[1m(\u001b[22m\u001b[22m::String\u001b[1m)\u001b[22m\u001b[22m at \u001b[1m./sysimg.jl:14\u001b[22m\u001b[22m\n",
      " [6] \u001b[1manonymous\u001b[22m\u001b[22m at \u001b[1m./<missing>:2\u001b[22m\u001b[22m\n",
      "while loading /Users/jrising/.julia/v0.6/RCall/src/setup.jl, in expression starting on line 121\n",
      "while loading /Users/jrising/.julia/v0.6/RCall/src/RCall.jl, in expression starting on line 41\n"
     ]
    },
    {
     "ename": "LoadError",
     "evalue": "\u001b[91mFailed to precompile RCall to /Users/jrising/.julia/lib/v0.6/RCall.ji.\u001b[39m",
     "output_type": "error",
     "traceback": [
      "\u001b[91mFailed to precompile RCall to /Users/jrising/.julia/lib/v0.6/RCall.ji.\u001b[39m",
      "",
      "Stacktrace:",
      " [1] \u001b[1mcompilecache\u001b[22m\u001b[22m\u001b[1m(\u001b[22m\u001b[22m::String\u001b[1m)\u001b[22m\u001b[22m at \u001b[1m./loading.jl:710\u001b[22m\u001b[22m",
      " [2] \u001b[1m_require\u001b[22m\u001b[22m\u001b[1m(\u001b[22m\u001b[22m::Symbol\u001b[1m)\u001b[22m\u001b[22m at \u001b[1m./loading.jl:497\u001b[22m\u001b[22m",
      " [3] \u001b[1mrequire\u001b[22m\u001b[22m\u001b[1m(\u001b[22m\u001b[22m::Symbol\u001b[1m)\u001b[22m\u001b[22m at \u001b[1m./loading.jl:405\u001b[22m\u001b[22m",
      " [4] \u001b[1minclude_string\u001b[22m\u001b[22m\u001b[1m(\u001b[22m\u001b[22m::String, ::String\u001b[1m)\u001b[22m\u001b[22m at \u001b[1m./loading.jl:522\u001b[22m\u001b[22m"
     ]
    }
   ],
   "source": [
    "using RCall\n",
    "using DataFrames"
   ]
  },
  {
   "cell_type": "code",
   "execution_count": 17,
   "metadata": {
    "scrolled": true
   },
   "outputs": [
    {
     "data": {
      "image/png": "[encoded data removed]"
     },
     "metadata": {},
     "output_type": "display_data"
    },
    {
     "data": {
      "text/plain": [
       "RCall.RObject{RCall.VecSxp}\n"
      ]
     },
     "execution_count": 17,
     "metadata": {},
     "output_type": "execute_result"
    },
    {
     "name": "stderr",
     "output_type": "stream",
     "text": [
      "\u001b[1m\u001b[33mWARNING: \u001b[39m\u001b[22m\u001b[33mRCall.jl: Warning: Transformation introduced infinite values in continuous y-axis\u001b[39m\n"
     ]
    }
   ],
   "source": [
    "df = DataFrame(capacity=exp.(linspace(9.5, log(30000000), 100)))\n",
    "df[:cost] = exp.(0.7 + 0.9 * log.((log.(df[:capacity]) - 9.5) / 0.01))\n",
    "\n",
    "knowns = DataFrame(capacity=[28537000, 35500], cost=[690, 18], label=[\"Hoover\", \"Median\"])\n",
    "\n",
    "R\"library(ggplot2)\"\n",
    "R\"ggplot($df, aes(capacity, cost)) + geom_line() + geom_label(data=$knowns, aes(label=label)) + scale_x_log10() + scale_y_log10(breaks=c(20, 100, 500)) + theme_bw() + xlab('Capacity (acre-ft)') + ylab('Cost ($M)')\""
   ]
  },
  {
   "cell_type": "code",
   "execution_count": 21,
   "metadata": {
    "scrolled": true
   },
   "outputs": [
    {
     "data": {
      "text/plain": [
       "100-element DataArrays.DataArray{Float64,1}:\n",
       " NaN          \n",
       "   0.000102193\n",
       "   8.81992e-5 \n",
       "   7.83437e-5 \n",
       "   7.04139e-5 \n",
       "   6.36965e-5 \n",
       "   5.78556e-5 \n",
       "   5.26986e-5 \n",
       "   4.81004e-5 \n",
       "   4.39725e-5 \n",
       "   4.02489e-5 \n",
       "   3.68776e-5 \n",
       "   3.38168e-5 \n",
       "   ⋮          \n",
       "   7.41086e-8 \n",
       "   6.84741e-8 \n",
       "   6.32687e-8 \n",
       "   5.84598e-8 \n",
       "   5.40171e-8 \n",
       "   4.99126e-8 \n",
       "   4.61205e-8 \n",
       "   4.26169e-8 \n",
       "   3.938e-8   \n",
       "   3.63893e-8 \n",
       "   3.36261e-8 \n",
       "   3.10731e-8 "
      ]
     },
     "execution_count": 21,
     "metadata": {},
     "output_type": "execute_result"
    }
   ],
   "source": [
    "df[:marginal] = df[:cost] .* 0.9 .* (1 ./ df[:capacity]) ./ ((log.(df[:capacity]) - 9.5) / 0.01)"
   ]
  },
  {
   "cell_type": "code",
   "execution_count": 22,
   "metadata": {},
   "outputs": [
    {
     "data": {
      "image/png": "[encoded data removed]"
     },
     "metadata": {},
     "output_type": "display_data"
    },
    {
     "data": {
      "text/plain": [
       "RCall.RObject{RCall.VecSxp}\n"
      ]
     },
     "execution_count": 22,
     "metadata": {},
     "output_type": "execute_result"
    },
    {
     "name": "stderr",
     "output_type": "stream",
     "text": [
      "\u001b[1m\u001b[33mWARNING: \u001b[39m\u001b[22m\u001b[33mRCall.jl: Warning: Removed 1 rows containing missing values (geom_path).\u001b[39m\n"
     ]
    }
   ],
   "source": [
    "R\"ggplot($df, aes(capacity, marginal)) + geom_line() + scale_x_log10() + scale_y_log10() + theme_bw() + xlab('Capacity (acre-ft)') + ylab('Marginal cost ($M / acre-ft)')\""
   ]
  }
 ],
 "metadata": {
  "kernelspec": {
   "display_name": "Julia 0.6.2",
   "language": "julia",
   "name": "julia-0.6"
  },
  "language_info": {
   "file_extension": ".jl",
   "mimetype": "application/julia",
   "name": "julia",
   "version": "0.6.2"
  }
 },
 "nbformat": 4,
 "nbformat_minor": 2
}
