{
 "cells": [
  {
   "cell_type": "markdown",
   "metadata": {},
   "source": [
    "The Agricultural model determines the yield and production, as well as the costs of cultivation, for theagricultural products.  The list (and order!) of crops is defined in `world.jl`:"
   ]
  },
  {
   "cell_type": "code",
   "execution_count": 1,
   "metadata": {
    "collapsed": false
   },
   "outputs": [
    {
     "data": {
      "text/plain": [
       "9-element Array{ASCIIString,1}:\n",
       " \"alfalfa\"      \n",
       " \"otherhay\"     \n",
       " \"Barley\"       \n",
       " \"Barley.Winter\"\n",
       " \"Maize\"        \n",
       " \"Sorghum\"      \n",
       " \"Soybeans\"     \n",
       " \"Wheat\"        \n",
       " \"Wheat.Winter\" "
      ]
     },
     "execution_count": 1,
     "metadata": {},
     "output_type": "execute_result"
    }
   ],
   "source": [
    "crops = [\"alfalfa\", \"otherhay\", \"Barley\", \"Barley.Winter\", \"Maize\", \"Sorghum\", \"Soybeans\", \"Wheat\", \"Wheat.Winter\"]"
   ]
  },
  {
   "cell_type": "markdown",
   "metadata": {},
   "source": [
    "Yields are estimated using a linear expression:\n",
    "$$log y_i = \\ldots$$"
   ]
  },
  {
   "cell_type": "markdown",
   "metadata": {},
   "source": [
    "The information for agricultural production comes from quickstats."
   ]
  },
  {
   "cell_type": "code",
   "execution_count": null,
   "metadata": {
    "collapsed": true
   },
   "outputs": [],
   "source": []
  }
 ],
 "metadata": {
  "kernelspec": {
   "display_name": "Julia 0.4.0",
   "language": "julia",
   "name": "julia-0.4"
  },
  "language_info": {
   "file_extension": ".jl",
   "mimetype": "application/julia",
   "name": "julia",
   "version": "0.4.0"
  }
 },
 "nbformat": 4,
 "nbformat_minor": 0
}
