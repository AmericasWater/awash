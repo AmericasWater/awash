{
 "cells": [
  {
   "cell_type": "markdown",
   "metadata": {},
   "source": [
    "# Colorado model\n",
    "## Current situation - simulation script"
   ]
  },
  {
   "cell_type": "code",
   "execution_count": 69,
   "metadata": {
    "collapsed": false
   },
   "outputs": [
    {
     "name": "stderr",
     "output_type": "stream",
     "text": [
      "WARNING: using RCall.isna in module Main conflicts with an existing identifier.\n"
     ]
    },
    {
     "name": "stdout",
     "output_type": "stream",
     "text": [
      "\u001b[0;1;34;94m┌───────────────\u001b[0;34m────────────────\u001b[0;37m────────────────\u001b[0;1;30;90m───┐\u001b[0m\n",
      "\u001b[0;34m│\u001b[0m    \u001b[0;34m▄▄\u001b[0m    \u001b[0;34m▄▄\u001b[0m      \u001b[0;37m▄▄\u001b[0m    \u001b[0;37m▄▄\u001b[0m       \u001b[0;1;30;90m▄▄▄▄\u001b[0m    \u001b[0;1;30;90m▄▄\u001b[0m    \u001b[0;1;34;94m▄▄\u001b[0m \u001b[0;1;34;94m│\u001b[0m\n",
      "\u001b[0;34m│\u001b[0m   \u001b[0;34m████\u001b[0m   \u001b[0;37m██\u001b[0m      \u001b[0;37m██\u001b[0m   \u001b[0;1;30;90m████\u001b[0m    \u001b[0;1;30;90m▄█▀▀▀▀█\u001b[0m   \u001b[0;1;34;94m██\u001b[0m    \u001b[0;1;34;94m██\u001b[0m \u001b[0;1;34;94m│\u001b[0m\n",
      "\u001b[0;37m│\u001b[0m   \u001b[0;37m████\u001b[0m   \u001b[0;37m▀█▄\u001b[0m \u001b[0;37m█\u001b[0;1;30;90m█\u001b[0m \u001b[0;1;30;90m▄█▀\u001b[0m   \u001b[0;1;30;90m████\u001b[0m    \u001b[0;1;34;94m██▄\u001b[0m       \u001b[0;1;34;94m██\u001b[0m    \u001b[0;34m██\u001b[0m \u001b[0;34m│\u001b[0m\n",
      "\u001b[0;37m│\u001b[0m  \u001b[0;37m██\u001b[0m  \u001b[0;37m█\u001b[0;1;30;90m█\u001b[0m   \u001b[0;1;30;90m██\u001b[0m \u001b[0;1;30;90m██\u001b[0m \u001b[0;1;30;90m██\u001b[0m   \u001b[0;1;30;90m█\u001b[0;1;34;94m█\u001b[0m  \u001b[0;1;34;94m██\u001b[0m    \u001b[0;1;34;94m▀████▄\u001b[0m   \u001b[0;34m████████\u001b[0m \u001b[0;34m│\u001b[0m\n",
      "\u001b[0;1;30;90m│\u001b[0m  \u001b[0;1;30;90m██████\u001b[0m   \u001b[0;1;30;90m███▀\u001b[0;1;34;94m▀███\u001b[0m   \u001b[0;1;34;94m██████\u001b[0m        \u001b[0;34m▀██\u001b[0m  \u001b[0;34m██\u001b[0m    \u001b[0;37m██\u001b[0m \u001b[0;37m│\u001b[0m\n",
      "\u001b[0;1;30;90m│\u001b[0m \u001b[0;1;30;90m▄██\u001b[0m  \u001b[0;1;30;90m█\u001b[0;1;34;94m█▄\u001b[0m  \u001b[0;1;34;94m███\u001b[0m  \u001b[0;1;34;94m███\u001b[0m  \u001b[0;1;34;94m▄█\u001b[0;34m█\u001b[0m  \u001b[0;34m██▄\u001b[0m  \u001b[0;34m█▄▄▄▄▄█▀\u001b[0m  \u001b[0;37m██\u001b[0m    \u001b[0;37m██\u001b[0m \u001b[0;37m│\u001b[0m\n",
      "\u001b[0;1;34;94m│\u001b[0m \u001b[0;1;34;94m▀▀\u001b[0m    \u001b[0;1;34;94m▀▀\u001b[0m  \u001b[0;1;34;94m▀▀▀\u001b[0m  \u001b[0;34m▀▀▀\u001b[0m  \u001b[0;34m▀▀\u001b[0m    \u001b[0;34m▀▀\u001b[0m   \u001b[0;37m▀▀▀▀▀\u001b[0m    \u001b[0;37m▀▀\u001b[0m    \u001b[0;1;30;90m▀▀\u001b[0m \u001b[0;1;30;90m│\u001b[0m\n",
      "\u001b[0;34m└───────\u001b[0;37m────────────────\u001b[0;1;30;90m────────────────\u001b[0;1;34;94m───────────┘\u001b[0m\n",
      "\n",
      "Welcome to AWASH, the America's Water Model, version 0.7.\n",
      "\n"
     ]
    }
   ],
   "source": [
    "include(\"../src/nui.jl\")"
   ]
  },
  {
   "cell_type": "code",
   "execution_count": 70,
   "metadata": {
    "collapsed": false
   },
   "outputs": [
    {
     "name": "stdout",
     "output_type": "stream",
     "text": [
      "Loading from saved region network...\n",
      "Loading from saved water network...\n",
      "Loading from saved region network...\n"
     ]
    },
    {
     "name": "stderr",
     "output_type": "stream",
     "text": [
      "WARNING: replacing module _mimi_implementation_Agriculture\n",
      "WARNING: replacing module _mimi_implementation_WaterDemand\n",
      "WARNING: replacing module _mimi_implementation_Market\n",
      "WARNING: replacing module _mimi_implementation_WaterNetwork\n",
      "WARNING: replacing module _mimi_implementation_Aquifer\n",
      "WARNING: replacing module _mimi_implementation_Allocation\n",
      "WARNING: replacing module _mimi_implementation_Reservoir\n",
      "WARNING: replacing module _mimi_implementation_UrbanDemand\n"
     ]
    },
    {
     "name": "stdout",
     "output_type": "stream",
     "text": [
      "Creating model...\n"
     ]
    },
    {
     "name": "stderr",
     "output_type": "stream",
     "text": [
      "WARNING: replacing module _mimi_implementation_Thermoelectric\n"
     ]
    },
    {
     "name": "stdout",
     "output_type": "stream",
     "text": [
      "Running model for Colorado state ...\n",
      "  0.987574 seconds (744.82 k allocations: 22.329 MB, 2.01% gc time)\n"
     ]
    }
   ],
   "source": [
    "include(\"../src/simulate_colorado.jl\")"
   ]
  },
  {
   "cell_type": "code",
   "execution_count": 72,
   "metadata": {
    "collapsed": false
   },
   "outputs": [
    {
     "name": "stderr",
     "output_type": "stream",
     "text": [
      "WARNING: replacing module _mimi_implementation_Allocation\n"
     ]
    },
    {
     "data": {
      "text/plain": [
       "grad_allocation_returnbalance_waterreturn (generic function with 1 method)"
      ]
     },
     "execution_count": 72,
     "metadata": {},
     "output_type": "execute_result"
    }
   ],
   "source": []
  },
  {
   "cell_type": "code",
   "execution_count": 66,
   "metadata": {
    "collapsed": false
   },
   "outputs": [
    {
     "data": {
      "text/plain": [
       "64x12 Array{Float64,2}:\n",
       " 67.7524  58.5391  63.8796  58.6938  …  67.4809  65.7446  62.1734  69.0714\n",
       "  0.0      0.0      0.0      0.0         0.0      0.0      0.0      0.0   \n",
       "  0.0      0.0      0.0      0.0         0.0      0.0      0.0      0.0   \n",
       "  0.0      0.0      0.0      0.0         0.0      0.0      0.0      0.0   \n",
       "  0.0      0.0      0.0      0.0         0.0      0.0      0.0      0.0   \n",
       "  0.0      0.0      0.0      0.0     …   0.0      0.0      0.0      0.0   \n",
       " 39.6695  34.2751  37.402   34.3656     39.5106  38.494   36.403   40.4418\n",
       "  0.0      0.0      0.0      0.0         0.0      0.0      0.0      0.0   \n",
       "  0.0      0.0      0.0      0.0         0.0      0.0      0.0      0.0   \n",
       "  0.0      0.0      0.0      0.0         0.0      0.0      0.0      0.0   \n",
       "  0.0      0.0      0.0      0.0     …   0.0      0.0      0.0      0.0   \n",
       "  0.0      0.0      0.0      0.0         0.0      0.0      0.0      0.0   \n",
       "  0.0      0.0      0.0      0.0         0.0      0.0      0.0      0.0   \n",
       "  ⋮                                  ⋱                     ⋮              \n",
       "  0.0      0.0      0.0      0.0         0.0      0.0      0.0      0.0   \n",
       "  0.0      0.0      0.0      0.0         0.0      0.0      0.0      0.0   \n",
       " 49.3905  42.6742  46.5673  42.7869     49.1926  47.9269  45.3235  50.352 \n",
       "  0.0      0.0      0.0      0.0     …   0.0      0.0      0.0      0.0   \n",
       "  0.0      0.0      0.0      0.0         0.0      0.0      0.0      0.0   \n",
       "  0.0      0.0      0.0      0.0         0.0      0.0      0.0      0.0   \n",
       "  0.0      0.0      0.0      0.0         0.0      0.0      0.0      0.0   \n",
       "  0.0      0.0      0.0      0.0         0.0      0.0      0.0      0.0   \n",
       "  0.0      0.0      0.0      0.0     …   0.0      0.0      0.0      0.0   \n",
       "  0.0      0.0      0.0      0.0         0.0      0.0      0.0      0.0   \n",
       " 45.4629  39.2806  42.8641  39.3844     45.2807  44.1156  41.7192  46.3479\n",
       "  0.0      0.0      0.0      0.0         0.0      0.0      0.0      0.0   "
      ]
     },
     "execution_count": 66,
     "metadata": {},
     "output_type": "execute_result"
    }
   ],
   "source": [
    "model.components[:Thermoelectric].Parameters.demand"
   ]
  },
  {
   "cell_type": "code",
   "execution_count": 68,
   "metadata": {
    "collapsed": false
   },
   "outputs": [
    {
     "data": {
      "text/plain": [
       "64x12 Array{Float64,2}:\n",
       " 211.562     194.654     192.382     …   455.107     256.838     226.898   \n",
       "   7.27263     6.6914      6.6133         15.6447      8.82903     7.79983 \n",
       " 710.929     654.112     646.477        1529.33      863.074     762.465   \n",
       "  11.3858     10.4759     10.3536         24.493      13.8225     12.2112  \n",
       "   1.19223     1.09695     1.08415         2.56471     1.44738     1.27866 \n",
       "   1.96719     1.80997     1.78884   …     4.23177     2.38818     2.10979 \n",
       " 200.653     184.617     182.462         431.64      243.594     215.199   \n",
       "  28.3752     26.1074     25.8027         61.04       34.4477     30.4321  \n",
       "   7.6303      7.02049     6.93854        16.4141      9.26325     8.18343 \n",
       "   1.49029     1.37119     1.35518         3.20588     1.80923     1.59833 \n",
       "   3.81515     3.51024     3.46927   …     8.20706     4.63162     4.09171 \n",
       "   7.80913     7.18503     7.10116        16.7988      9.48035     8.37523 \n",
       "   1.84796     1.70027     1.68043         3.9753      2.24344     1.98192 \n",
       "   ⋮                                 ⋱                 ⋮                   \n",
       "   6.55729     6.03323     5.96281        14.1059      7.9606      7.03263 \n",
       "   5.00738     4.60719     4.55342        10.7718      6.07901     5.37037 \n",
       "  13.353      12.2859     12.1424         28.7247     16.2107     14.321   \n",
       "   4.35165     4.00387     3.95714   …     9.36118     5.28295     4.66711 \n",
       "   0.417282    0.383933    0.379451        0.897648    0.506584    0.447531\n",
       "   3.21903     2.96177     2.9272          6.92471     3.90793     3.45238 \n",
       "   2.44408     2.24875     2.2225          5.25765     2.96713     2.62125 \n",
       "  31.7134     29.1789     28.8383         68.2212     38.5004     34.0124  \n",
       "   5.48427     5.04598     4.98708   …    11.7977      6.65796     5.88184 \n",
       "   1.49029     1.37119     1.35518         3.20588     1.80923     1.59833 \n",
       " 144.916     133.334     131.778         311.74      175.929     155.421   \n",
       "   5.1266      4.71689     4.66183        11.0282      6.22374     5.49824 "
      ]
     },
     "execution_count": 68,
     "metadata": {},
     "output_type": "execute_result"
    }
   ],
   "source": [
    "model.components[:UrbanDemand].Parameters.domesticdemand"
   ]
  },
  {
   "cell_type": "code",
   "execution_count": 55,
   "metadata": {
    "collapsed": false
   },
   "outputs": [
    {
     "data": {
      "text/plain": [
       "initurbandemandcolorado (generic function with 1 method)"
      ]
     },
     "execution_count": 55,
     "metadata": {},
     "output_type": "execute_result"
    }
   ],
   "source": [
    "function initurbandemandcolorado(m::Model)\n",
    "    urbandemand = addcomponent(m, Urbandemand)\n",
    "    recorded = readtable(datapath(\"Colorado/domestic.csv\"));\n",
    "\n",
    "    urbandemand[:domesticdemand] = convert(Matrix, recorded)/1000.;\n",
    "    M = zeros(m.indices_counts[:regions], m.indices_counts[:time]);\n",
    "    urbandemand[:commercialdemand] = 0*M;\n",
    "    urbandemand\n",
    "end\n"
   ]
  },
  {
   "cell_type": "code",
   "execution_count": 56,
   "metadata": {
    "collapsed": false
   },
   "outputs": [
    {
     "data": {
      "text/plain": [
       "initagriculturecolorado (generic function with 1 method)"
      ]
     },
     "execution_count": 56,
     "metadata": {},
     "output_type": "execute_result"
    }
   ],
   "source": [
    "function initagriculturecolorado(m::Model)\n",
    "    agriculture = addcomponent(m, Agriculture)\n",
    "    recorded = readtable(datapath(\"Colorado/agriculture.csv\"));\n",
    "    agriculture[:water_demand] = convert(Matrix, recorded)/1000.;\n",
    "\n",
    "    agriculture\n",
    "end\n"
   ]
  },
  {
   "cell_type": "code",
   "execution_count": null,
   "metadata": {
    "collapsed": true
   },
   "outputs": [],
   "source": []
  }
 ],
 "metadata": {
  "anaconda-cloud": {},
  "kernelspec": {
   "display_name": "Julia 0.4.6",
   "language": "julia",
   "name": "julia-0.4"
  },
  "language_info": {
   "file_extension": ".jl",
   "mimetype": "application/julia",
   "name": "julia",
   "version": "0.4.6"
  }
 },
 "nbformat": 4,
 "nbformat_minor": 0
}
