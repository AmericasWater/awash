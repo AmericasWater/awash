{
 "cells": [
  {
   "cell_type": "markdown",
   "metadata": {},
   "source": [
    "# Groundwater notebook"
   ]
  },
  {
   "cell_type": "markdown",
   "metadata": {},
   "source": [
    "The Groundwater model describes the dynamics of the subsurface water at the county-scale. The two main phenomenon are the evolution of piezometric head (function of recharge, withdrawals and lateral flows) and the lateral flows (exchange of flow due to the difference in head between two adjacent counties)."
   ]
  },
  {
   "cell_type": "markdown",
   "metadata": {},
   "source": [
    "# The aquifer component"
   ]
  },
  {
   "cell_type": "markdown",
   "metadata": {},
   "source": [
    "(problem with my julia kernel - in plain text for now)"
   ]
  },
  {
   "cell_type": "markdown",
   "metadata": {},
   "source": [
    "@defcomp Aquifer begin\n",
    "  aquifers = Index()\n",
    "\n",
    "  #Aquifer description\n",
    "  depthaquif = Parameter(index=[aquifers], units=\"1 m\")\n",
    "  areaaquif = Parameter(index=[aquifers], units=\"1000 m^3\")\n",
    "  storagecoef = Parameter(index=[aquifers], units=\"\")\n",
    "\n",
    "  #Recharge\n",
    "  recharge = Parameter(index=[aquifers, time], units=\"1000m^3\")\n",
    "\n",
    "  #Withdrawals - to be optimised\n",
    "  withdrawal = Parameter(index=[aquifers, time], units=\"1000m^3\")\n",
    "\n",
    "  #Lateral flows\n",
    "  lateralflows = Variable(index=[aquifers, time], units=\"1000m^3)\n",
    "  aquiferconnexion = Parameter(index=[aquifers, aquifers], units =\"\") # aquiferconnexion[aa,aa']=1 -> aquifers are connected, 0 otherwise.\n",
    "  lateralconductivity = Parameter(index=[aquifers, aquifers], units=\"1000m^2/month\") ## how should I specify per month per year?\n",
    "  deltatime = Parameter(\"units=month\")\n",
    "\n",
    "  #Piezometric head\n",
    "  piezohead0 = Parameter(index=[aquifers], units=\"1 m\") # used for initialisation\n",
    "  piezohead = Variable(index=[aquifers, time], units=\"1 m\")\n",
    "end"
   ]
  },
  {
   "cell_type": "markdown",
   "metadata": {},
   "source": [
    "# Model equations"
   ]
  },
  {
   "cell_type": "markdown",
   "metadata": {},
   "source": [
    "The two equations at the heart of the component are the one describing the evolution of the piezometric head (measured as the distance between the county elevation and the water table - drawdown would be more appropriate):"
   ]
  },
  {
   "cell_type": "markdown",
   "metadata": {},
   "source": [
    "piezohead[a,t] = piezohead[a,t-1] + 1/(storagecoef[a]*areaaquif[a])*(- recharge[a,t] + withdrawal[a,t] + lateralflows[a,t])"
   ]
  },
  {
   "cell_type": "markdown",
   "metadata": {},
   "source": [
    "And the one describing the lateral flows:"
   ]
  },
  {
   "cell_type": "markdown",
   "metadata": {},
   "source": [
    "lateralflows[a,t] = \\sum_{a\\*} lateralconductivity[a,a\\*] \\* (piezohead[a\\*,tt-1]-piezohead[a,tt-1])"
   ]
  },
  {
   "cell_type": "markdown",
   "metadata": {},
   "source": [
    "# Functions"
   ]
  },
  {
   "cell_type": "markdown",
   "metadata": {},
   "source": [
    "Groundwater.jl contains a serie of functions:\n",
    "    - The timestep function computes the variables evolution using the two precedently described equations\n",
    "    - The constraints functions min and max ensure that the piezohead > 0 (non-artesian well) and piezohead < depthaquifer (i.e. confined aquifers remain confined and unconfined aquifer can entirely depleted)\n",
    "    - The initialisation function initaquifercontus to set the component and describe the subsurface for all of CONTUS at a county-scale"
   ]
  },
  {
   "cell_type": "markdown",
   "metadata": {},
   "source": [
    "# Subsurface model"
   ]
  },
  {
   "cell_type": "markdown",
   "metadata": {},
   "source": [
    "*illustrations and description to come*"
   ]
  },
  {
   "cell_type": "markdown",
   "metadata": {},
   "source": [
    "# Data"
   ]
  },
  {
   "cell_type": "markdown",
   "metadata": {},
   "source": [
    "*sources description to come*"
   ]
  },
  {
   "cell_type": "code",
   "execution_count": null,
   "metadata": {
    "collapsed": true
   },
   "outputs": [],
   "source": []
  }
 ],
 "metadata": {
  "kernelspec": {
   "display_name": "Python 2",
   "language": "python",
   "name": "python2"
  },
  "language_info": {
   "codemirror_mode": {
    "name": "ipython",
    "version": 2
   },
   "file_extension": ".py",
   "mimetype": "text/x-python",
   "name": "python",
   "nbconvert_exporter": "python",
   "pygments_lexer": "ipython2",
   "version": "2.7.11"
  }
 },
 "nbformat": 4,
 "nbformat_minor": 0
}
