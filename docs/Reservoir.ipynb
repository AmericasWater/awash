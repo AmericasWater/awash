{
 "cells": [
  {
   "cell_type": "markdown",
   "metadata": {},
   "source": [
    "Reservoirs store water between timesteps.  They are nodes in the water network, and receive upstream flows and precipitation, and provide withdrawals to canals.  However, their outflows are determined by an optimization."
   ]
  },
  {
   "cell_type": "markdown",
   "metadata": {},
   "source": [
    "# Selecting Reservoirs\n",
    "\n",
    "The reservoirs that should be modeled as storing water across period, rather than acting like stream nodes, differ depending on the timestep.  The function that provides a list of reservoirs is `getreservoirs(config)`."
   ]
  },
  {
   "cell_type": "code",
   "execution_count": 2,
   "metadata": {
    "collapsed": false,
    "scrolled": true
   },
   "outputs": [
    {
     "data": {
      "text/plain": [
       "Dict{Any,Any} with 6 entries:\n",
       "  \"startweather\" => 1\n",
       "  \"timestep\"     => 6\n",
       "  \"netset\"       => \"usa\"\n",
       "  \"filterstate\"  => nothing\n",
       "  \"endmonth\"     => \"9/2010\"\n",
       "  \"startmonth\"   => \"10/2000\""
      ]
     },
     "execution_count": 2,
     "metadata": {},
     "output_type": "execute_result"
    }
   ],
   "source": [
    "include(\"../src/lib/readconfig.jl\")\n",
    "include(\"../src/lib/reservoirs.jl\")\n",
    "\n",
    "config = readconfig(\"../configs/standard.yml\")"
   ]
  },
  {
   "cell_type": "code",
   "execution_count": 4,
   "metadata": {
    "collapsed": false
   },
   "outputs": [
    {
     "data": {
      "text/latex": [
       "Return a DataFrame containing \\texttt{collection} and \\texttt{colid} fields matching those in the Water Network.\n",
       "Any additional columns can be provided, to be used by other components.\n",
       "Rows may be excluded, to represent that a given reservoir should be modeled as a stream at the specified timestep (in months).\n"
      ],
      "text/markdown": [
       "Return a DataFrame containing `collection` and `colid` fields matching those in the Water Network.\n",
       "\n",
       "Any additional columns can be provided, to be used by other components.\n",
       "\n",
       "Rows may be excluded, to represent that a given reservoir should be modeled as a stream at the specified timestep (in months).\n"
      ],
      "text/plain": [
       "Return a DataFrame containing `collection` and `colid` fields matching those in the Water Network.\n",
       "\n",
       "Any additional columns can be provided, to be used by other components.\n",
       "\n",
       "Rows may be excluded, to represent that a given reservoir should be modeled as a stream at the specified timestep (in months).\n"
      ]
     },
     "execution_count": 4,
     "metadata": {},
     "output_type": "execute_result"
    }
   ],
   "source": [
    "@doc getreservoirs"
   ]
  },
  {
   "cell_type": "code",
   "execution_count": 3,
   "metadata": {
    "collapsed": false
   },
   "outputs": [
    {
     "data": {
      "text/html": [
       "<table class=\"data-frame\"><tr><th></th><th>collection</th><th>colid</th><th>area</th><th>lat</th><th>lon</th><th>elev</th></tr><tr><th>1</th><td>reservoir</td><td>1</td><td>NA</td><td>48.8733</td><td>-122.688</td><td>NA</td></tr><tr><th>2</th><td>reservoir</td><td>2</td><td>145.03944</td><td>48.7583</td><td>-122.422</td><td>NA</td></tr><tr><th>3</th><td>reservoir</td><td>3</td><td>556.84785</td><td>48.6583</td><td>-121.687</td><td>NA</td></tr><tr><th>4</th><td>reservoir</td><td>4</td><td>556.84785</td><td>48.6483</td><td>-121.69</td><td>NA</td></tr><tr><th>5</th><td>reservoir</td><td>5</td><td>2587.40001</td><td>48.7317</td><td>-121.067</td><td>NA</td></tr><tr><th>6</th><td>reservoir</td><td>6</td><td>2913.73875</td><td>48.7133</td><td>-121.13</td><td>NA</td></tr><tr><th>7</th><td>reservoir</td><td>7</td><td>3001.79841</td><td>48.6983</td><td>-121.207</td><td>NA</td></tr><tr><th>8</th><td>reservoir</td><td>8</td><td>769.22703</td><td>48.5483</td><td>-121.74</td><td>NA</td></tr><tr><th>9</th><td>reservoir</td><td>9</td><td>NA</td><td>48.9317</td><td>-119.418</td><td>NA</td></tr><tr><th>10</th><td>reservoir</td><td>10</td><td>797.71692</td><td>48.095</td><td>-123.555</td><td>NA</td></tr><tr><th>11</th><td>reservoir</td><td>11</td><td>NA</td><td>48.8116</td><td>-119.533</td><td>NA</td></tr><tr><th>12</th><td>reservoir</td><td>12</td><td>634.54755</td><td>48.0017</td><td>-123.598</td><td>NA</td></tr><tr><th>13</th><td>reservoir</td><td>13</td><td>NA</td><td>48.9866</td><td>-117.347</td><td>NA</td></tr><tr><th>14</th><td>reservoir</td><td>14</td><td>NA</td><td>48.5583</td><td>-119.745</td><td>NA</td></tr><tr><th>15</th><td>reservoir</td><td>15</td><td>NA</td><td>48.4683</td><td>-120.25</td><td>NA</td></tr><tr><th>16</th><td>reservoir</td><td>16</td><td>313.38879</td><td>48.5416</td><td>-119.747</td><td>NA</td></tr><tr><th>17</th><td>reservoir</td><td>17</td><td>132.607488</td><td>48.84</td><td>-117.288</td><td>NA</td></tr><tr><th>18</th><td>reservoir</td><td>18</td><td>NA</td><td>48.78</td><td>-117.41</td><td>NA</td></tr><tr><th>19</th><td>reservoir</td><td>19</td><td>NA</td><td>48.3616</td><td>-119.697</td><td>NA</td></tr><tr><th>20</th><td>reservoir</td><td>20</td><td>176.11932</td><td>47.975</td><td>-121.687</td><td>NA</td></tr><tr><th>21</th><td>reservoir</td><td>21</td><td>NA</td><td>47.945</td><td>-121.83</td><td>NA</td></tr><tr><th>22</th><td>reservoir</td><td>22</td><td>NA</td><td>47.665</td><td>-122.397</td><td>NA</td></tr><tr><th>23</th><td>reservoir</td><td>23</td><td>106.18959</td><td>47.385</td><td>-123.605</td><td>NA</td></tr><tr><th>24</th><td>reservoir</td><td>24</td><td>33.66987</td><td>48.2217</td><td>-118.893</td><td>NA</td></tr><tr><th>25</th><td>reservoir</td><td>25</td><td>243.45906</td><td>47.4216</td><td>-123.222</td><td>NA</td></tr><tr><th>26</th><td>reservoir</td><td>26</td><td>NA</td><td>47.3983</td><td>-123.2</td><td>NA</td></tr><tr><th>27</th><td>reservoir</td><td>27</td><td>NA</td><td>47.6933</td><td>-121.688</td><td>NA</td></tr><tr><th>28</th><td>reservoir</td><td>28</td><td>95.82963</td><td>48.275</td><td>-118.375</td><td>NA</td></tr><tr><th>29</th><td>reservoir</td><td>29</td><td>1481.47428</td><td>48.49</td><td>-116.902</td><td>NA</td></tr><tr><th>30</th><td>reservoir</td><td>30</td><td>NA</td><td>47.925</td><td>-120.177</td><td>NA</td></tr><tr><th>&vellip;</th><td>&vellip;</td><td>&vellip;</td><td>&vellip;</td><td>&vellip;</td><td>&vellip;</td><td>&vellip;</td></tr></table>"
      ],
      "text/plain": [
       "2671×6 DataFrames.DataFrame\n",
       "│ Row  │ collection  │ colid    │ area    │ lat     │ lon      │ elev    │\n",
       "├──────┼─────────────┼──────────┼─────────┼─────────┼──────────┼─────────┤\n",
       "│ 1    │ \"reservoir\" │ 1        │ NA      │ 48.8733 │ -122.688 │ NA      │\n",
       "│ 2    │ \"reservoir\" │ 2        │ 145.039 │ 48.7583 │ -122.422 │ NA      │\n",
       "│ 3    │ \"reservoir\" │ 3        │ 556.848 │ 48.6583 │ -121.687 │ NA      │\n",
       "│ 4    │ \"reservoir\" │ 4        │ 556.848 │ 48.6483 │ -121.69  │ NA      │\n",
       "│ 5    │ \"reservoir\" │ 5        │ 2587.4  │ 48.7317 │ -121.067 │ NA      │\n",
       "│ 6    │ \"reservoir\" │ 6        │ 2913.74 │ 48.7133 │ -121.13  │ NA      │\n",
       "│ 7    │ \"reservoir\" │ 7        │ 3001.8  │ 48.6983 │ -121.207 │ NA      │\n",
       "│ 8    │ \"reservoir\" │ 8        │ 769.227 │ 48.5483 │ -121.74  │ NA      │\n",
       "│ 9    │ \"reservoir\" │ 9        │ NA      │ 48.9317 │ -119.418 │ NA      │\n",
       "│ 10   │ \"reservoir\" │ 10       │ 797.717 │ 48.095  │ -123.555 │ NA      │\n",
       "│ 11   │ \"reservoir\" │ 11       │ NA      │ 48.8116 │ -119.533 │ NA      │\n",
       "⋮\n",
       "│ 2660 │ \"usgsres\"   │ 8123755  │ 67.3397 │ 32.2437 │ -101.312 │ NA      │\n",
       "│ 2661 │ \"usgsres\"   │ 8123950  │ 39569.9 │ 31.8796 │ -100.517 │ NA      │\n",
       "│ 2662 │ \"usgsres\"   │ 8131200  │ 10018.1 │ 31.3821 │ -100.538 │ NA      │\n",
       "│ 2663 │ \"usgsres\"   │ 8134500  │ 3853.91 │ 31.4846 │ -100.482 │ NA      │\n",
       "│ 2664 │ \"usgsres\"   │ 8136600  │ 62258.2 │ 31.5002 │ -99.6684 │ NA      │\n",
       "│ 2665 │ \"usgsres\"   │ 8180010  │ 1680.9  │ 29.5102 │ -98.9014 │ 307.848 │\n",
       "│ 2666 │ \"usgsres\"   │ 8202800  │ 25.8999 │ 29.4452 │ -99.2528 │ 299.323 │\n",
       "│ 2667 │ \"usgsres\"   │ 9125800  │ 152.809 │ 38.2328 │ -107.542 │ 2720.52 │\n",
       "│ 2668 │ \"usgsres\"   │ 9129550  │ 193.213 │ 38.6914 │ -107.606 │ 1997.35 │\n",
       "│ 2669 │ \"usgsres\"   │ 9143600  │ NA      │ 38.8264 │ -107.955 │ 1671.83 │\n",
       "│ 2670 │ \"usgsres\"   │ 9147022  │ 686.347 │ 38.2372 │ -107.758 │ 2094.32 │\n",
       "│ 2671 │ \"usgsres\"   │ 15225990 │ 49.7278 │ 61.0731 │ -146.304 │ 198.12  │"
      ]
     },
     "execution_count": 3,
     "metadata": {},
     "output_type": "execute_result"
    }
   ],
   "source": [
    "getreservoirs(config)"
   ]
  },
  {
   "cell_type": "markdown",
   "metadata": {
    "collapsed": true
   },
   "source": [
    "To understand the functioning of reservoirs, consider how they work in a very simple three gauge example."
   ]
  },
  {
   "cell_type": "code",
   "execution_count": null,
   "metadata": {
    "collapsed": true
   },
   "outputs": [],
   "source": []
  }
 ],
 "metadata": {
  "kernelspec": {
   "display_name": "Julia 0.4.0",
   "language": "julia",
   "name": "julia-0.4"
  },
  "language_info": {
   "file_extension": ".jl",
   "mimetype": "application/julia",
   "name": "julia",
   "version": "0.4.0"
  }
 },
 "nbformat": 4,
 "nbformat_minor": 0
}
