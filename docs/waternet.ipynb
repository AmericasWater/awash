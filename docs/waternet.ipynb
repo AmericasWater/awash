{
 "cells": [
  {
   "cell_type": "markdown",
   "metadata": {},
   "source": [
    "The water network consists of a streamflow network, consisting of connections between river gauges, reservoirs, and junctions, and a canal network.  The canal network is a bipartite network, with links from nodes in the streamflow network and the counties.  The `waternet.jl` file loads these networks into the global environment.  It either uses cached Julia Data (`.jld`) files to speed up the loading process."
   ]
  },
  {
   "cell_type": "markdown",
   "metadata": {},
   "source": [
    "## Scientific documentation\n",
    "\n",
    "The river network is documented here:\n",
    "https://www.overleaf.com/read/gftdkjjkdrsn"
   ]
  },
  {
   "cell_type": "markdown",
   "metadata": {},
   "source": [
    "## The Canal Network\n",
    "\n",
    "The canal network is first produced in `R` and then loaded into Julia.  In Julia, it is used as just a DataFrame with the names of the river network nodes added."
   ]
  },
  {
   "cell_type": "markdown",
   "metadata": {},
   "source": [
    "The columns in the `waterdraws.jld` data are as follows:\n",
    "\n",
    "* The **fips** column is the FIPS code of the receiving county.\n",
    "* The **source** column is the row number of the gauge, as it appears in the `network` variable of the `waternet.RData` file.\n",
    "* The **justif** column provides a justification for why the gauge should be available for feeding the county.  It contains short categorical entries, described in the `R` script that generates the `countydraws.RData` file (`network3/demand/allcounties.R`).\n",
    "* The **downhill** column compares the elevation of the county with the elevation of the gauge, if we know it.  It is 1 if county's average elevation is below the gauges, such that the water can be tapped for free.\n",
    "* The **exdist** column is greater than 0 if the county had to be connected to a gauge arbitrarily to ensure that it had any source.  In this case, the county is connected to the closest gauge, and this column is the geodesic distance in *km*.\n",
    "* The **gaugeid** is the only column added by Julia, and is in the same format as the keys in the `wateridverts` dictionary, which allows easy access to the nodes in the river network by name."
   ]
  },
  {
   "cell_type": "code",
   "execution_count": 8,
   "metadata": {
    "collapsed": false
   },
   "outputs": [
    {
     "data": {
      "text/html": [
       "<table class=\"data-frame\"><tr><th></th><th>fips</th><th>source</th><th>justif</th><th>downhill</th><th>exdist</th><th>gaugeid</th></tr><tr><th>1</th><td>1001</td><td>2262</td><td>contains</td><td>0</td><td>0.0</td><td>usgs.02422500</td></tr><tr><th>2</th><td>1003</td><td>2174</td><td>contains</td><td>0</td><td>0.0</td><td>usgs.02376500</td></tr><tr><th>3</th><td>1003</td><td>2175</td><td>contains</td><td>0</td><td>0.0</td><td>usgs.02377570</td></tr><tr><th>4</th><td>1003</td><td>2176</td><td>contains</td><td>0</td><td>0.0</td><td>usgs.02378170</td></tr><tr><th>5</th><td>1003</td><td>2177</td><td>contains</td><td>0</td><td>0.0</td><td>usgs.02378300</td></tr><tr><th>6</th><td>1003</td><td>2178</td><td>contains</td><td>0</td><td>0.0</td><td>usgs.02378500</td></tr><tr><th>7</th><td>1003</td><td>12946</td><td>contains</td><td>NA</td><td>0.0</td><td>junction.1405-dn</td></tr><tr><th>8</th><td>1003</td><td>12990</td><td>contains</td><td>NA</td><td>0.0</td><td>junction.1487-dn</td></tr><tr><th>9</th><td>1003</td><td>13046</td><td>contains</td><td>NA</td><td>0.0</td><td>junction.1607-up</td></tr><tr><th>10</th><td>1005</td><td>2085</td><td>contains</td><td>1</td><td>0.0</td><td>usgs.02342933</td></tr><tr><th>11</th><td>1005</td><td>13389</td><td>contains</td><td>NA</td><td>0.0</td><td>junction.2322-up</td></tr><tr><th>12</th><td>1005</td><td>13404</td><td>contains</td><td>NA</td><td>0.0</td><td>junction.2350-up</td></tr><tr><th>13</th><td>1007</td><td>2275</td><td>contains</td><td>1</td><td>0.0</td><td>usgs.02424000</td></tr><tr><th>14</th><td>1009</td><td>2314</td><td>contains</td><td>0</td><td>0.0</td><td>usgs.02449882</td></tr><tr><th>15</th><td>1009</td><td>2315</td><td>contains</td><td>0</td><td>0.0</td><td>usgs.02450000</td></tr><tr><th>16</th><td>1009</td><td>2316</td><td>contains</td><td>0</td><td>0.0</td><td>usgs.02450180</td></tr><tr><th>17</th><td>1009</td><td>2321</td><td>contains</td><td>0</td><td>0.0</td><td>usgs.02455000</td></tr><tr><th>18</th><td>1009</td><td>2322</td><td>contains</td><td>1</td><td>0.0</td><td>usgs.02455185</td></tr><tr><th>19</th><td>1009</td><td>11417</td><td>contains</td><td>1</td><td>0.0</td><td>reservoir.2341</td></tr><tr><th>20</th><td>1009</td><td>11423</td><td>contains</td><td>0</td><td>0.0</td><td>reservoir.2347</td></tr><tr><th>21</th><td>1009</td><td>14095</td><td>contains</td><td>NA</td><td>0.0</td><td>junction.3862-dn</td></tr><tr><th>22</th><td>1009</td><td>14110</td><td>contains</td><td>NA</td><td>0.0</td><td>junction.3896-up</td></tr><tr><th>23</th><td>1009</td><td>14181</td><td>contains</td><td>NA</td><td>0.0</td><td>junction.4085-up</td></tr><tr><th>24</th><td>1011</td><td>11553</td><td>contains</td><td>0</td><td>0.0</td><td>reservoir.2482</td></tr><tr><th>25</th><td>1015</td><td>2233</td><td>contains</td><td>1</td><td>0.0</td><td>usgs.02403310</td></tr><tr><th>26</th><td>1015</td><td>2234</td><td>contains</td><td>1</td><td>0.0</td><td>usgs.02403500</td></tr><tr><th>27</th><td>1015</td><td>11425</td><td>contains</td><td>1</td><td>0.0</td><td>reservoir.2349</td></tr><tr><th>28</th><td>1019</td><td>2225</td><td>contains</td><td>0</td><td>0.0</td><td>usgs.02398300</td></tr><tr><th>29</th><td>1019</td><td>2227</td><td>contains</td><td>0</td><td>0.0</td><td>usgs.02399200</td></tr><tr><th>30</th><td>1019</td><td>2228</td><td>contains</td><td>0</td><td>0.0</td><td>usgs.02400100</td></tr><tr><th>&vellip;</th><td>&vellip;</td><td>&vellip;</td><td>&vellip;</td><td>&vellip;</td><td>&vellip;</td><td>&vellip;</td></tr></table>"
      ],
      "text/plain": [
       "21598x6 DataFrames.DataFrame\n",
       "| Row   | fips  | source | justif      | downhill | exdist  |\n",
       "|-------|-------|--------|-------------|----------|---------|\n",
       "| 1     | 1001  | 2262   | \"contains\"  | 0        | 0.0     |\n",
       "| 2     | 1003  | 2174   | \"contains\"  | 0        | 0.0     |\n",
       "| 3     | 1003  | 2175   | \"contains\"  | 0        | 0.0     |\n",
       "| 4     | 1003  | 2176   | \"contains\"  | 0        | 0.0     |\n",
       "| 5     | 1003  | 2177   | \"contains\"  | 0        | 0.0     |\n",
       "| 6     | 1003  | 2178   | \"contains\"  | 0        | 0.0     |\n",
       "| 7     | 1003  | 12946  | \"contains\"  | NA       | 0.0     |\n",
       "| 8     | 1003  | 12990  | \"contains\"  | NA       | 0.0     |\n",
       "| 9     | 1003  | 13046  | \"contains\"  | NA       | 0.0     |\n",
       "| 10    | 1005  | 2085   | \"contains\"  | 1        | 0.0     |\n",
       "| 11    | 1005  | 13389  | \"contains\"  | NA       | 0.0     |\n",
       "⋮\n",
       "| 21587 | 51199 | 1281   | \"down-pipe\" | 1        | 83.2334 |\n",
       "| 21588 | 51650 | 10907  | \"down-pipe\" | 1        | 33.3593 |\n",
       "| 21589 | 51700 | 10907  | \"down-pipe\" | 1        | 31.2913 |\n",
       "| 21590 | 53023 | 8784   | \"down-pipe\" | 1        | 26.3208 |\n",
       "| 21591 | 53029 | 8407   | \"down-pipe\" | 1        | 18.3806 |\n",
       "| 21592 | 53055 | 8423   | \"down-pipe\" | 1        | 37.3665 |\n",
       "| 21593 | 54017 | 2474   | \"down-pipe\" | 1        | 28.941  |\n",
       "| 21594 | 54063 | 2637   | \"down-pipe\" | 1        | 51.7676 |\n",
       "| 21595 | 54087 | 2656   | \"down-pipe\" | 1        | 57.5247 |\n",
       "| 21596 | 55015 | 4093   | \"down-pipe\" | 1        | 57.7027 |\n",
       "| 21597 | 55029 | 9746   | \"down-pipe\" | 1        | 59.0901 |\n",
       "| 21598 | 8014  | 5001   | \"down-pipe\" | 1        | 6.67641 |\n",
       "\n",
       "| Row   | gaugeid            |\n",
       "|-------|--------------------|\n",
       "| 1     | \"usgs.02422500\"    |\n",
       "| 2     | \"usgs.02376500\"    |\n",
       "| 3     | \"usgs.02377570\"    |\n",
       "| 4     | \"usgs.02378170\"    |\n",
       "| 5     | \"usgs.02378300\"    |\n",
       "| 6     | \"usgs.02378500\"    |\n",
       "| 7     | \"junction.1405-dn\" |\n",
       "| 8     | \"junction.1487-dn\" |\n",
       "| 9     | \"junction.1607-up\" |\n",
       "| 10    | \"usgs.02342933\"    |\n",
       "| 11    | \"junction.2322-up\" |\n",
       "⋮\n",
       "| 21587 | \"usgs.02041650\"    |\n",
       "| 21588 | \"reservoir.1822\"   |\n",
       "| 21589 | \"reservoir.1822\"   |\n",
       "| 21590 | \"usgs.13334450\"    |\n",
       "| 21591 | \"usgs.12158010\"    |\n",
       "| 21592 | \"usgs.12201500\"    |\n",
       "| 21593 | \"usgs.03058500\"    |\n",
       "| 21594 | \"usgs.03178500\"    |\n",
       "| 21595 | \"usgs.03191500\"    |\n",
       "| 21596 | \"usgs.05423000\"    |\n",
       "| 21597 | \"reservoir.621\"    |\n",
       "| 21598 | \"usgs.06720820\"    |"
      ]
     },
     "execution_count": 8,
     "metadata": {},
     "output_type": "execute_result"
    }
   ],
   "source": [
    "using DataFrames\n",
    "draws = deserialize(open(\"../data/waterdraws.jld\", \"r\"))"
   ]
  },
  {
   "cell_type": "code",
   "execution_count": null,
   "metadata": {
    "collapsed": true
   },
   "outputs": [],
   "source": []
  }
 ],
 "metadata": {
  "kernelspec": {
   "display_name": "Julia 0.4.0",
   "language": "julia",
   "name": "julia-0.4"
  },
  "language_info": {
   "file_extension": ".jl",
   "mimetype": "application/julia",
   "name": "julia",
   "version": "0.4.0"
  }
 },
 "nbformat": 4,
 "nbformat_minor": 0
}
