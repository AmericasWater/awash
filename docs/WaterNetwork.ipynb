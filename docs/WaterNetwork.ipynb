{
 "cells": [
  {
   "cell_type": "markdown",
   "metadata": {},
   "source": [
    "The `WaterNetwork` component uses the America's Water Network to describe how downstream flows depend on upstream flows and withdrawals.\n",
    "\n",
    "The America's Water Network is described in detail in its [working paper](https://www.overleaf.com/read/gftdkjjkdrsn).  The data contained in the network and its loading are described in the sister [`waternet notebook`](https://github.com/AmericasWater/operational-problem/blob/master/docs/waternet.ipynb).\n",
    "\n",
    "The component definition is very simple:"
   ]
  },
  {
   "cell_type": "code",
   "execution_count": 1,
   "metadata": {
    "collapsed": false
   },
   "outputs": [
    {
     "data": {
      "text/plain": [
       "WaterNetwork"
      ]
     },
     "execution_count": 1,
     "metadata": {},
     "output_type": "execute_result"
    }
   ],
   "source": [
    "using Mimi\n",
    "\n",
    "@defcomp WaterNetwork begin\n",
    "    gauges = Index()\n",
    "\n",
    "    # External\n",
    "    added = Parameter(index=[gauges, time], unit=\"1000 m^3\") # Water added at node <- currently just runoff\n",
    "    removed = Parameter(index=[gauges, time], unit=\"1000 m^3\") # Water removed from node\n",
    "\n",
    "    inflows = Variable(index=[gauges, time], unit=\"1000 m^3\") # Sum of upstream outflows\n",
    "    outflows = Variable(index=[gauges, time], unit=\"1000 m^3\") # inflow + added - removed\n",
    "end"
   ]
  },
  {
   "cell_type": "markdown",
   "metadata": {},
   "source": [
    "All of these values are defined for each `gauge`, or node on the river network.  They present a water balance:\n",
    "$$outflows_i(t) = \\sum_{j \\in N(i)} inflows_i(t) + added_i(t) - removed_i(t)$$\n",
    "\n",
    "Where $N(i)$ are the neighbors of gauge $i$, where neighbors are defined as the upstream sources of flow."
   ]
  },
  {
   "cell_type": "markdown",
   "metadata": {},
   "source": [
    "## Initialization\n",
    "\n",
    "- The `added` parameter is set to the runoff calculated by VIC and loaded in `weather.jl`.\n",
    "- The `removed` parameter is set to 0."
   ]
  },
  {
   "cell_type": "code",
   "execution_count": null,
   "metadata": {
    "collapsed": true
   },
   "outputs": [],
   "source": []
  }
 ],
 "metadata": {
  "kernelspec": {
   "display_name": "Julia 0.4.0",
   "language": "julia",
   "name": "julia-0.4"
  },
  "language_info": {
   "file_extension": ".jl",
   "mimetype": "application/julia",
   "name": "julia",
   "version": "0.4.0"
  }
 },
 "nbformat": 4,
 "nbformat_minor": 0
}
