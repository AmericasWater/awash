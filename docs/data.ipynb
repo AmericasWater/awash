{
 "cells": [
  {
   "cell_type": "markdown",
   "metadata": {},
   "source": [
    "This notebook describes the various contents of the `data` directory: what they are, how they are generated, and how they are used.  It is currently an early work in progress."
   ]
  },
  {
   "cell_type": "markdown",
   "metadata": {},
   "source": [
    "The AWASH model uses a consistent set of matrix dimensions for most of its data, which are defined in `world.jl`.\n",
    "\n",
    "| Variable | Description | US count | Order |\n",
    "| --- | --- | --- | --- |\n",
    "| `numcounties` | The number of counties | 3109 | `mastercounties.csv` |\n",
    "| `numedges` | The number of stream links | 18561 | |\n",
    "| `numgauges` | The number of stream nodes | 22559 | |\n",
    "| `numsteps` | The number of time steps | Depends | |\n",
    "| `numcrops` | The number of agricultural crops | 9 | |\n",
    "| `numcanals` | The number of gauge-county links | 21598 | |\n",
    "| `numreservoirs` | The number of stream reservoirs | 2671 | |\n",
    "| `naquifers` | The number of groundwater aquifers | 3108 | |"
   ]
  }
 ],
 "metadata": {
  "kernelspec": {
   "display_name": "Julia 0.4.0",
   "language": "julia",
   "name": "julia-0.4"
  },
  "language_info": {
   "file_extension": ".jl",
   "mimetype": "application/julia",
   "name": "julia",
   "version": "0.4.0"
  }
 },
 "nbformat": 4,
 "nbformat_minor": 0
}
