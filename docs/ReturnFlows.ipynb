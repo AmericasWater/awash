{
 "cells": [
  {
   "cell_type": "markdown",
   "metadata": {},
   "source": [
    "The ReturnFlows component will eventually handle both the withdrawals and return flows between counties and gauges.  It provides the link between `gauges`, which are nodes in the Water Network, and `canals`, which are the bipartite graph edges that connect `gauges` and `counties`."
   ]
  },
  {
   "cell_type": "markdown",
   "metadata": {},
   "source": [
    "Currently the ReturnFlows component does not handle return flows.  It does, however, handle withdrawals."
   ]
  },
  {
   "cell_type": "code",
   "execution_count": 1,
   "metadata": {
    "collapsed": false
   },
   "outputs": [
    {
     "data": {
      "text/plain": [
       "ReturnFlows"
      ]
     },
     "execution_count": 1,
     "metadata": {},
     "output_type": "execute_result"
    }
   ],
   "source": [
    "using Mimi\n",
    "\n",
    "@defcomp ReturnFlows begin\n",
    "    canals = Index()\n",
    "\n",
    "    # How much to send from each gauge to each county\n",
    "    withdrawals = Parameter(index=[canals, time])\n",
    "\n",
    "    # For now, exact copy of withdrawals; later, the amount actually provided for each withdrawal?\n",
    "    copy_withdrawals = Variable(index=[canals, time])\n",
    "    # Water removed from gauge\n",
    "    removed = Variable(index=[gauges, time])\n",
    "end"
   ]
  },
  {
   "cell_type": "markdown",
   "metadata": {},
   "source": [
    "The ReturnFlows component takes as its input the withdrawals specified on a per-canal basis."
   ]
  },
  {
   "cell_type": "code",
   "execution_count": 2,
   "metadata": {
    "collapsed": false
   },
   "outputs": [
    {
     "data": {
      "text/plain": [
       "timestep (generic function with 3 methods)"
      ]
     },
     "execution_count": 2,
     "metadata": {},
     "output_type": "execute_result"
    }
   ],
   "source": [
    "function timestep(c::ReturnFlows, tt::Int)\n",
    "    v = c.Variables\n",
    "    p = c.Parameters\n",
    "    d = c.Dimensions\n",
    "\n",
    "    for gg in 1:numgauges\n",
    "        v.removed[gg, tt] = 0.\n",
    "    end\n",
    "\n",
    "    for pp in 1:nrow(draws)\n",
    "        v.copy_withdrawals[pp, tt] = p.withdrawals[pp, tt]\n",
    "        if p.withdrawals[pp, tt] > 0\n",
    "            gaugeid = draws[pp, :gaugeid]\n",
    "            gg = vertex_index(wateridverts[gaugeid])\n",
    "            if (gg == 0)\n",
    "                println(\"Missing $gaugeid\")\n",
    "            else\n",
    "                v.removed[gg, tt] += p.withdrawals[pp, tt]\n",
    "            end\n",
    "        end\n",
    "    end\n",
    "end"
   ]
  },
  {
   "cell_type": "markdown",
   "metadata": {},
   "source": [
    "The `timestep` sums up all water removed from each gauge.\n",
    "\n",
    "It would be nice for the ReturnFlows component to take `withdrawals` as \"requested withdrawals\", and then to produce a variable describing \"statisfied withdrawals\", dependent on the availability of river flow at the gauges.  However, since ReturnFlows is run before the WaterNetwork, the full propogation of withdrawals and additions is unknown.\n",
    "\n",
    "The simulation resolves this by applying additions and withdrawals simultaneously all throughout the water network.  However, this logic is more complicated and difficult to debug."
   ]
  },
  {
   "cell_type": "markdown",
   "metadata": {},
   "source": [
    "Future tasks:\n",
    "* Check that in simulation mode, WaterNetwork `added` is incremental, since this specifies that `removed` is incremental.\n",
    "* Extract the `gauge x canal` portion of the WaterNetwork's `grad_waternetwork_outflows_withdrawals` to this component.\n",
    "* Handle actual return flows."
   ]
  }
 ],
 "metadata": {
  "kernelspec": {
   "display_name": "Julia 0.4.0",
   "language": "julia",
   "name": "julia-0.4"
  },
  "language_info": {
   "file_extension": ".jl",
   "mimetype": "application/julia",
   "name": "julia",
   "version": "0.4.0"
  }
 },
 "nbformat": 4,
 "nbformat_minor": 0
}
