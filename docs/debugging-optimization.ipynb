{
 "cells": [
  {
   "cell_type": "markdown",
   "metadata": {},
   "source": [
    "This notebook offers tricks for diagnosing problems in the optimization and debugging them"
   ]
  },
  {
   "cell_type": "markdown",
   "metadata": {},
   "source": [
    "## Finding infeasible pairs\n",
    "\n",
    "What do you do when the model solver returns with \"Infeasible model\"?\n",
    "\n",
    "Consider using the `findinfeasiblepair(house, solver)` tool.  It will give you a range within the matrix for which the results become minimally infeasible.  In other words, suppose that the full linear programming matrix is $A$.  It returns $i$, $j$, such that $A[1:i, :]$ is infeasible, but $A[1:i-1, :]$ is not, and $A[j:end, :]$ is infeasible but $A[j+1:end, :]$ is not."
   ]
  },
  {
   "cell_type": "markdown",
   "metadata": {},
   "source": [
    "You can then investigate individual rows by calling `house.A[row,:]`."
   ]
  },
  {
   "cell_type": "markdown",
   "metadata": {},
   "source": [
    "Note that the linear programming problem is always solved as follows:\n",
    "$$\n",
    "\\max_x f' x\n",
    "$$\n",
    "s.t. $A x < b$ and $x > 0$."
   ]
  },
  {
   "cell_type": "markdown",
   "metadata": {
    "collapsed": true
   },
   "source": [
    "# Breaking apart the matrix\n",
    "\n",
    "The entries in the $f$ vector correspond to a sequences of parameter values, those of the $b$ vector correspond to variable values, and the rows and columns of $A$ correspond to variables and parameters respectively.\n",
    "\n",
    "To find out which parameter a particular column of $A$ or value in $f$ corresponds to, use\n",
    "```\n",
    "cumsum(varlengths(house.model, house.paramcomps, house.parameters))\n",
    "```\n",
    "which gives the **last index** of each paramter.\n",
    "\n",
    "To find out which variable a particular row of $A$ or value in $b$ corresponds to, use\n",
    "```\n",
    "cumsum(varlengths(house.model, house.constcomps, house.constraints, house.constdictionary))\n",
    "```\n",
    "which gives the **last index** of each variable."
   ]
  },
  {
   "cell_type": "code",
   "execution_count": null,
   "metadata": {
    "collapsed": true
   },
   "outputs": [],
   "source": []
  }
 ],
 "metadata": {
  "kernelspec": {
   "display_name": "Julia 0.4.0",
   "language": "julia",
   "name": "julia-0.4"
  },
  "language_info": {
   "file_extension": ".jl",
   "mimetype": "application/julia",
   "name": "julia",
   "version": "0.4.0"
  }
 },
 "nbformat": 4,
 "nbformat_minor": 0
}
