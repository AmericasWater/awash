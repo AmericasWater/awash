{
 "cells": [
  {
   "cell_type": "markdown",
   "metadata": {},
   "source": [
    "The Groundwater model describes the dynamics of the subsurface water at the county-scale. The two main phenomenon are the evolution of piezometric head (function of recharge, withdrawals and lateral flows) and the lateral flows (exchange of flow due to the difference in head between two adjacent counties)."
   ]
  },
  {
   "cell_type": "markdown",
   "metadata": {},
   "source": [
    "The Aquifer component:
@defcomp Aquifer begin
  aquifers = Index()

  # Aquifer description
  depthaquif = Parameter(index=[aquifers], units=1 m)
  areaaquif = Parameter(index=[aquifers], units=1000 m^3)
  storagecoef = Parameter(index=[aquifers], units=)

  # Recharge
  recharge = Parameter(index=[aquifers, time], units=1000m^3)

  # Withdrawals - to be optimised
  withdrawal = Parameter(index=[aquifers, time], units=1000m^3)

  # Lateral flows
  lateralflows = Variable(index=[aquifers, time], units=1000m^3)
  aquiferconnexion = Parameter(index=[aquifers, aquifers], units =) # aquiferconnexion[aa,aa']=1 -> aquifers are connected, 0 otherwise.
  lateralconductivity = Parameter(index=[aquifers, aquifers], units=1000m^2/month) ## how should I specify per month per year?
  deltatime = Parameter(units=month)

  # Piezometric head
  piezohead0 = Parameter(index=[aquifers], units=1 m) # used for initialisation
  piezohead = Variable(index=[aquifers, time], units=1 m)
end"
   ]
  },
  {
   "cell_type": "markdown",
   "metadata": {},
   "source": [
    "The two equations at the heart of the component are the one describing the evolution of the piezometric head:
    piezohead[a,t] = piezohead[a,t-1] + 1/(storagecoef[a]*areaaquif[a])*(- recharge[a,t] + withdrawal[a,t] + lateralflows[a,t])
    And the one describing the lateral flows
    lateralflows[a,t] = \sum_{a*} lateralconductivity[a,a*]*(piezohead[a*,tt-1]-piezohead[a,tt-1])"
   ]
  },
  {
   "cell_type": "markdown",
   "metadata": {},
   "source": [
    "Groundwater.jl contains a serie of functions:
    - The timestep function computes the variables evolution using the two precedently described equations
    - The constraints functions min and max ensure that the piezohead > 0 (non-artesian well) and piezohead < depthaquifer (i.e. confined aquifers remain confined and unconfined aquifer can entirely depleted)
    - The initialisation function initaquifercontus to set the component and describe the subsurface for all of CONTUS at a county-scale"
   ]
  },
  {
   "cell_type": "markdown",
   "metadata": {},
   "source": [
    "Data sources: to come "
   ]
  }
 ],
 "metadata": {
  "kernelspec": {
   "display_name": "Julia 0.4.0",
   "language": "julia",
   "name": "julia-0.4"
  },
  "language_info": {
   "file_extension": ".jl",
   "mimetype": "application/julia",
   "name": "julia",
   "version": "0.4.0"
  }
 },
 "nbformat": 4,
 "nbformat_minor": 0
}
