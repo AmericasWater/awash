{
 "cells": [
  {
   "cell_type": "markdown",
   "metadata": {},
   "source": [
    "The Agricultural model determines the yield and production, as well as the costs of cultivation, for agricultural products."
   ]
  },
  {
   "cell_type": "markdown",
   "metadata": {},
   "source": [
    "Yields are estimated using a linear expression:\n",
    "$$log y_t = \\alpha + \\gamma g_t + \\kappa k_t + \\omega w_t + \\tau t$$\n",
    "\n",
    "where $y_t$ are the yields, in crop-specific units, per acre; $g_t$ and $k_t$ are growing-degree days and extreme degree-days, with crop-specific limtis; $w_t$ is the season-cumulative water deficit; and $t$ is the year.  Greek letters denote calibrated coefficients."
   ]
  },
  {
   "cell_type": "markdown",
   "metadata": {},
   "source": [
    "Currently, nation-wide coefficients for each crop are determined by a pooled regression of available data.  These are then combined with county-specific for counties with observed data, according to:\n",
    "$$\\beta \\sim \\mathcal{N}\\left(\\frac{\\frac{\\hat\\beta}{\\hat\\sigma^2} + \\frac{\\bar\\beta}{\\bar\\sigma^2}}{\\frac{1}{\\hat\\sigma^2} + \\frac{1}{\\bar\\sigma^2}}, \\frac{1}{\\frac{1}{\\hat\\sigma^2} + \\frac{1}{\\bar\\sigma^2}}\\right)$$\n",
    "\n",
    "where $\\hat\\beta$ is a given county unpooled coefficient (one of $\\alpha$, $\\gamma$, $\\kappa$, $\\omega$, and $\\tau$), $\\hat\\sigma$ is its standard error, and $\\bar\\beta$ and $\\bar\\sigma$ are the corresponding national pooled coefficients.\n",
    "\n",
    "This will be replaced with county-specific parameters from [the hierarchical method](https://www.overleaf.com/read/grjyvqjdgqgc), when these are available."
   ]
  },
  {
   "cell_type": "markdown",
   "metadata": {},
   "source": [
    "The list (and order!) of crops is defined in `world.jl`:"
   ]
  },
  {
   "cell_type": "code",
   "execution_count": 1,
   "metadata": {
    "collapsed": false
   },
   "outputs": [
    {
     "data": {
      "text/plain": [
       "9-element Array{ASCIIString,1}:\n",
       " \"alfalfa\"      \n",
       " \"otherhay\"     \n",
       " \"Barley\"       \n",
       " \"Barley.Winter\"\n",
       " \"Maize\"        \n",
       " \"Sorghum\"      \n",
       " \"Soybeans\"     \n",
       " \"Wheat\"        \n",
       " \"Wheat.Winter\" "
      ]
     },
     "execution_count": 1,
     "metadata": {},
     "output_type": "execute_result"
    }
   ],
   "source": [
    "crops = [\"alfalfa\", \"otherhay\", \"Barley\", \"Barley.Winter\", \"Maize\", \"Sorghum\", \"Soybeans\", \"Wheat\", \"Wheat.Winter\"]"
   ]
  },
  {
   "cell_type": "markdown",
   "metadata": {},
   "source": [
    "The key crop-specific definitions are listed in the table below."
   ]
  },
  {
   "cell_type": "code",
   "execution_count": 2,
   "metadata": {
    "collapsed": false
   },
   "outputs": [
    {
     "data": {
      "text/html": [
       "<table class=\"data-frame\"><tr><th></th><th>crop</th><th>unit</th><th>yieldfile</th><th>deficitfile</th><th>eddprefix1</th><th>eddprefix2</th><th>gdd0</th><th>kdd0</th><th>notes</th></tr><tr><th>1</th><td>sorghum</td><td>lb</td><td>sorghum_yield_in_lb_per_acre.csv</td><td>sorghum__unit_area_deficit_in_meter.csv</td><td>Sorghum</td><td>Sorghum.2</td><td>8</td><td>29</td><td>From SorghumGDD.CRO - 1</td></tr><tr><th>2</th><td>hay</td><td>lb</td><td>hay_yield_in_lb_per_acre.csv</td><td>hay__unit_area_deficit_in_meter.csv</td><td>alfalfa</td><td>otherhay</td><td>0</td><td>30</td><td>Made it up.</td></tr><tr><th>3</th><td>wheat</td><td>bu</td><td>wheat_yield_in_bu_per_acre.csv</td><td>wheat__unit_area_deficit_in_meter.csv</td><td>Wheat</td><td>Wheat.Winter</td><td>0</td><td>26</td><td>From WheatGDD.CRO</td></tr><tr><th>4</th><td>soybeans</td><td>bu</td><td>soybeans_yield_in_bu_per_acre.csv</td><td>soybean__unit_area_deficit_in_meter.csv</td><td>Soybeans</td><td>NA</td><td>5</td><td>29</td><td>From SoybeanGDD.CRO - 1</td></tr><tr><th>5</th><td>barley</td><td>bu</td><td>barley_yield_in_bu_per_acre.csv</td><td>barley__unit_area_deficit_in_meter.csv</td><td>Barley</td><td>Barley.Winter</td><td>0</td><td>15</td><td>From BarleyGDD.CRO</td></tr><tr><th>6</th><td>corn</td><td>bu</td><td>corn_yield_in_bu_per_acre.csv</td><td>corn__unit_area_deficit_in_meter.csv</td><td>Maize</td><td>Maize.2</td><td>8</td><td>29</td><td>From Shlenker and Roberts</td></tr><tr><th>7</th><td>cotton</td><td>lb</td><td>cotton_yield_in_lb_per_acre.csv</td><td>cotton__unit_area_deficit_in_meter.csv</td><td>Cotton</td><td>NA</td><td>12</td><td>31</td><td>From CottonGDD.CRO cap at 31</td></tr><tr><th>8</th><td>rice</td><td>lb</td><td>rice_yield_in_lb_per_acre.csv</td><td>rice__unit_area_deficit_in_meter.csv</td><td>Rice</td><td>Rice.2</td><td>8</td><td>29</td><td>From PaddyRiceGDD.CRO - 1</td></tr></table>"
      ],
      "text/plain": [
       "8×9 DataFrames.DataFrame\n",
       "│ Row │ crop       │ unit │ yieldfile                           │\n",
       "├─────┼────────────┼──────┼─────────────────────────────────────┤\n",
       "│ 1   │ \"sorghum\"  │ \"lb\" │ \"sorghum_yield_in_lb_per_acre.csv\"  │\n",
       "│ 2   │ \"hay\"      │ \"lb\" │ \"hay_yield_in_lb_per_acre.csv\"      │\n",
       "│ 3   │ \"wheat\"    │ \"bu\" │ \"wheat_yield_in_bu_per_acre.csv\"    │\n",
       "│ 4   │ \"soybeans\" │ \"bu\" │ \"soybeans_yield_in_bu_per_acre.csv\" │\n",
       "│ 5   │ \"barley\"   │ \"bu\" │ \"barley_yield_in_bu_per_acre.csv\"   │\n",
       "│ 6   │ \"corn\"     │ \"bu\" │ \"corn_yield_in_bu_per_acre.csv\"     │\n",
       "│ 7   │ \"cotton\"   │ \"lb\" │ \"cotton_yield_in_lb_per_acre.csv\"   │\n",
       "│ 8   │ \"rice\"     │ \"lb\" │ \"rice_yield_in_lb_per_acre.csv\"     │\n",
       "\n",
       "│ Row │ deficitfile                               │ eddprefix1 │\n",
       "├─────┼───────────────────────────────────────────┼────────────┤\n",
       "│ 1   │ \"sorghum__unit_area_deficit_in_meter.csv\" │ \"Sorghum\"  │\n",
       "│ 2   │ \"hay__unit_area_deficit_in_meter.csv\"     │ \"alfalfa\"  │\n",
       "│ 3   │ \"wheat__unit_area_deficit_in_meter.csv\"   │ \"Wheat\"    │\n",
       "│ 4   │ \"soybean__unit_area_deficit_in_meter.csv\" │ \"Soybeans\" │\n",
       "│ 5   │ \"barley__unit_area_deficit_in_meter.csv\"  │ \"Barley\"   │\n",
       "│ 6   │ \"corn__unit_area_deficit_in_meter.csv\"    │ \"Maize\"    │\n",
       "│ 7   │ \"cotton__unit_area_deficit_in_meter.csv\"  │ \"Cotton\"   │\n",
       "│ 8   │ \"rice__unit_area_deficit_in_meter.csv\"    │ \"Rice\"     │\n",
       "\n",
       "│ Row │ eddprefix2      │ gdd0 │ kdd0 │ notes                          │\n",
       "├─────┼─────────────────┼──────┼──────┼────────────────────────────────┤\n",
       "│ 1   │ \"Sorghum.2\"     │ 8    │ 29   │ \"From SorghumGDD.CRO - 1\"      │\n",
       "│ 2   │ \"otherhay\"      │ 0    │ 30   │ \"Made it up.\"                  │\n",
       "│ 3   │ \"Wheat.Winter\"  │ 0    │ 26   │ \"From WheatGDD.CRO\"            │\n",
       "│ 4   │ NA              │ 5    │ 29   │ \"From SoybeanGDD.CRO - 1\"      │\n",
       "│ 5   │ \"Barley.Winter\" │ 0    │ 15   │ \"From BarleyGDD.CRO\"           │\n",
       "│ 6   │ \"Maize.2\"       │ 8    │ 29   │ \"From Shlenker and Roberts\"    │\n",
       "│ 7   │ NA              │ 12   │ 31   │ \"From CottonGDD.CRO cap at 31\" │\n",
       "│ 8   │ \"Rice.2\"        │ 8    │ 29   │ \"From PaddyRiceGDD.CRO - 1\"    │"
      ]
     },
     "execution_count": 2,
     "metadata": {},
     "output_type": "execute_result"
    }
   ],
   "source": [
    "using DataFrames\n",
    "readtable(\"../prepare/agriculture/cropmapping.csv\")[:, [:crop, :unit, :yieldfile, :deficitfile, :eddprefix1, :eddprefix2, :gdd0, :kdd0, :notes]]"
   ]
  },
  {
   "cell_type": "markdown",
   "metadata": {},
   "source": [
    "The yield file and deficit files are available from Naresh.  The EDD suffixes describe the source of season spans, from [Sacks et al. 2010](https://nelson.wisc.edu/sage/data-and-models/crop-calendar-dataset/index.php) and [USDA 1997](http://swat.tamu.edu/media/90113/crops-typicalplanting-harvestingdates-by-states.pdf).  The information for agricultural production comes from quickstats."
   ]
  },
  {
   "cell_type": "markdown",
   "metadata": {},
   "source": [
    "In the model, the coefficients on temperature, $\\gamma$ and $\\kappa$ are not used, and $\\tau$ is not used (but all regressions have time centered on 2000).  Instead, irrigated regions are assumed to have $\\bar{y}_t = e^\\alpha$.  Rainfed areas have yields $\\ddot{y}_t = e^{\\alpha + \\omega (m - p_t)}$, where $m$ is the water requirement of each crop, determined as the maximum water deficit observed for that crop from Naresh's data.  $p_t$ is the season-total precipitation, with seasons currently corresponding to timesteps (typically 6 months).\n",
    "\n",
    "The water requirements by crop are below, in m."
   ]
  },
  {
   "cell_type": "code",
   "execution_count": 5,
   "metadata": {
    "collapsed": false,
    "scrolled": true
   },
   "outputs": [
    {
     "name": "stdout",
     "output_type": "stream",
     "text": [
      "Loading from saved region network...\n"
     ]
    },
    {
     "data": {
      "text/plain": [
       "Dict{ASCIIString,Float64} with 9 entries:\n",
       "  \"otherhay\"      => 1.63961100235402\n",
       "  \"Barley\"        => 1.18060761343329\n",
       "  \"alfalfa\"       => 1.63961100235402\n",
       "  \"Barley.Winter\" => 1.18060761343329\n",
       "  \"Soybeans\"      => 1.37599595071683\n",
       "  \"Wheat\"         => 0.684836198198068\n",
       "  \"Wheat.Winter\"  => 0.684836198198068\n",
       "  \"Sorghum\"       => 1.1364914374721\n",
       "  \"Maize\"         => 1.47596435526564"
      ]
     },
     "execution_count": 5,
     "metadata": {},
     "output_type": "execute_result"
    }
   ],
   "source": [
    "todata = \"../data\"\n",
    "include(\"../src/Agriculture.jl\")\n",
    "water_requirements"
   ]
  },
  {
   "cell_type": "markdown",
   "metadata": {},
   "source": [
    "The total production for a county is\n",
    "$$q_t = \\bar{y}_i \\bar{a}_i + \\ddot{y}_i \\ddot{a}_i$$\n",
    "\n",
    "where $\\bar{a}_i$ is the area used for irrigated production, and $\\ddot{a}_i$ is the area used for rainfed irrigation."
   ]
  },
  {
   "cell_type": "markdown",
   "metadata": {},
   "source": [
    "According to the definitions above, irrigated regions are fully and exactly irrigated.  Irrigation water demand for each crop is $\\bar{a}_i (m - p_t)$"
   ]
  },
  {
   "cell_type": "markdown",
   "metadata": {},
   "source": [
    "The Agriculture component also defines cultivation costs, below, as USD per acre, from some source."
   ]
  },
  {
   "cell_type": "code",
   "execution_count": 6,
   "metadata": {
    "collapsed": false
   },
   "outputs": [
    {
     "data": {
      "text/plain": [
       "Dict{ASCIIString,Float64} with 9 entries:\n",
       "  \"otherhay\"      => 306.0\n",
       "  \"Barley\"        => 442.0\n",
       "  \"alfalfa\"       => 306.0\n",
       "  \"Barley.Winter\" => 442.0\n",
       "  \"Soybeans\"      => 221.0\n",
       "  \"Wheat\"         => 263.0\n",
       "  \"Wheat.Winter\"  => 263.0\n",
       "  \"Sorghum\"       => 314.0\n",
       "  \"Maize\"         => 554.0"
      ]
     },
     "execution_count": 6,
     "metadata": {},
     "output_type": "execute_result"
    }
   ],
   "source": [
    "cultivation_costs"
   ]
  },
  {
   "cell_type": "markdown",
   "metadata": {},
   "source": [
    "![Known crops](images/knowncrops.png \"Known crops\")"
   ]
  },
  {
   "cell_type": "code",
   "execution_count": null,
   "metadata": {
    "collapsed": true
   },
   "outputs": [],
   "source": []
  }
 ],
 "metadata": {
  "kernelspec": {
   "display_name": "Julia 0.4.0",
   "language": "julia",
   "name": "julia-0.4"
  },
  "language_info": {
   "file_extension": ".jl",
   "mimetype": "application/julia",
   "name": "julia",
   "version": "0.4.0"
  }
 },
 "nbformat": 4,
 "nbformat_minor": 0
}
