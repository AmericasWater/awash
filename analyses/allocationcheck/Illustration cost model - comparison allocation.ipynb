{
 "cells": [
  {
   "cell_type": "markdown",
   "metadata": {},
   "source": [
    "# Sensitivity analysis to cost models\n",
    "Water demands can be met by numerous sources of water. AWASH performs the allocation of water by solving an optimization problem resulting in the least costly solution to meet water demands under the environmental constraints. In this notebook, we conduct a sensitivity analysis to the choice of cost model for water. \n"
   ]
  },
  {
   "cell_type": "markdown",
   "metadata": {},
   "source": [
    "## Impact on optimize-surface\n",
    "Surface water use estimates are generally known at facility-, municipality- or county-level (e.g. USGS). To relate these numbers to the surface water network, an optimization problem is solved to determine the withdrawals at each canals linking nodes of the network (gauges) to the counties. As water in the network may be insufficient to meet demands, the model quantifies this failure by considering a super source. \n",
    "\n",
    "Two models are considered here: 1. cost is uniform, 2. cost is proportional to the relative elevation of the point of source and point of use (meaning if the gauge is at a lower altitude than the county, pumping costs are proportional to the elevation difference, if it is higher, cost is null)."
   ]
  },
  {
   "cell_type": "code",
   "execution_count": 1,
   "metadata": {
    "collapsed": false
   },
   "outputs": [
    {
     "name": "stdout",
     "output_type": "stream",
     "text": [
      "\u001b[0;1;34;94m┌───────────────\u001b[0;34m────────────────\u001b[0;37m────────────────\u001b[0;1;30;90m───┐\u001b[0m\n",
      "\u001b[0;34m│\u001b[0m    \u001b[0;34m▄▄\u001b[0m    \u001b[0;34m▄▄\u001b[0m      \u001b[0;37m▄▄\u001b[0m    \u001b[0;37m▄▄\u001b[0m       \u001b[0;1;30;90m▄▄▄▄\u001b[0m    \u001b[0;1;30;90m▄▄\u001b[0m    \u001b[0;1;34;94m▄▄\u001b[0m \u001b[0;1;34;94m│\u001b[0m\n",
      "\u001b[0;34m│\u001b[0m   \u001b[0;34m████\u001b[0m   \u001b[0;37m██\u001b[0m      \u001b[0;37m██\u001b[0m   \u001b[0;1;30;90m████\u001b[0m    \u001b[0;1;30;90m▄█▀▀▀▀█\u001b[0m   \u001b[0;1;34;94m██\u001b[0m    \u001b[0;1;34;94m██\u001b[0m \u001b[0;1;34;94m│\u001b[0m\n",
      "\u001b[0;37m│\u001b[0m   \u001b[0;37m████\u001b[0m   \u001b[0;37m▀█▄\u001b[0m \u001b[0;37m█\u001b[0;1;30;90m█\u001b[0m \u001b[0;1;30;90m▄█▀\u001b[0m   \u001b[0;1;30;90m████\u001b[0m    \u001b[0;1;34;94m██▄\u001b[0m       \u001b[0;1;34;94m██\u001b[0m    \u001b[0;34m██\u001b[0m \u001b[0;34m│\u001b[0m\n",
      "\u001b[0;37m│\u001b[0m  \u001b[0;37m██\u001b[0m  \u001b[0;37m█\u001b[0;1;30;90m█\u001b[0m   \u001b[0;1;30;90m██\u001b[0m \u001b[0;1;30;90m██\u001b[0m \u001b[0;1;30;90m██\u001b[0m   \u001b[0;1;30;90m█\u001b[0;1;34;94m█\u001b[0m  \u001b[0;1;34;94m██\u001b[0m    \u001b[0;1;34;94m▀████▄\u001b[0m   \u001b[0;34m████████\u001b[0m \u001b[0;34m│\u001b[0m\n",
      "\u001b[0;1;30;90m│\u001b[0m  \u001b[0;1;30;90m██████\u001b[0m   \u001b[0;1;30;90m███▀\u001b[0;1;34;94m▀███\u001b[0m   \u001b[0;1;34;94m██████\u001b[0m        \u001b[0;34m▀██\u001b[0m  \u001b[0;34m██\u001b[0m    \u001b[0;37m██\u001b[0m \u001b[0;37m│\u001b[0m\n",
      "\u001b[0;1;30;90m│\u001b[0m \u001b[0;1;30;90m▄██\u001b[0m  \u001b[0;1;30;90m█\u001b[0;1;34;94m█▄\u001b[0m  \u001b[0;1;34;94m███\u001b[0m  \u001b[0;1;34;94m███\u001b[0m  \u001b[0;1;34;94m▄█\u001b[0;34m█\u001b[0m  \u001b[0;34m██▄\u001b[0m  \u001b[0;34m█▄▄▄▄▄█▀\u001b[0m  \u001b[0;37m██\u001b[0m    \u001b[0;37m██\u001b[0m \u001b[0;37m│\u001b[0m\n",
      "\u001b[0;1;34;94m│\u001b[0m \u001b[0;1;34;94m▀▀\u001b[0m    \u001b[0;1;34;94m▀▀\u001b[0m  \u001b[0;1;34;94m▀▀▀\u001b[0m  \u001b[0;34m▀▀▀\u001b[0m  \u001b[0;34m▀▀\u001b[0m    \u001b[0;34m▀▀\u001b[0m   \u001b[0;37m▀▀▀▀▀\u001b[0m    \u001b[0;37m▀▀\u001b[0m    \u001b[0;1;30;90m▀▀\u001b[0m \u001b[0;1;30;90m│\u001b[0m\n",
      "\u001b[0;34m└───────\u001b[0;37m────────────────\u001b[0;1;30;90m────────────────\u001b[0;1;34;94m───────────┘\u001b[0m\n",
      "\n",
      "Welcome to AWASH, the America's Water Model, version 0.7.\n",
      "\n"
     ]
    },
    {
     "name": "stderr",
     "output_type": "stream",
     "text": [
      "WARNING: using RCall.isna in module Main conflicts with an existing identifier.\n"
     ]
    },
    {
     "name": "stdout",
     "output_type": "stream",
     "text": [
      "Loading from saved region network...\n"
     ]
    },
    {
     "name": "stderr",
     "output_type": "stream",
     "text": [
      "WARNING: Base.String is deprecated, use AbstractString instead.\n",
      "  likely near /Users/ljosset/.julia/v0.4/Graphs/src/common.jl:3\n",
      "WARNING: Base.String is deprecated, use AbstractString instead.\n",
      "  likely near /Users/ljosset/.julia/v0.4/Graphs/src/dot.jl:80\n",
      "WARNING: imported binding for edges overwritten in module Main\n"
     ]
    },
    {
     "name": "stdout",
     "output_type": "stream",
     "text": [
      "Loading from saved water network...\n",
      "Optimize a model with 68238 rows, 106088 columns and 3732956 nonzeros\n",
      "Coefficient statistics:\n",
      "  Matrix range    [1e+00, 1e+00]\n",
      "  Objective range [1e+06, 1e+06]\n",
      "  Bounds range    [0e+00, 0e+00]\n",
      "  RHS range       [7e-02, 1e+14]\n",
      "\n",
      "Concurrent LP optimizer: dual simplex and barrier\n",
      "Showing barrier log only...\n",
      "\n",
      "Presolve removed 18020 rows and 14465 columns\n",
      "Presolve time: 4.98s\n",
      "Presolved: 50218 rows, 91984 columns, 2298775 nonzeros\n",
      "\n",
      "Ordering time: 0.78s\n",
      "\n",
      "Barrier statistics:\n",
      " Free vars  : 361\n",
      " AA' NZ     : 1.489e+06\n",
      " Factor NZ  : 2.377e+06 (roughly 80 MBytes of memory)\n",
      " Factor Ops : 2.115e+08 (less than 1 second per iteration)\n",
      " Threads    : 1\n",
      "\n",
      "                  Objective                Residual\n",
      "Iter       Primal          Dual         Primal    Dual     Compl     Time\n",
      "   0   5.32900070e+19 -1.11429078e+21  1.29e+13 3.19e+05  8.32e+15     9s\n",
      "   1   5.32909767e+19 -1.49135815e+22  1.29e+13 7.76e+05  8.34e+15    10s\n",
      "   2   5.32914022e+19 -9.09331704e+24  1.29e+13 7.93e+05  7.72e+16    11s\n",
      "\n",
      "Barrier performed 2 iterations in 10.88 seconds\n",
      "Barrier solve interrupted - model solved by another algorithm\n",
      "\n",
      "\n",
      "Solved with dual simplex\n",
      "Solved in 26445 iterations and 11.38 seconds\n",
      "Optimal objective  5.915807814e+13\n",
      "Warning: unscaled primal violation = 0.00142757 and residual = 0.00151025\n",
      " 16.785540 seconds (3.79 M allocations: 290.175 MB, 1.24% gc time)\n",
      "supersourcesupply\n",
      "[3158.4676981989687,847.663350800653,0.0,0.0,0.0,297.34499999999997,120.53757515873014,1989.0130311405837,3077.1750000000006,26.833980001170232,1362.2549999999999,0.0,0.0,288.0782489729022,62.94761263779526,350.1995858547709,0.0,0.0,0.0,1325.0195545908182,0.0,3449.5835561609238,0.0,0.0,1235.5202869103323,7008.43924754902,0.0,0.0,2506.500635847209,0.0,0.0,2679.340115821641,2319.3880172723248,1056.9440893041751,0.0,19780.099444607575,19571.061624795693,96.81,8906.52,0.0,11084.745,0.0,1233.2486618581283,3319.1999999999994,5398.899870589088,3316.534027404272,0.0,0.0,23347.30698796491,0.0,0.0,0.0,1412.2686704728217,0.0,354.3557527295168,0.0,0.0,0.0,0.0,0.0,0.0,7890.015,0.0,16139.780815799837,0.0,0.0,850.545,4499.766982157507,0.0,0.0,0.0,10266.266672999594,6865.769205332672,0.0,0.0,0.0,3288.8381551863004,11947.273872021164,0.0,0.0,6117.277414172129,0.0,0.0,0.0,2399.505,13643.165904568004,691.5,0.0,0.0,6182.009999999999,25868.61294651676,0.0,0.0,2180.6579277453147,0.0,0.0,19016.25,29765.397116887518,0.0,0.0]\n",
      "Sum: 5.9158078142723605e7\n",
      "swwithdrawals\n",
      "[22544.587301801035,0.0,0.0,212.4093,2117.4433950000002,278.80098063063065,235.30317391304348,1155.7947996556725,0.0,0.0,0.0,3001.11,1071.825,0.0,0.0,0.0,0.0,0.0,0.0,0.0,0.0,0.0,0.0,0.0,0.0,0.0,0.0,0.0,0.0,0.0,0.0,0.0,0.0,0.0,0.0,0.0,0.0,0.0,0.0,0.0,0.0,0.0,0.0,2038.7770259244135,0.0,0.0,0.0,0.0,0.0,34638.38297407558,0.0,0.0,2713.186968859416,0.0,0.0,0.0,337.4018061266244,1091.0743533783784,0.0,183.54486049382717,0.0,0.0,0.0,0.0,0.0,0.0,0.0,59.936626708074535,0.0,28201.668373291923,0.0,0.0,0.0,14694.375,0.0,545.5723873622048,234.21096749999998,756.5882047926391,1210.6362418525898,0.0,0.0,0.0,928165.875,0.0,0.0,0.0,0.0,138.3,0.0,0.0,0.0,62.23500000000001,0.0,0.0,0.0,0.0,792.3442403458903,164.58620506329112,0.0,0.0]\n",
      "Sum: 3.1731813691120946e8\n",
      "returns\n",
      "[22348.111364999993,0.0,0.0,0.0,1905.0340950000002,0.0,0.0,0.0,0.0,1198.48014,0.0,0.0,421.2272249999999,0.0,0.0,0.0,0.0,0.0,0.0,0.0,0.0,0.0,0.0,0.0,0.0,0.0,0.0,0.0,0.0,0.0,0.0,0.0,0.0,0.0,0.0,0.0,0.0,0.0,0.0,0.0,0.0,0.0,0.0,0.0,0.0,0.0,0.0,0.0,0.0,0.0,29385.479205,123.204555,0.0,155.6723389681256,2410.636291031875,0.0,0.0,919.563615,0.0,0.0,0.0,0.0,0.0,0.0,0.0,0.0,1060.52589,0.0,0.0,0.0,24043.973624999995,0.0,12450.962295,0.0,0.0,399.85296,0.0,0.0,1002.7925550000002,0.0,0.0,0.0,897448.1173199998,0.0,54.35190000000001,0.0,0.0,0.0,0.0,0.0,0.0,37.154295000000005,0.0,0.0,1597.0745699999998,0.0,0.0,0.0,0.0,0.0]\n",
      "Sum: 4.432392378619612e11\n",
      "captures\n",
      "[0.0,0.0,0.0,0.0,0.0,0.0,0.0,0.0,0.0,0.0,0.0,0.0,0.0,0.0,0.0,0.0,0.0,0.0,0.0,0.0,0.0,0.0,0.0,0.0,0.0,0.0,0.0,0.0,0.0,0.0,0.0,0.0,0.0,0.0,0.0,0.0,0.0,0.0,0.0,0.0,0.0,0.0,8772.437800169633,0.0,0.0,0.0,81869.2905509574,0.0,0.0,0.0,0.0,0.0,0.0,0.0,0.0,0.0,0.0,0.0,0.0,0.0,7551.661550202285,0.0,0.0,0.0,0.0,0.0,0.0,0.0,0.0,0.0,0.0,0.0,0.0,0.0,0.0,0.0,14208.07327480159,0.0,0.0,0.0,0.0,15.42375081114442,0.0,0.0,19207.098305061732,0.0,0.0,0.0,18.693336908369815,0.0,0.0,0.0,0.0,0.0,0.0,0.0,0.0,0.0,0.0,0.0]\n",
      "Sum: 3.1800100453010703e13\n",
      "Loading from saved region network...\n",
      "Loading from saved water network...\n",
      "Loading from saved region network...\n"
     ]
    },
    {
     "name": "stderr",
     "output_type": "stream",
     "text": [
      "WARNING: replacing module _mimi_implementation_WaterDemand\n"
     ]
    },
    {
     "name": "stdout",
     "output_type": "stream",
     "text": [
      "Creating model...\n"
     ]
    },
    {
     "name": "stderr",
     "output_type": "stream",
     "text": [
      "WARNING: replacing module _mimi_implementation_ReturnFlows\n",
      "WARNING: replacing module _mimi_implementation_WaterNetwork\n",
      "WARNING: replacing module _mimi_implementation_Aquifer\n",
      "WARNING: replacing module _mimi_implementation_Allocation\n",
      "WARNING: replacing module _mimi_implementation_Reservoir\n"
     ]
    },
    {
     "name": "stdout",
     "output_type": "stream",
     "text": [
      "Loading extraction cost from saved data...\n",
      "Running model...\n"
     ]
    },
    {
     "name": "stderr",
     "output_type": "stream",
     "text": [
      "WARNING: replacing module _mimi_implementation_WaterCost\n"
     ]
    },
    {
     "name": "stdout",
     "output_type": "stream",
     "text": [
      "Missing canal.09475501\n",
      "Missing canal.09475501\n",
      "Missing canal.09522701\n",
      "Missing usgs.11230500\n",
      "Missing usgs.11075720\n",
      "Missing usgs.11075720\n",
      "Missing usgs.11063000\n",
      "Missing usgs.11063000\n",
      "Missing usgs.11413320\n",
      "Missing reservoir.1894\n",
      "Missing canal.02248600\n",
      "Missing reservoir.2696\n",
      "Missing canal.02248600\n",
      "Missing reservoir.2684\n",
      "Missing reservoir.737\n",
      "Missing usgs.03337000\n",
      "Missing usgs.01396580\n",
      "Missing usgs.01403535\n",
      "Missing usgs.01356190\n",
      "Missing usgs.01446775\n",
      "Missing usgs.01432000\n",
      "Missing usgs.03433640\n",
      "Missing canal.08437600\n",
      "Missing usgs.09277800\n",
      "Missing canal.10170700\n",
      "Missing reservoir.1286\n",
      "Missing usgs.01659000\n",
      "Missing usgs.12396900\n",
      "Missing usgs.12181100\n",
      "Missing canal.0208463140\n",
      "Missing canal.02280500\n",
      "Missing canal.02280500\n",
      "Missing canal.09475501\n",
      "Missing canal.09475501\n",
      "Missing canal.09522701\n",
      "Missing usgs.11230500\n",
      "Missing usgs.11075720\n",
      "Missing usgs.11075720\n",
      "Missing usgs.11063000\n",
      "Missing usgs.11063000\n",
      "Missing usgs.11413320\n",
      "Missing reservoir.1894\n",
      "Missing canal.02248600\n",
      "Missing reservoir.2696\n",
      "Missing canal.02248600\n",
      "Missing reservoir.2684\n",
      "Missing reservoir.737\n",
      "Missing usgs.03337000\n",
      "Missing usgs.01396580\n",
      "Missing usgs.01403535\n",
      "Missing usgs.01356190\n",
      "Missing usgs.01446775\n",
      "Missing usgs.01432000\n",
      "Missing usgs.03433640\n",
      "Missing canal.08437600\n",
      "Missing usgs.09277800\n",
      "Missing canal.10170700\n",
      "Missing reservoir.1286\n",
      "Missing usgs.01659000\n",
      "Missing usgs.12396900\n",
      "Missing usgs.12181100\n",
      "Missing canal.0208463140\n",
      "Missing canal.02280500\n",
      "Missing canal.02280500\n",
      " 20.063746 seconds (7.37 M allocations: 942.846 MB, 2.79% gc time)\n"
     ]
    }
   ],
   "source": [
    "cd(\"../../src/\");\n",
    "include(\"nui.jl\");\n",
    "include(\"lib/readconfig.jl\");\n",
    "config = readconfig(\"../configs/standard-1year.yml\")\n",
    "# setting extraction cost to 0 (option 1: cost is uniform)\n",
    "config[\"watercost-extraction\"] = false;\n",
    "include(\"optimize-surface.jl\");\n",
    "include(\"simulate.jl\");\n",
    "# getting volumes and costs at the county level from the simulation\n",
    "sw1 = getdata(:Allocation, :swsupply);\n",
    "swc1 = getdata(:WaterCost, :swcost);\n",
    "supw1 = getdata(:Allocation, :supersourcesupply);"
   ]
  },
  {
   "cell_type": "code",
   "execution_count": 2,
   "metadata": {
    "collapsed": false
   },
   "outputs": [
    {
     "name": "stdout",
     "output_type": "stream",
     "text": [
      "Loading from saved region network...\n",
      "Loading from saved water network...\n"
     ]
    },
    {
     "name": "stderr",
     "output_type": "stream",
     "text": [
      "WARNING: replacing module _mimi_implementation_WaterDemand\n",
      "WARNING: replacing module _mimi_implementation_WaterNetwork\n",
      "WARNING: replacing module _mimi_implementation_Allocation\n",
      "WARNING: replacing module _mimi_implementation_ReturnFlows\n",
      "WARNING: replacing module _mimi_implementation_Reservoir\n",
      "WARNING: replacing module _mimi_implementation_Aquifer\n"
     ]
    },
    {
     "name": "stdout",
     "output_type": "stream",
     "text": [
      "Loading extraction cost from saved data...\n",
      "Optimize a model with 68238 rows, 106088 columns and 3732956 nonzeros\n",
      "Coefficient statistics:\n",
      "  Matrix range    [1e+00, 1e+00]\n",
      "  Objective range [1e+06, 1e+06]\n",
      "  Bounds range    [0e+00, 0e+00]\n",
      "  RHS range       [7e-02, 1e+14]\n",
      "\n",
      "Concurrent LP optimizer: dual simplex and barrier\n",
      "Showing barrier log only...\n",
      "\n",
      "Presolve removed 18020 rows and 14465 columns (presolve time = 5s) ...\n",
      "Presolve removed 18020 rows and 14465 columns\n",
      "Presolve time: 5.76s\n",
      "Presolved: 50218 rows, 91984 columns, 2298775 nonzeros\n",
      "\n",
      "Ordering time: 0.83s\n",
      "\n",
      "Barrier statistics:\n",
      " Free vars  : 361\n",
      " AA' NZ     : 1.489e+06\n",
      " Factor NZ  : 2.377e+06 (roughly 80 MBytes of memory)\n",
      " Factor Ops : 2.115e+08 (less than 1 second per iteration)\n",
      " Threads    : 1\n",
      "\n",
      "                  Objective                Residual\n",
      "Iter       Primal          Dual         Primal    Dual     Compl     Time\n",
      "   0   5.32900070e+19 -1.11429078e+21  1.29e+13 3.19e+05  8.32e+15    10s\n",
      "   1   5.32909767e+19 -1.49135815e+22  1.29e+13 7.76e+05  8.34e+15    10s\n",
      "   2   5.32914022e+19 -9.09331704e+24  1.29e+13 7.93e+05  7.72e+16    11s\n",
      "   3   5.32734722e+19 -1.25529131e+26  1.29e+13 7.65e+05  2.81e+18    12s\n",
      "\n",
      "Barrier performed 3 iterations in 12.42 seconds\n",
      "Barrier solve interrupted - model solved by another algorithm\n",
      "\n",
      "\n",
      "Solved with dual simplex\n",
      "Solved in 26445 iterations and 13.06 seconds\n",
      "Optimal objective  5.915807814e+13\n",
      "Warning: unscaled primal violation = 0.00142757 and residual = 0.00151025\n",
      " 14"
     ]
    },
    {
     "name": "stderr",
     "output_type": "stream",
     "text": [
      "WARNING: replacing module _mimi_implementation_WaterCost\n"
     ]
    },
    {
     "name": "stdout",
     "output_type": "stream",
     "text": [
      ".510060 seconds (475.88 k allocations: 158.360 MB, 0.83% gc time)\n",
      "supersourcesupply\n",
      "[3158.4676981989687,847.663350800653,0.0,0.0,0.0,297.34499999999997,120.53757515873014,1989.0130311405837,3077.1750000000006,26.833980001170232,1362.2549999999999,0.0,0.0,288.0782489729022,62.94761263779526,350.1995858547709,0.0,0.0,0.0,1325.0195545908182,0.0,3449.5835561609238,0.0,0.0,1235.5202869103323,7008.43924754902,0.0,0.0,2506.500635847209,0.0,0.0,2679.340115821641,2319.3880172723248,1056.9440893041751,0.0,19780.099444607575,19571.061624795693,96.81,8906.52,0.0,11084.745,0.0,1233.2486618581283,3319.1999999999994,5398.899870589088,3316.534027404272,0.0,0.0,23347.30698796491,0.0,0.0,0.0,1412.2686704728217,0.0,354.3557527295168,0.0,0.0,0.0,0.0,0.0,0.0,7890.015,0.0,16139.780815799837,0.0,0.0,850.545,4499.766982157507,0.0,0.0,0.0,10266.266672999594,6865.769205332672,0.0,0.0,0.0,3288.8381551863004,11947.273872021164,0.0,0.0,6117.277414172129,0.0,0.0,0.0,2399.505,13643.165904568004,691.5,0.0,0.0,6182.009999999999,25868.61294651676,0.0,0.0,2180.6579277453147,0.0,0.0,19016.25,29765.397116887518,0.0,0.0]\n",
      "Sum: 5.9158078142723605e7\n",
      "swwithdrawals\n",
      "[22544.587301801035,0.0,0.0,212.4093,2117.4433950000002,278.80098063063065,235.30317391304348,1155.7947996556725,0.0,0.0,0.0,3001.11,1071.825,0.0,0.0,0.0,0.0,0.0,0.0,0.0,0.0,0.0,0.0,0.0,0.0,0.0,0.0,0.0,0.0,0.0,0.0,0.0,0.0,0.0,0.0,0.0,0.0,0.0,0.0,0.0,0.0,0.0,0.0,2038.7770259244135,0.0,0.0,0.0,0.0,0.0,34638.38297407558,0.0,0.0,2713.186968859416,0.0,0.0,0.0,337.4018061266244,1091.0743533783784,0.0,183.54486049382717,0.0,0.0,0.0,0.0,0.0,0.0,0.0,59.936626708074535,0.0,28201.668373291923,0.0,0.0,0.0,14694.375,0.0,545.5723873622048,234.21096749999998,756.5882047926391,1210.6362418525898,0.0,0.0,0.0,928165.875,0.0,0.0,0.0,0.0,138.3,0.0,0.0,0.0,62.23500000000001,0.0,0.0,0.0,0.0,792.3442403458903,164.58620506329112,0.0,0.0]\n",
      "Sum: 3.1731813691120946e8\n",
      "returns\n",
      "[22348.111364999993,0.0,0.0,0.0,1905.0340950000002,0.0,0.0,0.0,0.0,1198.48014,0.0,0.0,421.2272249999999,0.0,0.0,0.0,0.0,0.0,0.0,0.0,0.0,0.0,0.0,0.0,0.0,0.0,0.0,0.0,0.0,0.0,0.0,0.0,0.0,0.0,0.0,0.0,0.0,0.0,0.0,0.0,0.0,0.0,0.0,0.0,0.0,0.0,0.0,0.0,0.0,0.0,29385.479205,123.204555,0.0,155.6723389681256,2410.636291031875,0.0,0.0,919.563615,0.0,0.0,0.0,0.0,0.0,0.0,0.0,0.0,1060.52589,0.0,0.0,0.0,24043.973624999995,0.0,12450.962295,0.0,0.0,399.85296,0.0,0.0,1002.7925550000002,0.0,0.0,0.0,897448.1173199998,0.0,54.35190000000001,0.0,0.0,0.0,0.0,0.0,0.0,37.154295000000005,0.0,0.0,1597.0745699999998,0.0,0.0,0.0,0.0,0.0]\n",
      "Sum: 4.432392378619612e11\n",
      "captures\n",
      "[0.0,0.0,0.0,0.0,0.0,0.0,0.0,0.0,0.0,0.0,0.0,0.0,0.0,0.0,0.0,0.0,0.0,0.0,0.0,0.0,0.0,0.0,0.0,0.0,0.0,0.0,0.0,0.0,0.0,0.0,0.0,0.0,0.0,0.0,0.0,0.0,0.0,0.0,0.0,0.0,0.0,0.0,8772.437800169633,0.0,0.0,0.0,81869.2905509574,0.0,0.0,0.0,0.0,0.0,0.0,0.0,0.0,0.0,0.0,0.0,0.0,0.0,7551.661550202285,0.0,0.0,0.0,0.0,0.0,0.0,0.0,0.0,0.0,0.0,0.0,0.0,0.0,0.0,0.0,14208.07327480159,0.0,0.0,0.0,0.0,15.42375081114442,0.0,0.0,19207.098305061732,0.0,0.0,0.0,18.693336908369815,0.0,0.0,0.0,0.0,0.0,0.0,0.0,0.0,0.0,0.0,0.0]\n",
      "Sum: 3.1800100453010703e13\n",
      "Loading from saved region network...\n",
      "Loading from saved water network...\n",
      "Loading from saved region network...\n"
     ]
    },
    {
     "name": "stderr",
     "output_type": "stream",
     "text": [
      "WARNING: replacing module _mimi_implementation_Thermoelectric\n",
      "WARNING: replacing module _mimi_implementation_Livestock\n",
      "WARNING: replacing module _mimi_implementation_Agriculture\n",
      "WARNING: replacing module _mimi_implementation_IndustrialDemand\n",
      "WARNING: replacing module _mimi_implementation_UrbanDemand\n",
      "WARNING: replacing module _mimi_implementation_WaterDemand\n"
     ]
    },
    {
     "name": "stdout",
     "output_type": "stream",
     "text": [
      "Creating model...\n"
     ]
    },
    {
     "name": "stderr",
     "output_type": "stream",
     "text": [
      "WARNING: replacing module _mimi_implementation_PopulationDemand\n",
      "WARNING: replacing module _mimi_implementation_ReturnFlows\n",
      "WARNING: replacing module _mimi_implementation_Market\n",
      "WARNING: replacing module _mimi_implementation_Transportation\n",
      "WARNING: replacing module _mimi_implementation_WaterNetwork\n",
      "WARNING: replacing module _mimi_implementation_Aquifer\n",
      "WARNING: replacing module _mimi_implementation_Allocation\n",
      "WARNING: replacing module _mimi_implementation_Reservoir\n"
     ]
    },
    {
     "name": "stdout",
     "output_type": "stream",
     "text": [
      "Loading extraction cost from saved data...\n",
      "Running model...\n"
     ]
    },
    {
     "name": "stderr",
     "output_type": "stream",
     "text": [
      "WARNING: replacing module _mimi_implementation_WaterCost\n"
     ]
    },
    {
     "name": "stdout",
     "output_type": "stream",
     "text": [
      "Missing canal.09475501\n",
      "Missing canal.09475501\n",
      "Missing canal.09522701\n",
      "Missing usgs.11230500\n",
      "Missing usgs.11075720\n",
      "Missing usgs.11075720\n",
      "Missing usgs.11063000\n",
      "Missing usgs.11063000\n",
      "Missing usgs.11413320\n",
      "Missing reservoir.1894\n",
      "Missing canal.02248600\n",
      "Missing reservoir.2696\n",
      "Missing canal.02248600\n",
      "Missing reservoir.2684\n",
      "Missing reservoir.737\n",
      "Missing usgs.03337000\n",
      "Missing usgs.01396580\n",
      "Missing usgs.01403535\n",
      "Missing usgs.01356190\n",
      "Missing usgs.01446775\n",
      "Missing usgs.01432000\n",
      "Missing usgs.03433640\n",
      "Missing canal.08437600\n",
      "Missing usgs.09277800\n",
      "Missing canal.10170700\n",
      "Missing reservoir.1286\n",
      "Missing usgs.01659000\n",
      "Missing usgs.12396900\n",
      "Missing usgs.12181100\n",
      "Missing canal.0208463140\n",
      "Missing canal.02280500\n",
      "Missing canal.02280500\n",
      "Missing canal.09475501\n",
      "Missing canal.09475501\n",
      "Missing canal.09522701\n",
      "Missing usgs.11230500\n",
      "Missing usgs.11075720\n",
      "Missing usgs.11075720\n",
      "Missing usgs.11063000\n",
      "Missing usgs.11063000\n",
      "Missing usgs.11413320\n",
      "Missing reservoir.1894\n",
      "Missing canal.02248600\n",
      "Missing reservoir.2696\n",
      "Missing canal.02248600\n",
      "Missing reservoir.2684\n",
      "Missing reservoir.737\n",
      "Missing usgs.03337000\n",
      "Missing usgs.01396580\n",
      "Missing usgs.01403535\n",
      "Missing usgs.01356190\n",
      "Missing usgs.01446775\n",
      "Missing usgs.01432000\n",
      "Missing usgs.03433640\n",
      "Missing canal.08437600\n",
      "Missing usgs.09277800\n",
      "Missing canal.10170700\n",
      "Missing reservoir.1286\n",
      "Missing usgs.01659000\n",
      "Missing usgs.12396900\n",
      "Missing usgs.12181100\n",
      "Missing canal.0208463140\n",
      "Missing canal.02280500\n",
      "Missing canal.02280500\n",
      " 19.078484 seconds (7.09 M allocations: 930.130 MB, 2.54% gc time)\n"
     ]
    }
   ],
   "source": [
    "# setting extraction cost proportional to relative elevation (option 2)\n",
    "config[\"watercost-extraction\"] = true;\n",
    "include(\"optimize-surface.jl\");\n",
    "include(\"simulate.jl\");\n",
    "# getting volumes and costs at the county level from the simulation\n",
    "sw2 = getdata(:Allocation, :swsupply);\n",
    "swc2 = getdata(:WaterCost, :swcost);\n",
    "supw2 = getdata(:Allocation, :supersourcesupply);"
   ]
  },
  {
   "cell_type": "code",
   "execution_count": 3,
   "metadata": {
    "collapsed": true
   },
   "outputs": [],
   "source": [
    "# comparison with usgs estimates - loading the data\n",
    "recorded = readtable(datapath(\"extraction/USGS-2010.csv\"));\n",
    "swusgs = recorded[:, :TO_SW] * 1383. / 12 *config[\"timestep\"] * numsteps;"
   ]
  },
  {
   "cell_type": "code",
   "execution_count": 15,
   "metadata": {
    "collapsed": false
   },
   "outputs": [
    {
     "data": {
      "text/plain": [
       "3109x1 Array{Float64,2}:\n",
       "  6006.49       \n",
       "   847.663      \n",
       "     0.0        \n",
       "     0.0        \n",
       "     0.0        \n",
       "   297.345      \n",
       "   120.538      \n",
       "  3309.75       \n",
       "  3301.05       \n",
       "    26.834      \n",
       "  2724.51       \n",
       "     7.27596e-12\n",
       "     0.0        \n",
       "     ⋮          \n",
       "     2.71048e5  \n",
       "     1.12569e5  \n",
       "  9050.03       \n",
       "     4.18345e5  \n",
       "     2.0083e5   \n",
       "     2.17698e5  \n",
       "     2.02542e5  \n",
       " 79578.5        \n",
       "     0.0        \n",
       "     2.6852e5   \n",
       "     2.19385e5  \n",
       " 34395.2        "
      ]
     },
     "execution_count": 15,
     "metadata": {},
     "output_type": "execute_result"
    }
   ],
   "source": [
    "# verifying that demands are met\n",
    "swusgs.data -sum(sw1+supw1,2)\n",
    "\n",
    "#sum(abs(swusgs-sum(sw1+supw1,2)))\n",
    "#sum(abs(swusgs-sum(sw2+supw2,2)))"
   ]
  },
  {
   "cell_type": "markdown",
   "metadata": {},
   "source": [
    "### Comparison of the results\n"
   ]
  },
  {
   "cell_type": "code",
   "execution_count": null,
   "metadata": {
    "collapsed": true
   },
   "outputs": [],
   "source": [
    "# Supersource map - 0 extraction cost\n",
    "mapdata(sum(supw1,2))\n",
    "# Supersource map - with extraction cost\n",
    "mapdata(sum(supw2,2))"
   ]
  },
  {
   "cell_type": "code",
   "execution_count": 5,
   "metadata": {
    "collapsed": false
   },
   "outputs": [
    {
     "name": "stderr",
     "output_type": "stream",
     "text": [
      "WARNING: RCall.jl: \n",
      "-----------------------------------------------------------\n",
      "PBS Mapping 2.69.76 -- Copyright (C) 2003-2016 Fisheries and Oceans Canada\n",
      "\n",
      "PBS Mapping comes with ABSOLUTELY NO WARRANTY;\n",
      "for details see the file COPYING.\n",
      "This is free software, and you are welcome to redistribute\n",
      "it under certain conditions, as outlined in the above file.\n",
      "\n",
      "A complete user guide 'PBSmapping-UG.pdf' is located at \n",
      "/home/laureline/anaconda2/lib/R/library/PBSmapping/doc/PBSmapping-UG.pdf\n",
      "\n",
      "Packaged on 2015-04-23\n",
      "Pacific Biological Station, Nanaimo\n",
      "\n",
      "All available PBS packages can be found at\n",
      "http://code.google.com/p/pbs-software/\n",
      "\n",
      "To see demos, type '.PBSfigs()'.\n",
      "-----------------------------------------------------------\n",
      "\n",
      "\n",
      "WARNING: RCall.jl: Loading required package: maptools\n",
      "Loading required package: sp\n",
      "Checking rgeos availability: TRUE\n",
      "Loading required package: foreign\n"
     ]
    },
    {
     "data": {
      "image/png": "[encoded data removed]"
     },
     "metadata": {},
     "output_type": "display_data"
    },
    {
     "data": {
      "text/plain": [
       "RCall.RObject{RCall.VecSxp}\n"
      ]
     },
     "execution_count": 5,
     "metadata": {},
     "output_type": "execute_result"
    }
   ],
   "source": [
    "mapdata(:Allocation, :balance, \"sum\")"
   ]
  },
  {
   "cell_type": "code",
   "execution_count": 4,
   "metadata": {
    "collapsed": false
   },
   "outputs": [
    {
     "name": "stdout",
     "output_type": "stream",
     "text": [
      "Loading from saved region network...\n",
      "Loading from saved water network...\n",
      "Loading from saved region network...\n"
     ]
    },
    {
     "name": "stderr",
     "output_type": "stream",
     "text": [
      "WARNING: replacing module _mimi_implementation_Thermoelectric\n",
      "WARNING: replacing module _mimi_implementation_Livestock\n",
      "WARNING: replacing module _mimi_implementation_Agriculture\n",
      "WARNING: replacing module _mimi_implementation_IndustrialDemand\n",
      "WARNING: replacing module _mimi_implementation_UrbanDemand\n",
      "WARNING: replacing module _mimi_implementation_WaterDemand\n"
     ]
    },
    {
     "name": "stdout",
     "output_type": "stream",
     "text": [
      "Creating model...\n"
     ]
    },
    {
     "name": "stderr",
     "output_type": "stream",
     "text": [
      "WARNING: replacing module _mimi_implementation_PopulationDemand\n",
      "WARNING: replacing module _mimi_implementation_ReturnFlows\n",
      "WARNING: replacing module _mimi_implementation_WaterNetwork\n",
      "WARNING: replacing module _mimi_implementation_Aquifer\n"
     ]
    },
    {
     "name": "stdout",
     "output_type": "stream",
     "text": [
      "Loading extraction cost from saved data...\n"
     ]
    },
    {
     "name": "stderr",
     "output_type": "stream",
     "text": [
      "WARNING: replacing module _mimi_implementation_Allocation\n",
      "WARNING: replacing module _mimi_implementation_Reservoir\n"
     ]
    },
    {
     "name": "stdout",
     "output_type": "stream",
     "text": [
      "Running model...\n"
     ]
    },
    {
     "name": "stderr",
     "output_type": "stream",
     "text": [
      "WARNING: replacing module _mimi_implementation_WaterCost\n"
     ]
    },
    {
     "name": "stdout",
     "output_type": "stream",
     "text": [
      "Missing canal.09475501\n",
      "Missing canal.09475501\n",
      "Missing canal.09522701\n",
      "Missing usgs.11230500\n",
      "Missing usgs.11075720\n",
      "Missing usgs.11075720\n",
      "Missing usgs.11063000\n",
      "Missing usgs.11063000\n",
      "Missing usgs.11413320\n",
      "Missing reservoir.1894\n",
      "Missing canal.02248600\n",
      "Missing reservoir.2696\n",
      "Missing canal.02248600\n",
      "Missing reservoir.2684\n",
      "Missing reservoir.737\n",
      "Missing usgs.03337000\n",
      "Missing usgs.01396580\n",
      "Missing usgs.01403535\n",
      "Missing usgs.01356190\n",
      "Missing usgs.01446775\n",
      "Missing usgs.01432000\n",
      "Missing usgs.03433640\n",
      "Missing canal.08437600\n",
      "Missing usgs.09277800\n",
      "Missing canal.10170700\n",
      "Missing reservoir.1286\n",
      "Missing usgs.01659000\n",
      "Missing usgs.12396900\n",
      "Missing usgs.12181100\n",
      "Missing canal.0208463140\n",
      "Missing canal.02280500\n",
      "Missing canal.02280500\n",
      "Missing canal.09475501\n",
      "Missing canal.09475501\n",
      "Missing canal.09522701\n",
      "Missing usgs.11230500\n",
      "Missing usgs.11075720\n",
      "Missing usgs.11075720\n",
      "Missing usgs.11063000\n",
      "Missing usgs.11063000\n",
      "Missing usgs.11413320\n",
      "Missing reservoir.1894\n",
      "Missing canal.02248600\n",
      "Missing reservoir.2696\n",
      "Missing canal.02248600\n",
      "Missing reservoir.2684\n",
      "Missing reservoir.737\n",
      "Missing usgs.03337000\n",
      "Missing usgs.01396580\n",
      "Missing usgs.01403535\n",
      "Missing usgs.01356190\n",
      "Missing usgs.01446775\n",
      "Missing usgs.01432000\n",
      "Missing usgs.03433640\n",
      "Missing canal.08437600\n",
      "Missing usgs.09277800\n",
      "Missing canal.10170700\n",
      "Missing reservoir.1286\n",
      "Missing usgs.01659000\n",
      "Missing usgs.12396900\n",
      "Missing usgs.12181100\n",
      "Missing canal.0208463140\n",
      "Missing canal.02280500\n",
      "Missing canal.02280500\n",
      "  9.921830 seconds (7.29 M allocations: 939.445 MB, 1.81% gc time)\n"
     ]
    }
   ],
   "source": [
    "include(\"simulate.jl\");\n",
    "# getting volumes and costs at the county level from the simulation\n",
    "sw = getdata(:Allocation, :swsupply);\n",
    "swc = getdata(:WaterCost, :swcost);\n",
    "gw = getdata(:Allocation, :gwsupply);\n",
    "gwc = getdata(:WaterCost, :gwcost);\n",
    "supw = getdata(:Allocation, :supersourcesupply);\n",
    "supwc = getdata(:WaterCost, :supersourcecost);"
   ]
  },
  {
   "cell_type": "code",
   "execution_count": 7,
   "metadata": {
    "collapsed": false
   },
   "outputs": [
    {
     "data": {
      "image/png": "[encoded data removed]"
     },
     "metadata": {},
     "output_type": "display_data"
    },
    {
     "data": {
      "text/plain": [
       "RCall.RObject{RCall.VecSxp}\n"
      ]
     },
     "execution_count": 7,
     "metadata": {},
     "output_type": "execute_result"
    }
   ],
   "source": [
    "# cost of water per 1000m3\n",
    "mapdata(sum((supwc+gwc+swc)./(supw+gw+sw),2))"
   ]
  },
  {
   "cell_type": "code",
   "execution_count": 8,
   "metadata": {
    "collapsed": false
   },
   "outputs": [],
   "source": [
    "# comparison with usgs estimates - loading the data\n",
    "recorded = readtable(datapath(\"extraction/USGS-2010.csv\"));\n",
    "swusgs = recorded[:, :TO_SW] * 1383. / 12 *config[\"timestep\"] * numsteps;\n",
    "gwusgs = recorded[:, :TO_GW] * 1383. / 12 *config[\"timestep\"] * numsteps;\n",
    "ugwc=getdata(:WaterCost, :unitgwextractioncost)[:,2]+getdata(:WaterCost, :unitgwtreatmentcost)[:,2] + getdata(:WaterCost, :unitdistributioncost)[:,2];\n",
    "gwusgsc = gwusgs .* ugwc;"
   ]
  },
  {
   "cell_type": "code",
   "execution_count": 9,
   "metadata": {
    "collapsed": false
   },
   "outputs": [
    {
     "data": {
      "image/png": "[encoded data removed]"
     },
     "metadata": {},
     "output_type": "display_data"
    },
    {
     "data": {
      "text/plain": [
       "RCall.RObject{RCall.VecSxp}\n"
      ]
     },
     "execution_count": 9,
     "metadata": {},
     "output_type": "execute_result"
    }
   ],
   "source": [
    "# mapping difference in volume per source type\n",
    "mapdata(sum(sw,2).-swusgs, nothing, nothing, true)"
   ]
  },
  {
   "cell_type": "code",
   "execution_count": 10,
   "metadata": {
    "collapsed": false
   },
   "outputs": [
    {
     "data": {
      "image/png": "[encoded data removed]"
     },
     "metadata": {},
     "output_type": "display_data"
    },
    {
     "data": {
      "text/plain": [
       "RCall.RObject{RCall.VecSxp}\n"
      ]
     },
     "execution_count": 10,
     "metadata": {},
     "output_type": "execute_result"
    }
   ],
   "source": [
    "mapdata(sum(gw,2).-gwusgs, nothing, nothing, true)"
   ]
  },
  {
   "cell_type": "markdown",
   "metadata": {},
   "source": []
  }
 ],
 "metadata": {
  "kernelspec": {
   "display_name": "Julia 0.4.2",
   "language": "julia",
   "name": "julia-0.4"
  },
  "language_info": {
   "file_extension": ".jl",
   "mimetype": "application/julia",
   "name": "julia",
   "version": "0.4.2"
  }
 },
 "nbformat": 4,
 "nbformat_minor": 0
}
