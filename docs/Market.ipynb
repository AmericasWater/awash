{
 "cells": [
  {
   "cell_type": "markdown",
   "metadata": {},
   "source": [
    "# Market Optimization Problem\n",
    "\n",
    "The model will maximize the amount it can sell on the domestic market, but quickly exceeds the local demand.  If there additional domestic demand in other counties that are close enough that the transportation costs don't defeat the benefit, it will transport the production to them and sell there.  If neither of those is available, it will sell internationally.\n",
    "\n",
    "The key parameters are $I_{kijt}$ (the import of resource k from county i to county j in period t), $E_{kit}$ (the export of resource k to the international market), $IA_{kit}$ (irrigated area in for k, i, t), and $RA_{kit}$ (rainfed area in for k, i, t).  Then the LP problem-- dropping the water optimization part-- is:\n",
    "\n",
    "$$\n",
    "\\max \\sum_{kit} p_1 (y_{irrigated} IA_{kit} + y_{rainfed} RA_{kit}) + (p_2 - p_1) E_{kit} - \\sum_j c_{ij} I_{kijt}\n",
    "$$\n",
    "(where $p_1$ is the domestic price, $p_2$ is international $< p_1$, $y_{irrigated}$ and $y_{rainfed}$ are the irrigated and rainfed land yields, and $c_{ij}$ is the transportation cost)\n",
    "\n",
    "such that\n",
    "* for all i and t, $\\sum_k IA_{kit} + RA_{kit}  < A_i$  (the agricultural area is constrained)\n",
    "* for all i, t, and k, $y_{irrigated} IA_{kit} + y_{rainfed} RA_{kit} - E_{kit} - \\sum_j I_{kijt} > 0$ (the un-transported food is not negative)\n",
    "* for all i, t, and k, $y_{irrigated} IA_{kit} + y_{rainfed} RA_{kit} - E_{kit} - \\sum_j I_{kijt} < D_{kit}$ (the domestically sold food is not more than demand)\n",
    "* all $IA_{kit}$, $RA_{kit}$, $E_{kit}$, and $I_{kijt}$ are all positive."
   ]
  }
 ],
 "metadata": {
  "kernelspec": {
   "display_name": "Julia 0.4.0",
   "language": "julia",
   "name": "julia-0.4"
  },
  "language_info": {
   "file_extension": ".jl",
   "mimetype": "application/julia",
   "name": "julia",
   "version": "0.4.0"
  }
 },
 "nbformat": 4,
 "nbformat_minor": 0
}
