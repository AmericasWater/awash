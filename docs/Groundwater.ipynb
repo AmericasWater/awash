{
 "cells": [
  {
   "cell_type": "markdown",
   "metadata": {},
   "source": [
    "# Groundwater notebook"
   ]
  },
  {
   "cell_type": "markdown",
   "metadata": {},
   "source": [
    "The Groundwater model describes the dynamics of the subsurface water at the county-scale. The two main phenomenon are the evolution of piezometric head (function of recharge, withdrawals and lateral flows) and the lateral flows (exchange of flow due to the difference in head between two adjacent counties)."
   ]
  },
  {
   "cell_type": "markdown",
   "metadata": {},
   "source": [
    "### The aquifer component"
   ]
  },
  {
   "cell_type": "code",
   "execution_count": 1,
   "metadata": {
    "collapsed": false
   },
   "outputs": [
    {
     "data": {
      "text/plain": [
       "Aquifer"
      ]
     },
     "execution_count": 1,
     "metadata": {},
     "output_type": "execute_result"
    }
   ],
   "source": [
    "using Mimi\n",
    "@defcomp Aquifer begin\n",
    "  aquifers = Index()\n",
    "\n",
    "  # Aquifer description\n",
    "  depthaquif = Parameter(index=[aquifers], unit=\"1 m\")\n",
    "  areaaquif = Parameter(index=[aquifers], unit=\"1000 m^2\")\n",
    "  storagecoef = Parameter(index=[aquifers], unit=\"none\")\n",
    "  drawdown0 = Parameter(index=[aquifers], unit=\"1 m\") # used for initialisation\n",
    "  \n",
    "  # Recharge\n",
    "  recharge = Parameter(index=[aquifers, time], unit=\"1000 m^3\")\n",
    "\n",
    "  # Withdrawals - to be optimised\n",
    "  withdrawal = Parameter(index=[aquifers, time], unit=\"1000 m^3\")\n",
    "\n",
    "  # Lateral flows\n",
    "  lateralflows = Variable(index=[aquifers, time], unit=\"1000 m^3\")\n",
    "  aquiferconnexion = Parameter(index=[aquifers, aquifers], unit =\"none\") # aquiferconnexion[aa,aa']=1 -> aquifers are connected, 0 otherwise.\n",
    "  lateralconductivity = Parameter(index=[aquifers, aquifers], unit=\"1 m^2/month\") ## how should I specify per month per year?\n",
    "  deltatime = Parameter(unit=\"month\")\n",
    "\n",
    "  # Piezometric head\n",
    "  drawdown = Variable(index=[aquifers, time], unit=\"1 m\")\n",
    "\n",
    "  # Unit volume cost\n",
    "  volumetriccost = Variable(index=[aquifers, time], unit=\"\\$/1000 m^3\")\n",
    "end"
   ]
  },
  {
   "cell_type": "markdown",
   "metadata": {},
   "source": [
    "### Model equations"
   ]
  },
  {
   "cell_type": "markdown",
   "metadata": {},
   "source": [
    "The two equations at the heart of the component are the one describing the evolution of the piezometric head (measured as the distance between the county elevation and the water table - drawdown would be more appropriate):"
   ]
  },
  {
   "cell_type": "markdown",
   "metadata": {},
   "source": [
    "piezohead[a,t] = piezohead[a,t-1] + 1/(storagecoef[a]*areaaquif[a])*(- recharge[a,t] + withdrawal[a,t] + lateralflows[a,t])"
   ]
  },
  {
   "cell_type": "markdown",
   "metadata": {},
   "source": [
    "And the one describing the lateral flows:"
   ]
  },
  {
   "cell_type": "markdown",
   "metadata": {},
   "source": [
    "lateralflows[a,t] = \\sum_{a\\*} lateralconductivity[a,a\\*] \\* (piezohead[a\\*,tt-1]-piezohead[a,tt-1])"
   ]
  },
  {
   "cell_type": "markdown",
   "metadata": {},
   "source": [
    "### Functions"
   ]
  },
  {
   "cell_type": "markdown",
   "metadata": {},
   "source": [
    "Groundwater.jl contains a serie of functions:\n",
    "    - The timestep function computes the variables evolution using the two precedently described equations\n",
    "    - The constraints functions min and max ensure that the drawdown > 0 (non-artesian well) and drawdown < depthaquifer (i.e. confined aquifers remain confined and unconfined aquifer can entirely depleted)\n",
    "    - The initialisation function initaquifercontus to set the component and describe the subsurface for all of CONTUS at a county-scale"
   ]
  },
  {
   "cell_type": "code",
   "execution_count": 2,
   "metadata": {
    "collapsed": false
   },
   "outputs": [
    {
     "data": {
      "text/plain": [
       "timestep (generic function with 3 methods)"
      ]
     },
     "execution_count": 2,
     "metadata": {},
     "output_type": "execute_result"
    }
   ],
   "source": [
    "function timestep(c::Aquifer, tt::Int)\n",
    "  v = c.Variables\n",
    "  p = c.Parameters\n",
    "  d = c.Dimensions\n",
    "  # computation of lateral flows:\n",
    "  v.lateralflows[:,tt]=zeros(d.aquifers[end],1)\n",
    "  for aa in 1:d.aquifers[end]\n",
    "    for aa_ in (aa+1):(d.aquifers[end]-1)\n",
    "      if p.aquiferconnexion[aa,aa_]==1.\n",
    "        if tt==1\n",
    "        latflow = p.lateralconductivity[aa,aa_]*(p.drawdown0[aa_]-p.drawdown0[aa])*p.deltatime; # in m3/month or m3/year if factor 12\n",
    "        else\n",
    "        latflow = p.lateralconductivity[aa,aa_]*(v.drawdown[aa_,tt-1]-v.drawdown[aa,tt-1])*p.deltatime; # in m3/month or m3/year if factor 12\n",
    "        end\n",
    "        v.lateralflows[aa,tt] +=   latflow/1000;\n",
    "        v.lateralflows[aa_,tt] += -latflow/1000;\n",
    "      end\n",
    "    end\n",
    "  end\n",
    "\n",
    "    # drawdown initialisation and simulation\n",
    "  for aa in d.aquifers\n",
    "    if tt==1\n",
    "      v.drawdown[aa,tt] = p.drawdown0[aa] + 1/(p.storagecoef[aa]*p.areaaquif[aa])*(- p.recharge[aa,tt] + p.withdrawal[aa,tt] + v.lateralflows[aa,tt])\n",
    "    else\n",
    "      v.drawdown[aa,tt] = v.drawdown[aa,tt-1] + 1/(p.storagecoef[aa]*p.areaaquif[aa])*(- p.recharge[aa,tt] + p.withdrawal[aa,tt] + v.lateralflows[aa,tt])\n",
    "    end\n",
    "  end\n",
    "\n",
    "  # variable to pass to watercost component. assumption: piezohead does not vary much and it's initial value is representative. piezohead datum is sea level\n",
    "  for aa in d.aquifers\n",
    "    v.volumetriccost[aa,tt] = p.drawdown0[aa]\n",
    "  end\n",
    "end"
   ]
  },
  {
   "cell_type": "markdown",
   "metadata": {},
   "source": [
    "### Subsurface model"
   ]
  },
  {
   "cell_type": "markdown",
   "metadata": {},
   "source": [
    "*illustrations and description to come*"
   ]
  },
  {
   "cell_type": "markdown",
   "metadata": {},
   "source": [
    "### Data"
   ]
  },
  {
   "cell_type": "markdown",
   "metadata": {},
   "source": [
    "*work in progress*"
   ]
  },
  {
   "cell_type": "markdown",
   "metadata": {
    "collapsed": true
   },
   "source": [
    "USGS data collected and formatted by Tess Russo are used to represent the main aquifers. In its current form, five aquifers are currently represented: the Central Valley, the Columbia Plateau, the High Plains, the Mississippi Embayment, and the Powder Williston. For regions in between those aquifers, permeability values from Gleeson (2012) are used to populate the model. ![here](https://raw.githubusercontent.com/AmericasWater/operational-problem/master/data/gwmodel/id_aquif.png)"
   ]
  },
  {
   "cell_type": "markdown",
   "metadata": {
    "collapsed": true
   },
   "source": [
    "### One year simulation run"
   ]
  },
  {
   "cell_type": "code",
   "execution_count": 1,
   "metadata": {
    "collapsed": false
   },
   "outputs": [
    {
     "data": {
      "text/plain": [
       "initaquifercontus (generic function with 1 method)"
      ]
     },
     "execution_count": 1,
     "metadata": {},
     "output_type": "execute_result"
    }
   ],
   "source": [
    "using OptiMimi\n",
    "using DataFrames\n",
    "include(\"../src/Allocation.jl\")\n",
    "include(\"../src/Groundwater.jl\")"
   ]
  },
  {
   "cell_type": "code",
   "execution_count": 2,
   "metadata": {
    "collapsed": false
   },
   "outputs": [
    {
     "name": "stdout",
     "output_type": "stream",
     "text": [
      "Creating model...\n"
     ]
    },
    {
     "ename": "LoadError",
     "evalue": "LoadError: UndefVarError: suffix not defined\nwhile loading In[2], in expression starting on line 10",
     "output_type": "error",
     "traceback": [
      "LoadError: UndefVarError: suffix not defined\nwhile loading In[2], in expression starting on line 10",
      ""
     ]
    }
   ],
   "source": [
    "println(\"Creating model...\")\n",
    "m = Model();\n",
    "\n",
    "ncounty= 3109;\n",
    "setindex(m, :time, collect(1));\n",
    "setindex(m, :regions, collect(1:ncounty));\n",
    "setindex(m, :aquifers, collect(1:ncounty));\n",
    "setindex(m, :canals, collect(1:ncounty));\n",
    "# Add all of the components\n",
    "allocation = initallocation(m);\n",
    "aquifer = initaquifercontus(m);\n",
    "# Set links between components\n",
    "aquifer[:withdrawal] = allocation[:watergw];\n",
    "\n",
    "# Run it and time it!\n",
    "@time run(m)"
   ]
  },
  {
   "cell_type": "code",
   "execution_count": 3,
   "metadata": {
    "collapsed": false
   },
   "outputs": [
    {
     "name": "stderr",
     "output_type": "stream",
     "text": [
      "WARNING: RCall.jl \n",
      "-----------------------------------------------------------\n",
      "PBS Mapping 2.69.76 -- Copyright (C) 2003-2016 Fisheries and Oceans Canada\n",
      "\n",
      "PBS Mapping comes with ABSOLUTELY NO WARRANTY;\n",
      "for details see the file COPYING.\n",
      "This is free software, and you are welcome to redistribute\n",
      "it under certain conditions, as outlined in the above file.\n",
      "\n",
      "A complete user guide 'PBSmapping-UG.pdf' is located at \n",
      "/Library/Frameworks/R.framework/Versions/3.3/Resources/library/PBSmapping/doc/PBSmapping-UG.pdf\n",
      "\n",
      "Packaged on 2015-04-23\n",
      "Pacific Biological Station, Nanaimo\n",
      "\n",
      "All available PBS packages can be found at\n",
      "http://code.google.com/p/pbs-software/\n",
      "\n",
      "To see demos, type '.PBSfigs()'.\n",
      "-----------------------------------------------------------\n",
      "\n",
      "\n",
      "WARNING: RCall.jl Loading required package: maptools\n",
      "Loading required package: sp\n",
      "Checking rgeos availability: TRUE\n",
      "Loading required package: foreign\n"
     ]
    },
    {
     "ename": "LoadError",
     "evalue": "LoadError: KeyError: Aquifer not found\nwhile loading In[3], in expression starting on line 12",
     "output_type": "error",
     "traceback": [
      "LoadError: KeyError: Aquifer not found\nwhile loading In[3], in expression starting on line 12",
      ""
     ]
    }
   ],
   "source": [
    "using RCall\n",
    "R\"library(ggplot2)\"\n",
    "R\"library(PBSmapping)\"\n",
    "R\"shapes <- importShapefile('../data/mapping/US_county_2000-simple')\";\n",
    "R\"polydata <- attributes(shapes)$PolyData\";\n",
    "R\"polydata$STATE <- as.numeric(levels(polydata$STATE))[polydata$STATE]\";\n",
    "R\"polydata$COUNTY <- as.numeric(levels(polydata$COUNTY))[polydata$COUNTY]\";\n",
    "R\"shapes$id <- polydata$STATE[shapes$PID]*100 + polydata$COUNTY[shapes$PID]/10\";\n",
    "R\"names(shapes) <- tolower(names(shapes))\";\n",
    "recorded = readtable(\"../data/extraction/USGS-2010.csv\");\n",
    "\n",
    "diffdrawdown = -m.components[:Aquifer].Parameters.drawdown0+m.components[:Aquifer].Variables.drawdown;\n",
    "recorded[:diffdwn] = diffdrawdown[1:3109];\n",
    "\n",
    "#R\"pdf('../results/drawdown_oneyear_use.pdf')\";\n",
    "R\"print(ggplot($recorded, aes(fill=diffdwn)) + geom_map(aes(map_id=FIPS), map=shapes) + expand_limits(x=c(-2500000, 2500000), y=c(-1.4e6, 1.6e6)) + scale_fill_gradient(name='Head change [m]', trans='log1p', low='beige', high='grey', breaks=c(0,0.2,0.4,0.6,0.8,1)) + theme_bw() + theme(legend.justification=c(0,0), legend.position=c(0,0)) + xlab('') + ylab(''))\";"
   ]
  },
  {
   "cell_type": "markdown",
   "metadata": {
    "collapsed": true
   },
   "source": [
    "Change in piezometric head due to one year of groundwater exploitation. This estimate is based on withdrawals data from USGS for the year 2010 for the industrial, mining and public-supply sector."
   ]
  }
 ],
 "metadata": {
  "kernelspec": {
   "display_name": "Julia 0.4.2",
   "language": "julia",
   "name": "julia-0.4"
  },
  "language_info": {
   "file_extension": ".jl",
   "mimetype": "application/julia",
   "name": "julia",
   "version": "0.4.2"
  }
 },
 "nbformat": 4,
 "nbformat_minor": 0
}
