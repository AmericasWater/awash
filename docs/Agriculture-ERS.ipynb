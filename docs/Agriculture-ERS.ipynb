{
 "cells": [
  {
   "cell_type": "code",
   "execution_count": 1,
   "metadata": {},
   "outputs": [
    {
     "name": "stderr",
     "output_type": "stream",
     "text": [
      "\u001b[1m\u001b[31mWARNING: RCall is not installed, so some graphing will not work.  If you have R installed, install RCall with `Pkg.add(\"RCall\")`.\u001b[0m\n",
      "WARNING: New definition \n",
      "    write(Base.IO, ForwardDiff.Partials) at /Users/jrising/.julia/v0.4/ForwardDiff/src/partials.jl:57\n",
      "is ambiguous with: \n",
      "    write(Base.Base64.Base64EncodePipe, AbstractArray{UInt8, 1}) at base64.jl:89.\n",
      "To fix, define \n",
      "    write(Base.Base64.Base64EncodePipe, ForwardDiff.Partials{N<:Any, UInt8})\n",
      "before the new definition.\n"
     ]
    },
    {
     "name": "stdout",
     "output_type": "stream",
     "text": [
      "\u001b[0;1;34;94m┌───────────────\u001b[0;34m────────────────\u001b[0;37m────────────────\u001b[0;1;30;90m───┐\u001b[0m\n",
      "\u001b[0;34m│\u001b[0m    \u001b[0;34m▄▄\u001b[0m    \u001b[0;34m▄▄\u001b[0m      \u001b[0;37m▄▄\u001b[0m    \u001b[0;37m▄▄\u001b[0m       \u001b[0;1;30;90m▄▄▄▄\u001b[0m    \u001b[0;1;30;90m▄▄\u001b[0m    \u001b[0;1;34;94m▄▄\u001b[0m \u001b[0;1;34;94m│\u001b[0m\n",
      "\u001b[0;34m│\u001b[0m   \u001b[0;34m████\u001b[0m   \u001b[0;37m██\u001b[0m      \u001b[0;37m██\u001b[0m   \u001b[0;1;30;90m████\u001b[0m    \u001b[0;1;30;90m▄█▀▀▀▀█\u001b[0m   \u001b[0;1;34;94m██\u001b[0m    \u001b[0;1;34;94m██\u001b[0m \u001b[0;1;34;94m│\u001b[0m\n",
      "\u001b[0;37m│\u001b[0m   \u001b[0;37m████\u001b[0m   \u001b[0;37m▀█▄\u001b[0m \u001b[0;37m█\u001b[0;1;30;90m█\u001b[0m \u001b[0;1;30;90m▄█▀\u001b[0m   \u001b[0;1;30;90m████\u001b[0m    \u001b[0;1;34;94m██▄\u001b[0m       \u001b[0;1;34;94m██\u001b[0m    \u001b[0;34m██\u001b[0m \u001b[0;34m│\u001b[0m\n",
      "\u001b[0;37m│\u001b[0m  \u001b[0;37m██\u001b[0m  \u001b[0;37m█\u001b[0;1;30;90m█\u001b[0m   \u001b[0;1;30;90m██\u001b[0m \u001b[0;1;30;90m██\u001b[0m \u001b[0;1;30;90m██\u001b[0m   \u001b[0;1;30;90m█\u001b[0;1;34;94m█\u001b[0m  \u001b[0;1;34;94m██\u001b[0m    \u001b[0;1;34;94m▀████▄\u001b[0m   \u001b[0;34m████████\u001b[0m \u001b[0;34m│\u001b[0m\n",
      "\u001b[0;1;30;90m│\u001b[0m  \u001b[0;1;30;90m██████\u001b[0m   \u001b[0;1;30;90m███▀\u001b[0;1;34;94m▀███\u001b[0m   \u001b[0;1;34;94m██████\u001b[0m        \u001b[0;34m▀██\u001b[0m  \u001b[0;34m██\u001b[0m    \u001b[0;37m██\u001b[0m \u001b[0;37m│\u001b[0m\n",
      "\u001b[0;1;30;90m│\u001b[0m \u001b[0;1;30;90m▄██\u001b[0m  \u001b[0;1;30;90m█\u001b[0;1;34;94m█▄\u001b[0m  \u001b[0;1;34;94m███\u001b[0m  \u001b[0;1;34;94m███\u001b[0m  \u001b[0;1;34;94m▄█\u001b[0;34m█\u001b[0m  \u001b[0;34m██▄\u001b[0m  \u001b[0;34m█▄▄▄▄▄█▀\u001b[0m  \u001b[0;37m██\u001b[0m    \u001b[0;37m██\u001b[0m \u001b[0;37m│\u001b[0m\n",
      "\u001b[0;1;34;94m│\u001b[0m \u001b[0;1;34;94m▀▀\u001b[0m    \u001b[0;1;34;94m▀▀\u001b[0m  \u001b[0;1;34;94m▀▀▀\u001b[0m  \u001b[0;34m▀▀▀\u001b[0m  \u001b[0;34m▀▀\u001b[0m    \u001b[0;34m▀▀\u001b[0m   \u001b[0;37m▀▀▀▀▀\u001b[0m    \u001b[0;37m▀▀\u001b[0m    \u001b[0;1;30;90m▀▀\u001b[0m \u001b[0;1;30;90m│\u001b[0m\n",
      "\u001b[0;34m└───────\u001b[0;37m────────────────\u001b[0;1;30;90m────────────────\u001b[0;1;34;94m───────────┘\u001b[0m\n",
      "\n",
      "Welcome to AWASH, the America's Water Model, version 0.8.\n",
      "\n"
     ]
    },
    {
     "name": "stderr",
     "output_type": "stream",
     "text": [
      "WARNING: New definition \n",
      "    +(AbstractArray{T<:Any, 2}, WoodburyMatrices.SymWoodbury) at /Users/jrising/.julia/v0.4/WoodburyMatrices/src/SymWoodburyMatrices.jl:138\n",
      "is ambiguous with: \n",
      "    +(DataArrays.DataArray, AbstractArray) at /Users/jrising/.julia/v0.4/DataArrays/src/operators.jl:276.\n",
      "To fix, define \n",
      "    +(DataArrays.DataArray{T<:Any, 2}, WoodburyMatrices.SymWoodbury)\n",
      "before the new definition.\n",
      "WARNING: New definition \n",
      "    +(AbstractArray{T<:Any, 2}, WoodburyMatrices.SymWoodbury) at /Users/jrising/.julia/v0.4/WoodburyMatrices/src/SymWoodburyMatrices.jl:138\n",
      "is ambiguous with: \n",
      "    +(DataArrays.AbstractDataArray, AbstractArray) at /Users/jrising/.julia/v0.4/DataArrays/src/operators.jl:300.\n",
      "To fix, define \n",
      "    +(DataArrays.AbstractDataArray{T<:Any, 2}, WoodburyMatrices.SymWoodbury)\n",
      "before the new definition.\n"
     ]
    }
   ],
   "source": [
    "include(\"../src/nui.jl\");"
   ]
  },
  {
   "cell_type": "code",
   "execution_count": 2,
   "metadata": {},
   "outputs": [
    {
     "data": {
      "text/plain": [
       "Dict{Any,Any} with 18 entries:\n",
       "  \"urbandemand-index\"     => \"FIPS_county\"\n",
       "  \"optimtype\"             => \"SWGW\"\n",
       "  \"filterstate\"           => nothing\n",
       "  \"ncdatasets\"            => Dict{Any,Any}(\"runoff\"=>Dict{Any,Any}(\"csvcrc\"=>20…\n",
       "  \"urbandemand-transform\" => \"repcap\"\n",
       "  \"startweather\"          => 612\n",
       "  \"timestep\"              => 6\n",
       "  \"urbandemand-column\"    => \"per_capita\"\n",
       "  \"indexlen\"              => 5\n",
       "  \"startmonth\"            => \"10/2009\"\n",
       "  \"indexcols\"             => Any[:FIPS,:fips]\n",
       "  \"masterregions\"         => \"global/counties.csv\"\n",
       "  \"rescap\"                => \"full\"\n",
       "  \"dataset\"               => \"counties\"\n",
       "  \"ncregion\"              => \"county\"\n",
       "  \"urbandemand-path\"      => \"demand/urbandemand_May11.csv\"\n",
       "  \"indexpad\"              => \"0\"\n",
       "  \"endmonth\"              => \"9/2010\""
      ]
     },
     "execution_count": 2,
     "metadata": {},
     "output_type": "execute_result"
    }
   ],
   "source": [
    "config = readconfig(\"../configs/standard-1year.yml\")"
   ]
  },
  {
   "cell_type": "code",
   "execution_count": 3,
   "metadata": {
    "collapsed": true
   },
   "outputs": [],
   "source": [
    "masterregions = readtable(datapath(config[\"masterregions\"]), eltypes=[UTF8String, UTF8String, UTF8String]);"
   ]
  },
  {
   "cell_type": "code",
   "execution_count": 4,
   "metadata": {
    "collapsed": true
   },
   "outputs": [],
   "source": [
    "include(\"../src/lib/agriculture-ers.jl\");"
   ]
  },
  {
   "cell_type": "code",
   "execution_count": 5,
   "metadata": {},
   "outputs": [
    {
     "data": {
      "text/plain": [
       "36-element Array{UTF8String,1}:\n",
       " \"cost\"                                       \n",
       " \"yield\"                                      \n",
       " \"price\"                                      \n",
       " \"revenue\"                                    \n",
       " \"Primary product:  Corn grain\"               \n",
       " \"Secondary product:  Corn silage\"            \n",
       " \"Total, gross value of production\"           \n",
       " \"Seed\"                                       \n",
       " \"Fertilizer\"                                 \n",
       " \"Chemicals\"                                  \n",
       " \"Custom operations\"                          \n",
       " \"Fuel, lube, and electricity\"                \n",
       " \"Repairs\"                                    \n",
       " ⋮                                            \n",
       " \"Value of production less total costs listed\"\n",
       " \"Value of production less operating costs\"   \n",
       " \"Yield (bushels per planted acre)\"           \n",
       " \"Price (dollars per bushel at harvest)\"      \n",
       " \"Enterprise size (planted acres)\"            \n",
       " \"Irrigated (percent)\"                        \n",
       " \"Dryland (percent)\"                          \n",
       " \"Corn grain\"                                 \n",
       " \"Corn silage\"                                \n",
       " \"Capital recovery of mach and equip\"         \n",
       " \"Value of prod less total costs listed\"      \n",
       " \"Value of prod less operating costs\"         "
      ]
     },
     "execution_count": 5,
     "metadata": {},
     "output_type": "execute_result"
    }
   ],
   "source": [
    "ers_information_list(\"corn\")"
   ]
  },
  {
   "cell_type": "code",
   "execution_count": 6,
   "metadata": {
    "scrolled": true
   },
   "outputs": [
    {
     "data": {
      "text/plain": [
       "3109-element DataArrays.DataArray{Float64,1}:\n",
       " 439.51\n",
       " 439.51\n",
       " 439.51\n",
       " 368.71\n",
       " 368.71\n",
       " 439.51\n",
       " 439.51\n",
       " 368.71\n",
       " 439.51\n",
       " 368.71\n",
       " 368.71\n",
       " 439.51\n",
       " 439.51\n",
       "   ⋮   \n",
       " 400.33\n",
       " 400.33\n",
       " 389.98\n",
       " 400.33\n",
       " 389.98\n",
       " 389.98\n",
       " 400.33\n",
       " 400.33\n",
       " 400.33\n",
       " 400.33\n",
       " 400.33\n",
       " 389.98"
      ]
     },
     "execution_count": 6,
     "metadata": {},
     "output_type": "execute_result"
    }
   ],
   "source": [
    "cost = ers_information(\"corn\", \"cost\", 2010)"
   ]
  },
  {
   "cell_type": "code",
   "execution_count": 7,
   "metadata": {},
   "outputs": [
    {
     "data": {
      "text/plain": [
       "3109-element DataArrays.DataArray{Float64,1}:\n",
       " 118.25\n",
       " 118.25\n",
       " 118.25\n",
       " 270.54\n",
       " 270.54\n",
       " 118.25\n",
       " 118.25\n",
       " 270.54\n",
       " 118.25\n",
       " 270.54\n",
       " 270.54\n",
       " 118.25\n",
       " 118.25\n",
       "   ⋮   \n",
       " 289.06\n",
       " 289.06\n",
       " 185.76\n",
       " 289.06\n",
       " 185.76\n",
       " 185.76\n",
       " 289.06\n",
       " 289.06\n",
       " 289.06\n",
       " 289.06\n",
       " 289.06\n",
       " 185.76"
      ]
     },
     "execution_count": 7,
     "metadata": {},
     "output_type": "execute_result"
    }
   ],
   "source": [
    "profit = ers_information(\"corn\", \"price\", 2010) .* ers_information(\"corn\", \"yield\", 2010) - cost"
   ]
  },
  {
   "cell_type": "code",
   "execution_count": null,
   "metadata": {
    "collapsed": true
   },
   "outputs": [],
   "source": []
  }
 ],
 "metadata": {
  "kernelspec": {
   "display_name": "Julia 0.4.0",
   "language": "julia",
   "name": "julia-0.4"
  },
  "language_info": {
   "file_extension": ".jl",
   "mimetype": "application/julia",
   "name": "julia",
   "version": "0.4.0"
  }
 },
 "nbformat": 4,
 "nbformat_minor": 2
}
