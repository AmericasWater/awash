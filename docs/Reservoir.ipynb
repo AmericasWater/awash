{
 "cells": [
  {
   "cell_type": "markdown",
   "metadata": {},
   "source": [
    "Reservoirs store water between timesteps.  They are nodes in the water network, and receive upstream flows and precipitation, and provide withdrawals to canals.  However, their outflows are determined by an optimization."
   ]
  },
  {
   "cell_type": "markdown",
   "metadata": {},
   "source": [
    "# Selecting Reservoirs\n",
    "\n",
    "The reservoirs that should be modeled as storing water across period, rather than acting like stream nodes, differ depending on the timestep.  The function that provides a list of reservoirs is `getreservoirs(config)`."
   ]
  },
  {
   "cell_type": "code",
   "execution_count": 1,
   "metadata": {
    "collapsed": false,
    "scrolled": true
   },
   "outputs": [
    {
     "data": {
      "text/plain": [
       "Dict{Any,Any} with 6 entries:\n",
       "  \"startweather\" => 612\n",
       "  \"timestep\"     => 6\n",
       "  \"netset\"       => \"usa\"\n",
       "  \"filterstate\"  => nothing\n",
       "  \"endmonth\"     => \"9/2010\"\n",
       "  \"startmonth\"   => \"10/2000\""
      ]
     },
     "execution_count": 1,
     "metadata": {},
     "output_type": "execute_result"
    }
   ],
   "source": [
    "include(\"../src/lib/readconfig.jl\")\n",
    "include(\"../src/lib/reservoirs.jl\")\n",
    "\n",
    "config = readconfig(\"../configs/standard.yml\")"
   ]
  },
  {
   "cell_type": "code",
   "execution_count": 2,
   "metadata": {
    "collapsed": false
   },
   "outputs": [
    {
     "data": {
      "text/latex": [
       "Return a DataFrame containing \\texttt{collection} and \\texttt{colid} fields matching those in the Water Network.\n",
       "Any additional columns can be provided, to be used by other components.\n",
       "Rows may be excluded, to represent that a given reservoir should be modeled as a stream at the specified timestep (in months).\n"
      ],
      "text/markdown": [
       "Return a DataFrame containing `collection` and `colid` fields matching those in the Water Network.\n",
       "\n",
       "Any additional columns can be provided, to be used by other components.\n",
       "\n",
       "Rows may be excluded, to represent that a given reservoir should be modeled as a stream at the specified timestep (in months).\n"
      ],
      "text/plain": [
       "Return a DataFrame containing `collection` and `colid` fields matching those in the Water Network.\n",
       "\n",
       "Any additional columns can be provided, to be used by other components.\n",
       "\n",
       "Rows may be excluded, to represent that a given reservoir should be modeled as a stream at the specified timestep (in months).\n"
      ]
     },
     "execution_count": 2,
     "metadata": {},
     "output_type": "execute_result"
    }
   ],
   "source": [
    "@doc getreservoirs"
   ]
  },
  {
   "cell_type": "code",
   "execution_count": 3,
   "metadata": {
    "collapsed": false
   },
   "outputs": [
    {
     "data": {
      "text/html": [
       "<table class=\"data-frame\"><tr><th></th><th>collection</th><th>colid</th><th>area</th><th>lat</th><th>lon</th><th>elev</th><th>MAXCAP</th></tr><tr><th>1</th><td>reservoir</td><td>1</td><td>NA</td><td>48.8733</td><td>-122.688</td><td>NA</td><td>5600</td></tr><tr><th>2</th><td>reservoir</td><td>2</td><td>145.03944</td><td>48.7583</td><td>-122.422</td><td>NA</td><td>77000</td></tr><tr><th>3</th><td>reservoir</td><td>3</td><td>556.84785</td><td>48.6583</td><td>-121.687</td><td>NA</td><td>177184</td></tr><tr><th>4</th><td>reservoir</td><td>4</td><td>556.84785</td><td>48.6483</td><td>-121.69</td><td>NA</td><td>316100</td></tr><tr><th>5</th><td>reservoir</td><td>5</td><td>2587.40001</td><td>48.7317</td><td>-121.067</td><td>NA</td><td>1633400</td></tr><tr><th>6</th><td>reservoir</td><td>6</td><td>2913.73875</td><td>48.7133</td><td>-121.13</td><td>NA</td><td>91600</td></tr><tr><th>7</th><td>reservoir</td><td>7</td><td>3001.79841</td><td>48.6983</td><td>-121.207</td><td>NA</td><td>10780</td></tr><tr><th>8</th><td>reservoir</td><td>8</td><td>769.22703</td><td>48.5483</td><td>-121.74</td><td>NA</td><td>161470</td></tr><tr><th>9</th><td>reservoir</td><td>9</td><td>NA</td><td>48.9317</td><td>-119.418</td><td>NA</td><td>40000</td></tr><tr><th>10</th><td>reservoir</td><td>10</td><td>797.71692</td><td>48.095</td><td>-123.555</td><td>NA</td><td>8100</td></tr><tr><th>11</th><td>reservoir</td><td>11</td><td>NA</td><td>48.8116</td><td>-119.533</td><td>NA</td><td>14030</td></tr><tr><th>12</th><td>reservoir</td><td>12</td><td>634.54755</td><td>48.0017</td><td>-123.598</td><td>NA</td><td>39100</td></tr><tr><th>13</th><td>reservoir</td><td>13</td><td>NA</td><td>48.9866</td><td>-117.347</td><td>NA</td><td>122000</td></tr><tr><th>14</th><td>reservoir</td><td>14</td><td>NA</td><td>48.5583</td><td>-119.745</td><td>NA</td><td>17280</td></tr><tr><th>15</th><td>reservoir</td><td>15</td><td>NA</td><td>48.4683</td><td>-120.25</td><td>NA</td><td>5715</td></tr><tr><th>16</th><td>reservoir</td><td>16</td><td>313.38879</td><td>48.5416</td><td>-119.747</td><td>NA</td><td>16600</td></tr><tr><th>17</th><td>reservoir</td><td>17</td><td>132.607488</td><td>48.84</td><td>-117.288</td><td>NA</td><td>31209</td></tr><tr><th>18</th><td>reservoir</td><td>18</td><td>NA</td><td>48.78</td><td>-117.41</td><td>NA</td><td>100000</td></tr><tr><th>19</th><td>reservoir</td><td>19</td><td>NA</td><td>48.3616</td><td>-119.697</td><td>NA</td><td>6750</td></tr><tr><th>20</th><td>reservoir</td><td>20</td><td>176.11932</td><td>47.975</td><td>-121.687</td><td>NA</td><td>48000</td></tr><tr><th>21</th><td>reservoir</td><td>21</td><td>NA</td><td>47.945</td><td>-121.83</td><td>NA</td><td>13200</td></tr><tr><th>22</th><td>reservoir</td><td>22</td><td>NA</td><td>47.665</td><td>-122.397</td><td>NA</td><td>458000</td></tr><tr><th>23</th><td>reservoir</td><td>23</td><td>106.18959</td><td>47.385</td><td>-123.605</td><td>NA</td><td>76000</td></tr><tr><th>24</th><td>reservoir</td><td>24</td><td>33.66987</td><td>48.2217</td><td>-118.893</td><td>NA</td><td>6400</td></tr><tr><th>25</th><td>reservoir</td><td>25</td><td>243.45906</td><td>47.4216</td><td>-123.222</td><td>NA</td><td>478000</td></tr><tr><th>26</th><td>reservoir</td><td>26</td><td>NA</td><td>47.3983</td><td>-123.2</td><td>NA</td><td>8750</td></tr><tr><th>27</th><td>reservoir</td><td>27</td><td>NA</td><td>47.6933</td><td>-121.688</td><td>NA</td><td>67200</td></tr><tr><th>28</th><td>reservoir</td><td>28</td><td>95.82963</td><td>48.275</td><td>-118.375</td><td>NA</td><td>18950</td></tr><tr><th>29</th><td>reservoir</td><td>29</td><td>1481.47428</td><td>48.49</td><td>-116.902</td><td>NA</td><td>82000</td></tr><tr><th>30</th><td>reservoir</td><td>30</td><td>NA</td><td>47.925</td><td>-120.177</td><td>NA</td><td>9464</td></tr><tr><th>&vellip;</th><td>&vellip;</td><td>&vellip;</td><td>&vellip;</td><td>&vellip;</td><td>&vellip;</td><td>&vellip;</td><td>&vellip;</td></tr></table>"
      ],
      "text/plain": [
       "2671×7 DataFrames.DataFrame\n",
       "│ Row  │ collection  │ colid    │ area    │ lat     │ lon      │ elev    │\n",
       "├──────┼─────────────┼──────────┼─────────┼─────────┼──────────┼─────────┤\n",
       "│ 1    │ \"reservoir\" │ 1        │ NA      │ 48.8733 │ -122.688 │ NA      │\n",
       "│ 2    │ \"reservoir\" │ 2        │ 145.039 │ 48.7583 │ -122.422 │ NA      │\n",
       "│ 3    │ \"reservoir\" │ 3        │ 556.848 │ 48.6583 │ -121.687 │ NA      │\n",
       "│ 4    │ \"reservoir\" │ 4        │ 556.848 │ 48.6483 │ -121.69  │ NA      │\n",
       "│ 5    │ \"reservoir\" │ 5        │ 2587.4  │ 48.7317 │ -121.067 │ NA      │\n",
       "│ 6    │ \"reservoir\" │ 6        │ 2913.74 │ 48.7133 │ -121.13  │ NA      │\n",
       "│ 7    │ \"reservoir\" │ 7        │ 3001.8  │ 48.6983 │ -121.207 │ NA      │\n",
       "│ 8    │ \"reservoir\" │ 8        │ 769.227 │ 48.5483 │ -121.74  │ NA      │\n",
       "│ 9    │ \"reservoir\" │ 9        │ NA      │ 48.9317 │ -119.418 │ NA      │\n",
       "│ 10   │ \"reservoir\" │ 10       │ 797.717 │ 48.095  │ -123.555 │ NA      │\n",
       "│ 11   │ \"reservoir\" │ 11       │ NA      │ 48.8116 │ -119.533 │ NA      │\n",
       "⋮\n",
       "│ 2660 │ \"usgsres\"   │ 8123755  │ 67.3397 │ 32.2437 │ -101.312 │ NA      │\n",
       "│ 2661 │ \"usgsres\"   │ 8123950  │ 39569.9 │ 31.8796 │ -100.517 │ NA      │\n",
       "│ 2662 │ \"usgsres\"   │ 8131200  │ 10018.1 │ 31.3821 │ -100.538 │ NA      │\n",
       "│ 2663 │ \"usgsres\"   │ 8134500  │ 3853.91 │ 31.4846 │ -100.482 │ NA      │\n",
       "│ 2664 │ \"usgsres\"   │ 8136600  │ 62258.2 │ 31.5002 │ -99.6684 │ NA      │\n",
       "│ 2665 │ \"usgsres\"   │ 8180010  │ 1680.9  │ 29.5102 │ -98.9014 │ 307.848 │\n",
       "│ 2666 │ \"usgsres\"   │ 8202800  │ 25.8999 │ 29.4452 │ -99.2528 │ 299.323 │\n",
       "│ 2667 │ \"usgsres\"   │ 9125800  │ 152.809 │ 38.2328 │ -107.542 │ 2720.52 │\n",
       "│ 2668 │ \"usgsres\"   │ 9129550  │ 193.213 │ 38.6914 │ -107.606 │ 1997.35 │\n",
       "│ 2669 │ \"usgsres\"   │ 9143600  │ NA      │ 38.8264 │ -107.955 │ 1671.83 │\n",
       "│ 2670 │ \"usgsres\"   │ 9147022  │ 686.347 │ 38.2372 │ -107.758 │ 2094.32 │\n",
       "│ 2671 │ \"usgsres\"   │ 15225990 │ 49.7278 │ 61.0731 │ -146.304 │ 198.12  │\n",
       "\n",
       "│ Row  │ MAXCAP  │\n",
       "├──────┼─────────┤\n",
       "│ 1    │ 5600    │\n",
       "│ 2    │ 77000   │\n",
       "│ 3    │ 177184  │\n",
       "│ 4    │ 316100  │\n",
       "│ 5    │ 1633400 │\n",
       "│ 6    │ 91600   │\n",
       "│ 7    │ 10780   │\n",
       "│ 8    │ 161470  │\n",
       "│ 9    │ 40000   │\n",
       "│ 10   │ 8100    │\n",
       "│ 11   │ 14030   │\n",
       "⋮\n",
       "│ 2660 │ 0       │\n",
       "│ 2661 │ 0       │\n",
       "│ 2662 │ 0       │\n",
       "│ 2663 │ 0       │\n",
       "│ 2664 │ 0       │\n",
       "│ 2665 │ 0       │\n",
       "│ 2666 │ 0       │\n",
       "│ 2667 │ 0       │\n",
       "│ 2668 │ 0       │\n",
       "│ 2669 │ 0       │\n",
       "│ 2670 │ 0       │\n",
       "│ 2671 │ 0       │"
      ]
     },
     "execution_count": 3,
     "metadata": {},
     "output_type": "execute_result"
    }
   ],
   "source": [
    "getreservoirs(config)"
   ]
  },
  {
   "cell_type": "markdown",
   "metadata": {},
   "source": [
    "# Optimization example"
   ]
  },
  {
   "cell_type": "markdown",
   "metadata": {
    "collapsed": true
   },
   "source": [
    "To understand the functioning of reservoirs, consider how they work in a very simple three gauge example.  The three guages example has three counties, with a river running through them.  The middle county has a reservoir.  Water is supplied only upstream (in counties 1 and 2) and consumed only downstream (in counties 2 and 3).\n",
    "\n",
    "![Three counties diagram](https://raw.githubusercontent.com/AmericasWater/operational-problem/master/docs/three.png)\n",
    "\n",
    "Note that the reservoir appears to be outside of the river system.  While it is spatially synonymous with the middle gauge, reservoirs get all of their inflows from \"captured\" water.  Any water that is not captured is allowed to run through the reservoir just like a stream.  Reservoir captures can also be negative, providing releases."
   ]
  },
  {
   "cell_type": "markdown",
   "metadata": {},
   "source": [
    "The `optimize-surface.jl` script models the constraints to satisfy surface water demands, using reservoirs to store water between periods.\n",
    "\n",
    "In the three counties example, the first period has more rainfall than the second period, so that storage is optimal."
   ]
  },
  {
   "cell_type": "code",
   "execution_count": 1,
   "metadata": {
    "collapsed": false
   },
   "outputs": [
    {
     "name": "stdout",
     "output_type": "stream",
     "text": [
      "Loading from saved region network...\n"
     ]
    },
    {
     "name": "stderr",
     "output_type": "stream",
     "text": [
      "WARNING: imported binding for edges overwritten in module Main\n"
     ]
    },
    {
     "name": "stdout",
     "output_type": "stream",
     "text": [
      "Loading from saved water network...\n",
      "Optimize a model with 22 rows, 20 columns and 50 nonzeros\n",
      "Coefficient statistics:\n",
      "  Matrix range    [1e+00, 1e+00]\n",
      "  Objective range [1e-02, 1e+03]\n",
      "  Bounds range    [0e+00, 0e+00]\n",
      "  RHS range       [1e+00, 1e+09]\n",
      "Presolve removed 17 rows and 12 columns\n",
      "Presolve time: 0.27s\n",
      "Presolved: 5 rows, 8 columns, 12 nonzeros\n",
      "\n",
      "Iteration    Objective       Primal Inf.    Dual Inf.      Time\n",
      "       0    1.0000000e-02   3.000000e+00   0.000000e+00      0s\n",
      "       3    4.0000000e-02   0.000000e+00   0.000000e+00      0s\n",
      "\n",
      "Solved in 3 iterations and 0.39 seconds\n",
      "Optimal objective  4.000000000e-02\n",
      "  5.969384 seconds (3.02 M allocations: 120.035 MB, 2.18% gc time)\n",
      "waterfromsupersource\n",
      "All zero.\n",
      "withdrawals\n",
      "[0.0,1.0,1.0,0.0,1.0,1.0]\n",
      "Sum: 4.0\n",
      "returns\n",
      "All zero.\n",
      "captures\n",
      "[1.0,-1.0]\n",
      "Sum: 0.0\n",
      "Ignore:\n",
      "\n"
     ]
    },
    {
     "data": {
      "text/plain": [
       "48"
      ]
     },
     "execution_count": 1,
     "metadata": {},
     "output_type": "execute_result"
    }
   ],
   "source": [
    "include(\"../src/optimize-surface.jl\")"
   ]
  },
  {
   "cell_type": "markdown",
   "metadata": {},
   "source": [
    "First, look at the runoff values, with rows for the three gauges and columns for the two time periods."
   ]
  },
  {
   "cell_type": "code",
   "execution_count": 2,
   "metadata": {
    "collapsed": false
   },
   "outputs": [
    {
     "data": {
      "text/plain": [
       "3x2 Array{Float64,2}:\n",
       " 2.0  1.0\n",
       " 1.0  0.0\n",
       " 0.0  0.0"
      ]
     },
     "execution_count": 2,
     "metadata": {},
     "output_type": "execute_result"
    }
   ],
   "source": [
    "runoff"
   ]
  },
  {
   "cell_type": "markdown",
   "metadata": {},
   "source": [
    "The requirements are for one unit of water each period for each of the lower two gauges."
   ]
  },
  {
   "cell_type": "code",
   "execution_count": 5,
   "metadata": {
    "collapsed": false
   },
   "outputs": [
    {
     "data": {
      "text/plain": [
       "3x2 Array{Float64,2}:\n",
       " 0.0  0.0\n",
       " 1.0  1.0\n",
       " 1.0  1.0"
      ]
     },
     "execution_count": 5,
     "metadata": {},
     "output_type": "execute_result"
    }
   ],
   "source": [
    "reshape(constraintoffset_allocation_recordedbalance(m).f, 3, 2)"
   ]
  },
  {
   "cell_type": "markdown",
   "metadata": {},
   "source": [
    "The order of the parameters in the LP problem is:"
   ]
  },
  {
   "cell_type": "code",
   "execution_count": 6,
   "metadata": {
    "collapsed": false
   },
   "outputs": [
    {
     "data": {
      "text/plain": [
       "4-element Array{Symbol,1}:\n",
       " :waterfromsupersource\n",
       " :withdrawals         \n",
       " :returns             \n",
       " :captures            "
      ]
     },
     "execution_count": 6,
     "metadata": {},
     "output_type": "execute_result"
    }
   ],
   "source": [
    "parameters"
   ]
  },
  {
   "cell_type": "markdown",
   "metadata": {},
   "source": [
    "And the order of the constraint variables is:"
   ]
  },
  {
   "cell_type": "code",
   "execution_count": 8,
   "metadata": {
    "collapsed": false
   },
   "outputs": [
    {
     "data": {
      "text/plain": [
       "5-element Array{Symbol,1}:\n",
       " :outflows     \n",
       " :balance      \n",
       " :returnbalance\n",
       " :storagemin   \n",
       " :storagemax   "
      ]
     },
     "execution_count": 8,
     "metadata": {},
     "output_type": "execute_result"
    }
   ],
   "source": [
    "constraints"
   ]
  },
  {
   "cell_type": "markdown",
   "metadata": {},
   "source": [
    "Consider the constraint matrix one parameter at a time.  The first parameter is the water drawn from the supersource, which only affects the second constraint, `:balance`, the difference between water demand and water supply.  The objective function is such that supersource withdrawals are avoided."
   ]
  },
  {
   "cell_type": "code",
   "execution_count": 3,
   "metadata": {
    "collapsed": false
   },
   "outputs": [
    {
     "data": {
      "text/plain": [
       "22x6 Array{Float64,2}:\n",
       "  0.0   0.0   0.0   0.0   0.0   0.0\n",
       "  0.0   0.0   0.0   0.0   0.0   0.0\n",
       "  0.0   0.0   0.0   0.0   0.0   0.0\n",
       "  0.0   0.0   0.0   0.0   0.0   0.0\n",
       "  0.0   0.0   0.0   0.0   0.0   0.0\n",
       "  0.0   0.0   0.0   0.0   0.0   0.0\n",
       " -1.0   0.0   0.0   0.0   0.0   0.0\n",
       "  0.0  -1.0   0.0   0.0   0.0   0.0\n",
       "  0.0   0.0  -1.0   0.0   0.0   0.0\n",
       "  0.0   0.0   0.0  -1.0   0.0   0.0\n",
       "  0.0   0.0   0.0   0.0  -1.0   0.0\n",
       "  0.0   0.0   0.0   0.0   0.0  -1.0\n",
       "  0.0   0.0   0.0   0.0   0.0   0.0\n",
       "  0.0   0.0   0.0   0.0   0.0   0.0\n",
       "  0.0   0.0   0.0   0.0   0.0   0.0\n",
       "  0.0   0.0   0.0   0.0   0.0   0.0\n",
       "  0.0   0.0   0.0   0.0   0.0   0.0\n",
       "  0.0   0.0   0.0   0.0   0.0   0.0\n",
       "  0.0   0.0   0.0   0.0   0.0   0.0\n",
       "  0.0   0.0   0.0   0.0   0.0   0.0\n",
       "  0.0   0.0   0.0   0.0   0.0   0.0\n",
       "  0.0   0.0   0.0   0.0   0.0   0.0"
      ]
     },
     "execution_count": 3,
     "metadata": {},
     "output_type": "execute_result"
    }
   ],
   "source": [
    "full(house.A)[:, 1:6]"
   ]
  },
  {
   "cell_type": "markdown",
   "metadata": {
    "collapsed": true
   },
   "source": [
    "Normal withdrawals affect `:balance` as well, but they also affect the level of streamflow, which is constrained to be above 0.  See the top six rows in two blocks, in the upper left and lower right, corresponding to the two periods.  The gauges are ordered, by chance, such that the most upstream gauge is second, so a withdrawal from that gauge causes all three gauges to inch closer to empty."
   ]
  },
  {
   "cell_type": "code",
   "execution_count": 4,
   "metadata": {
    "collapsed": false
   },
   "outputs": [
    {
     "data": {
      "text/plain": [
       "22x6 Array{Float64,2}:\n",
       "  0.0   1.0   0.0   0.0   0.0   0.0\n",
       "  1.0   1.0   0.0   0.0   0.0   0.0\n",
       "  1.0   1.0   1.0   0.0   0.0   0.0\n",
       "  0.0   0.0   0.0   0.0   1.0   0.0\n",
       "  0.0   0.0   0.0   1.0   1.0   0.0\n",
       "  0.0   0.0   0.0   1.0   1.0   1.0\n",
       " -1.0   0.0   0.0   0.0   0.0   0.0\n",
       "  0.0  -1.0   0.0   0.0   0.0   0.0\n",
       "  0.0   0.0  -1.0   0.0   0.0   0.0\n",
       "  0.0   0.0   0.0  -1.0   0.0   0.0\n",
       "  0.0   0.0   0.0   0.0  -1.0   0.0\n",
       "  0.0   0.0   0.0   0.0   0.0  -1.0\n",
       "  0.0   0.0   0.0   0.0   0.0   0.0\n",
       "  0.0   0.0   0.0   0.0   0.0   0.0\n",
       "  0.0   0.0   0.0   0.0   0.0   0.0\n",
       "  0.0   0.0   0.0   0.0   0.0   0.0\n",
       "  0.0   0.0   0.0   0.0   0.0   0.0\n",
       "  0.0   0.0   0.0   0.0   0.0   0.0\n",
       "  0.0   0.0   0.0   0.0   0.0   0.0\n",
       "  0.0   0.0   0.0   0.0   0.0   0.0\n",
       "  0.0   0.0   0.0   0.0   0.0   0.0\n",
       "  0.0   0.0   0.0   0.0   0.0   0.0"
      ]
     },
     "execution_count": 4,
     "metadata": {},
     "output_type": "execute_result"
    }
   ],
   "source": [
    "full(house.A)[:, 7:12]"
   ]
  },
  {
   "cell_type": "markdown",
   "metadata": {},
   "source": [
    "We'll ignore the `:returns` constraint.  The last is the reservoir in the two periods.  Reservoir captures have the same affect on streamflows, at least downstream.  They have no direct effect on `:balance`.  Finally, they affect the last two constraints on the upper and lower bounds of the reservoir, where capture (or release) in period 1 affects both periods, while capture (or release) in period 2 only affects one."
   ]
  },
  {
   "cell_type": "code",
   "execution_count": 6,
   "metadata": {
    "collapsed": false
   },
   "outputs": [
    {
     "data": {
      "text/plain": [
       "22x2 Array{Float64,2}:\n",
       "  0.0   0.0\n",
       "  0.0   0.0\n",
       "  1.0   0.0\n",
       "  0.0   0.0\n",
       "  0.0   0.0\n",
       "  0.0   1.0\n",
       "  0.0   0.0\n",
       "  0.0   0.0\n",
       "  0.0   0.0\n",
       "  0.0   0.0\n",
       "  0.0   0.0\n",
       "  0.0   0.0\n",
       "  0.0   0.0\n",
       "  0.0   0.0\n",
       "  0.0   0.0\n",
       "  0.0   0.0\n",
       "  0.0   0.0\n",
       "  0.0   0.0\n",
       " -1.0   0.0\n",
       " -1.0  -1.0\n",
       "  1.0   0.0\n",
       "  1.0   1.0"
      ]
     },
     "execution_count": 6,
     "metadata": {},
     "output_type": "execute_result"
    }
   ],
   "source": [
    "full(house.A)[:, end-1:end]"
   ]
  },
  {
   "cell_type": "markdown",
   "metadata": {},
   "source": [
    "The result is that it is optimal to store one unit of water and release it in the second period."
   ]
  },
  {
   "cell_type": "code",
   "execution_count": 7,
   "metadata": {
    "collapsed": false
   },
   "outputs": [
    {
     "name": "stdout",
     "output_type": "stream",
     "text": [
      "Ignore:\n",
      "\n"
     ]
    },
    {
     "data": {
      "text/html": [
       "<table class=\"data-frame\"><tr><th></th><th>solution</th><th>component</th><th>parameter</th><th>abovefail</th><th>belowfail</th></tr><tr><th>1</th><td>0.0</td><td>Allocation</td><td>waterfromsupersource</td><td></td><td>balance.1</td></tr><tr><th>2</th><td>0.0</td><td>Allocation</td><td>waterfromsupersource</td><td></td><td>balance.2</td></tr><tr><th>3</th><td>0.0</td><td>Allocation</td><td>waterfromsupersource</td><td></td><td>balance.3</td></tr><tr><th>4</th><td>0.0</td><td>Allocation</td><td>waterfromsupersource</td><td></td><td>balance.4</td></tr><tr><th>5</th><td>0.0</td><td>Allocation</td><td>waterfromsupersource</td><td></td><td>balance.5</td></tr><tr><th>6</th><td>0.0</td><td>Allocation</td><td>waterfromsupersource</td><td></td><td>balance.6</td></tr><tr><th>7</th><td>0.0</td><td>Allocation</td><td>withdrawals</td><td>outflows.3</td><td>balance.1</td></tr><tr><th>8</th><td>1.0</td><td>Allocation</td><td>withdrawals</td><td>outflows.3</td><td>balance.2</td></tr><tr><th>9</th><td>1.0</td><td>Allocation</td><td>withdrawals</td><td>outflows.3</td><td>balance.3</td></tr><tr><th>10</th><td>0.0</td><td>Allocation</td><td>withdrawals</td><td>outflows.5, outflows.6</td><td>balance.4</td></tr><tr><th>11</th><td>1.0</td><td>Allocation</td><td>withdrawals</td><td>outflows.4, outflows.5, outflows.6</td><td>balance.5</td></tr><tr><th>12</th><td>1.0</td><td>Allocation</td><td>withdrawals</td><td>outflows.6</td><td>balance.6</td></tr><tr><th>13</th><td>0.0</td><td>Allocation</td><td>returns</td><td>returnbalance.1</td><td>outflows.3</td></tr><tr><th>14</th><td>0.0</td><td>Allocation</td><td>returns</td><td>returnbalance.2</td><td>outflows.3</td></tr><tr><th>15</th><td>0.0</td><td>Allocation</td><td>returns</td><td>returnbalance.3</td><td>outflows.3</td></tr><tr><th>16</th><td>0.0</td><td>Allocation</td><td>returns</td><td>returnbalance.4</td><td>outflows.5, outflows.6</td></tr><tr><th>17</th><td>0.0</td><td>Allocation</td><td>returns</td><td>returnbalance.5</td><td>outflows.4, outflows.5, outflows.6</td></tr><tr><th>18</th><td>0.0</td><td>Allocation</td><td>returns</td><td>returnbalance.6</td><td>outflows.6</td></tr><tr><th>19</th><td>1.0</td><td>Reservoir</td><td>captures</td><td>outflows.3</td><td>storagemin.2</td></tr><tr><th>20</th><td>-1.0</td><td>Reservoir</td><td>captures</td><td>outflows.6</td><td>storagemin.2</td></tr></table>"
      ],
      "text/plain": [
       "20×5 DataFrames.DataFrame\n",
       "│ Row │ solution │ component  │ parameter            │\n",
       "├─────┼──────────┼────────────┼──────────────────────┤\n",
       "│ 1   │ 0.0      │ Allocation │ waterfromsupersource │\n",
       "│ 2   │ 0.0      │ Allocation │ waterfromsupersource │\n",
       "│ 3   │ 0.0      │ Allocation │ waterfromsupersource │\n",
       "│ 4   │ 0.0      │ Allocation │ waterfromsupersource │\n",
       "│ 5   │ 0.0      │ Allocation │ waterfromsupersource │\n",
       "│ 6   │ 0.0      │ Allocation │ waterfromsupersource │\n",
       "│ 7   │ 0.0      │ Allocation │ withdrawals          │\n",
       "│ 8   │ 1.0      │ Allocation │ withdrawals          │\n",
       "│ 9   │ 1.0      │ Allocation │ withdrawals          │\n",
       "│ 10  │ 0.0      │ Allocation │ withdrawals          │\n",
       "│ 11  │ 1.0      │ Allocation │ withdrawals          │\n",
       "│ 12  │ 1.0      │ Allocation │ withdrawals          │\n",
       "│ 13  │ 0.0      │ Allocation │ returns              │\n",
       "│ 14  │ 0.0      │ Allocation │ returns              │\n",
       "│ 15  │ 0.0      │ Allocation │ returns              │\n",
       "│ 16  │ 0.0      │ Allocation │ returns              │\n",
       "│ 17  │ 0.0      │ Allocation │ returns              │\n",
       "│ 18  │ 0.0      │ Allocation │ returns              │\n",
       "│ 19  │ 1.0      │ Reservoir  │ captures             │\n",
       "│ 20  │ -1.0     │ Reservoir  │ captures             │\n",
       "\n",
       "│ Row │ abovefail                            │\n",
       "├─────┼──────────────────────────────────────┤\n",
       "│ 1   │ \"\"                                   │\n",
       "│ 2   │ \"\"                                   │\n",
       "│ 3   │ \"\"                                   │\n",
       "│ 4   │ \"\"                                   │\n",
       "│ 5   │ \"\"                                   │\n",
       "│ 6   │ \"\"                                   │\n",
       "│ 7   │ \"outflows.3\"                         │\n",
       "│ 8   │ \"outflows.3\"                         │\n",
       "│ 9   │ \"outflows.3\"                         │\n",
       "│ 10  │ \"outflows.5, outflows.6\"             │\n",
       "│ 11  │ \"outflows.4, outflows.5, outflows.6\" │\n",
       "│ 12  │ \"outflows.6\"                         │\n",
       "│ 13  │ \"returnbalance.1\"                    │\n",
       "│ 14  │ \"returnbalance.2\"                    │\n",
       "│ 15  │ \"returnbalance.3\"                    │\n",
       "│ 16  │ \"returnbalance.4\"                    │\n",
       "│ 17  │ \"returnbalance.5\"                    │\n",
       "│ 18  │ \"returnbalance.6\"                    │\n",
       "│ 19  │ \"outflows.3\"                         │\n",
       "│ 20  │ \"outflows.6\"                         │\n",
       "\n",
       "│ Row │ belowfail                            │\n",
       "├─────┼──────────────────────────────────────┤\n",
       "│ 1   │ \"balance.1\"                          │\n",
       "│ 2   │ \"balance.2\"                          │\n",
       "│ 3   │ \"balance.3\"                          │\n",
       "│ 4   │ \"balance.4\"                          │\n",
       "│ 5   │ \"balance.5\"                          │\n",
       "│ 6   │ \"balance.6\"                          │\n",
       "│ 7   │ \"balance.1\"                          │\n",
       "│ 8   │ \"balance.2\"                          │\n",
       "│ 9   │ \"balance.3\"                          │\n",
       "│ 10  │ \"balance.4\"                          │\n",
       "│ 11  │ \"balance.5\"                          │\n",
       "│ 12  │ \"balance.6\"                          │\n",
       "│ 13  │ \"outflows.3\"                         │\n",
       "│ 14  │ \"outflows.3\"                         │\n",
       "│ 15  │ \"outflows.3\"                         │\n",
       "│ 16  │ \"outflows.5, outflows.6\"             │\n",
       "│ 17  │ \"outflows.4, outflows.5, outflows.6\" │\n",
       "│ 18  │ \"outflows.6\"                         │\n",
       "│ 19  │ \"storagemin.2\"                       │\n",
       "│ 20  │ \"storagemin.2\"                       │"
      ]
     },
     "execution_count": 7,
     "metadata": {},
     "output_type": "execute_result"
    }
   ],
   "source": [
    "constraining(house, sol.sol)"
   ]
  },
  {
   "cell_type": "markdown",
   "metadata": {},
   "source": [
    "Future work:\n",
    "- The optimization does not include evaporation, since this would make the numbers for this toy example inconvenient.  Evaporation needs to be added to both the optimization and the example."
   ]
  },
  {
   "cell_type": "markdown",
   "metadata": {},
   "source": [
    "# Reservoir data"
   ]
  },
  {
   "cell_type": "markdown",
   "metadata": {},
   "source": [
    "### Maximum Reservoir Storage (or Capacity)"
   ]
  },
  {
   "cell_type": "markdown",
   "metadata": {},
   "source": [
    "Received Maximum capacity for 2641 reservoirs from the US Army Corps of Engineers. However, in the allreservoirs.csv file in the folder awash/data/reservoirs/,there are 2671 reservoirs in total. \n",
    "\n",
    "The allreservoir.csv database is being used in the reservoir optimization (reservoir.jl). The remaining 30 reservoirs are from the USGS website. \n",
    "\n",
    "Since we are unable to currently find the maximum capacity for those 30 reservoirs (reservoir codes mentioned below), for this example, the maximum capacity is taken as 0.\n",
    "\n",
    "usgsres\t3170500\n",
    "usgsres\t5113750\n",
    "usgsres\t6886900\n",
    "usgsres\t7233550\n",
    "usgsres\t7332610\n",
    "usgsres\t7342495\n",
    "usgsres\t7343460\n",
    "usgsres\t7344488\n",
    "usgsres\t8025350\n",
    "usgsres\t8051100\n",
    "usgsres\t8064550\n",
    "usgsres\t8072500\n",
    "usgsres\t8073000\n",
    "usgsres\t8079700\n",
    "usgsres\t8092500\n",
    "usgsres\t8095550\n",
    "usgsres\t8118000\n",
    "usgsres\t8123000\n",
    "usgsres\t8123755\n",
    "usgsres\t8123950\n",
    "usgsres\t8131200\n",
    "usgsres\t8134500\n",
    "usgsres\t8136600\n",
    "usgsres\t8180010\n",
    "usgsres\t8202800\n",
    "usgsres\t9125800\n",
    "usgsres\t9129550\n",
    "usgsres\t9143600\n",
    "usgsres\t9147022\n",
    "usgsres\t15225990\n"
   ]
  },
  {
   "cell_type": "markdown",
   "metadata": {
    "collapsed": true
   },
   "source": [
    "### Minimum reservoir storage"
   ]
  },
  {
   "cell_type": "markdown",
   "metadata": {
    "collapsed": true
   },
   "source": [
    "The minimum reservoir storage is assumed to be 10% of the maximum reservoir storage, i.e.\n",
    "\n",
    "storagecapacitymin = 0.1 * storagecapacitymax\n",
    "\n",
    "This data needs improvement -- we need to find the minimum storage for each reservoir rather than taking one assumptions for all reservoirs"
   ]
  },
  {
   "cell_type": "markdown",
   "metadata": {},
   "source": [
    "### Initial Storage"
   ]
  },
  {
   "cell_type": "markdown",
   "metadata": {},
   "source": [
    "The initial storage is assumed to be the average of minimum and maximum capacity, i.e.\n",
    "\n",
    "Initial storage = (storagecapacitymax-storagecapacitymin)/2\n",
    "\n",
    "This data needs improvement -- we need to find the initial storage of each reservoir"
   ]
  },
  {
   "cell_type": "markdown",
   "metadata": {},
   "source": [
    "### Evaporation"
   ]
  },
  {
   "cell_type": "markdown",
   "metadata": {},
   "source": [
    "Evaporation is currently assumed to be 1% of the storage capacity, i.e.\n",
    "\n",
    "Evaporation = 0.01 * storagecapacitymax\n",
    "\n",
    "The data needs improvement -- we need to find a linear relationship between evaporation and reservoir storage."
   ]
  },
  {
   "cell_type": "code",
   "execution_count": null,
   "metadata": {
    "collapsed": true
   },
   "outputs": [],
   "source": []
  }
 ],
 "metadata": {
  "anaconda-cloud": {},
  "kernelspec": {
   "display_name": "Julia 0.4.6",
   "language": "julia",
   "name": "julia-0.4"
  },
  "language_info": {
   "file_extension": ".jl",
   "mimetype": "application/julia",
   "name": "julia",
   "version": "0.4.6"
  }
 },
 "nbformat": 4,
 "nbformat_minor": 0
}
