{
 "cells": [
  {
   "cell_type": "markdown",
   "metadata": {},
   "source": [
    "# Model description\n",
    "\n",
    "The America's Water model describes the connections between water supply and water demand and the spatial and temporal decisions around them.  The broad goals of the model are to understand cross-basin connections in the US, the price of water and tradeoffs, and the future landscape of water.\n",
    "\n",
    "The current version of the model is called the \"Operational Problem\" model.  Water supply can come from river network runoff, groundwater with seepage, and reservoirs with storage.  Water demand is driven by agriculture and livestock, industry, urban demands, and thermoelectric plants.  The transporation and selling of agricultural products is also modeled, and this is where the model gets its name: the key objective of the model is to maximize profits to farmers, under a variety of constraints and planning."
   ]
  },
  {
   "cell_type": "markdown",
   "metadata": {},
   "source": [
    "![Operational Problem Model](https://raw.githubusercontent.com/AmericasWater/operational-problem/master/docs/ModelDiagram.png)"
   ]
  },
  {
   "cell_type": "markdown",
   "metadata": {},
   "source": [
    "# Simulation and optimization\n",
    "\n",
    "The model can be run in simulation mode or optimization mode.  For simulation mode, we have collected inputs that describe the current situation in the United States, and the model produces results from this, such as total agricultural production and market outputs.  Under optimization mode, a variety of decision variables are selected to optimize the benefits produced by water.\n",
    "\n",
    "The model can also be run using a mix of simulation and optimization, selecting some parameters to be fed by data and others by optimization.  You can also generate decisions with the optimization mode under one set of assumptions, and then simulate it with another set, for example if the water managers understand only part of the full water system."
   ]
  },
  {
   "cell_type": "code",
   "execution_count": null,
   "metadata": {
    "collapsed": true
   },
   "outputs": [],
   "source": []
  }
 ],
 "metadata": {
  "kernelspec": {
   "display_name": "Julia 0.4.0",
   "language": "julia",
   "name": "julia-0.4"
  },
  "language_info": {
   "file_extension": ".jl",
   "mimetype": "application/julia",
   "name": "julia",
   "version": "0.4.0"
  }
 },
 "nbformat": 4,
 "nbformat_minor": 0
}
