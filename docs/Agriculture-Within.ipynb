{
 "cells": [
  {
   "cell_type": "code",
   "execution_count": 16,
   "metadata": {
    "scrolled": true
   },
   "outputs": [
    {
     "name": "stderr",
     "output_type": "stream",
     "text": [
      "\u001b[1m\u001b[33mWARNING: \u001b[39m\u001b[22m\u001b[33mRCall is not installed, so some graphing will not work.  If you have R installed, install RCall with `Pkg.add(\"RCall\")`.\u001b[39m\n"
     ]
    },
    {
     "name": "stdout",
     "output_type": "stream",
     "text": [
      "\u001b[0;1;34;94m┌───────────────\u001b[0;34m────────────────\u001b[0;37m────────────────\u001b[0;1;30;90m───┐\u001b[0m\n",
      "\u001b[0;34m│\u001b[0m    \u001b[0;34m▄▄\u001b[0m    \u001b[0;34m▄▄\u001b[0m      \u001b[0;37m▄▄\u001b[0m    \u001b[0;37m▄▄\u001b[0m       \u001b[0;1;30;90m▄▄▄▄\u001b[0m    \u001b[0;1;30;90m▄▄\u001b[0m    \u001b[0;1;34;94m▄▄\u001b[0m \u001b[0;1;34;94m│\u001b[0m\n",
      "\u001b[0;34m│\u001b[0m   \u001b[0;34m████\u001b[0m   \u001b[0;37m██\u001b[0m      \u001b[0;37m██\u001b[0m   \u001b[0;1;30;90m████\u001b[0m    \u001b[0;1;30;90m▄█▀▀▀▀█\u001b[0m   \u001b[0;1;34;94m██\u001b[0m    \u001b[0;1;34;94m██\u001b[0m \u001b[0;1;34;94m│\u001b[0m\n",
      "\u001b[0;37m│\u001b[0m   \u001b[0;37m████\u001b[0m   \u001b[0;37m▀█▄\u001b[0m \u001b[0;37m█\u001b[0;1;30;90m█\u001b[0m \u001b[0;1;30;90m▄█▀\u001b[0m   \u001b[0;1;30;90m████\u001b[0m    \u001b[0;1;34;94m██▄\u001b[0m       \u001b[0;1;34;94m██\u001b[0m    \u001b[0;34m██\u001b[0m \u001b[0;34m│\u001b[0m\n",
      "\u001b[0;37m│\u001b[0m  \u001b[0;37m██\u001b[0m  \u001b[0;37m█\u001b[0;1;30;90m█\u001b[0m   \u001b[0;1;30;90m██\u001b[0m \u001b[0;1;30;90m██\u001b[0m \u001b[0;1;30;90m██\u001b[0m   \u001b[0;1;30;90m█\u001b[0;1;34;94m█\u001b[0m  \u001b[0;1;34;94m██\u001b[0m    \u001b[0;1;34;94m▀████▄\u001b[0m   \u001b[0;34m████████\u001b[0m \u001b[0;34m│\u001b[0m\n",
      "\u001b[0;1;30;90m│\u001b[0m  \u001b[0;1;30;90m██████\u001b[0m   \u001b[0;1;30;90m███▀\u001b[0;1;34;94m▀███\u001b[0m   \u001b[0;1;34;94m██████\u001b[0m        \u001b[0;34m▀██\u001b[0m  \u001b[0;34m██\u001b[0m    \u001b[0;37m██\u001b[0m \u001b[0;37m│\u001b[0m\n",
      "\u001b[0;1;30;90m│\u001b[0m \u001b[0;1;30;90m▄██\u001b[0m  \u001b[0;1;30;90m█\u001b[0;1;34;94m█▄\u001b[0m  \u001b[0;1;34;94m███\u001b[0m  \u001b[0;1;34;94m███\u001b[0m  \u001b[0;1;34;94m▄█\u001b[0;34m█\u001b[0m  \u001b[0;34m██▄\u001b[0m  \u001b[0;34m█▄▄▄▄▄█▀\u001b[0m  \u001b[0;37m██\u001b[0m    \u001b[0;37m██\u001b[0m \u001b[0;37m│\u001b[0m\n",
      "\u001b[0;1;34;94m│\u001b[0m \u001b[0;1;34;94m▀▀\u001b[0m    \u001b[0;1;34;94m▀▀\u001b[0m  \u001b[0;1;34;94m▀▀▀\u001b[0m  \u001b[0;34m▀▀▀\u001b[0m  \u001b[0;34m▀▀\u001b[0m    \u001b[0;34m▀▀\u001b[0m   \u001b[0;37m▀▀▀▀▀\u001b[0m    \u001b[0;37m▀▀\u001b[0m    \u001b[0;1;30;90m▀▀\u001b[0m \u001b[0;1;30;90m│\u001b[0m\n",
      "\u001b[0;34m└───────\u001b[0;37m────────────────\u001b[0;1;30;90m────────────────\u001b[0;1;34;94m───────────┘\u001b[0m\n",
      "\n",
      "Welcome to AWASH, the America's Water Model, version 0.9.\n",
      "\n"
     ]
    }
   ],
   "source": [
    "include(\"../src/nui.jl\");"
   ]
  },
  {
   "cell_type": "code",
   "execution_count": 17,
   "metadata": {
    "collapsed": true
   },
   "outputs": [],
   "source": [
    "config = readconfig(\"../configs/complete.yml\")\n",
    "include(\"../src/world-minimal.jl\")"
   ]
  },
  {
   "cell_type": "code",
   "execution_count": 18,
   "metadata": {},
   "outputs": [
    {
     "data": {
      "text/plain": [
       "getirrigationperdayarea"
      ]
     },
     "execution_count": 18,
     "metadata": {},
     "output_type": "execute_result"
    }
   ],
   "source": [
    "include(\"../src/lib/agriculture-years.jl\")"
   ]
  },
  {
   "cell_type": "code",
   "execution_count": 24,
   "metadata": {},
   "outputs": [
    {
     "data": {
      "text/plain": [
       "3109-element Array{Float64,1}:\n",
       "   4066.02     \n",
       "  53881.7      \n",
       "   3001.11     \n",
       "    954.27     \n",
       "    663.84     \n",
       "    843.63     \n",
       "    470.22     \n",
       "   5656.47     \n",
       "    276.6      \n",
       "   1714.92     \n",
       "   1590.45     \n",
       "     41.49     \n",
       "     96.81     \n",
       "      ⋮        \n",
       "      2.6241e5 \n",
       "      2.15458e5\n",
       "  93477.0      \n",
       "      4.06146e5\n",
       "      4.53347e5\n",
       "      2.65674e5\n",
       "      2.23603e5\n",
       " 140900.0      \n",
       "  34201.6      \n",
       "      2.93514e5\n",
       "      2.17076e5\n",
       "  34395.2      "
      ]
     },
     "execution_count": 24,
     "metadata": {},
     "output_type": "execute_result"
    }
   ],
   "source": [
    "recorded = knowndf(\"exogenous-withdrawals\")\n",
    "irtotal = recorded[:IR_To] * 1383."
   ]
  },
  {
   "cell_type": "code",
   "execution_count": 39,
   "metadata": {
    "scrolled": true
   },
   "outputs": [
    {
     "name": "stderr",
     "output_type": "stream",
     "text": [
      "WARNING: DataArrays.NA is deprecated.\n",
      "  likely near In[39]:1\n",
      "WARNING: DataArrays.NA is deprecated.\n",
      "  likely near In[39]:1\n",
      "in valueonmaster at /Users/jrising/research/water/awash/src/lib/datastore.jl\n"
     ]
    },
    {
     "ename": "LoadError",
     "evalue": "\u001b[91mMissingException: missing values are not allowed in indices\u001b[39m",
     "output_type": "error",
     "traceback": [
      "\u001b[91mMissingException: missing values are not allowed in indices\u001b[39m",
      "",
      "Stacktrace:",
      " [1] \u001b[1mcheckindex\u001b[22m\u001b[22m at \u001b[1m./abstractarray.jl:468\u001b[22m\u001b[22m [inlined]",
      " [2] \u001b[1mcheckbounds\u001b[22m\u001b[22m at \u001b[1m./abstractarray.jl:347\u001b[22m\u001b[22m [inlined]",
      " [3] \u001b[1mcheckbounds\u001b[22m\u001b[22m at \u001b[1m./abstractarray.jl:362\u001b[22m\u001b[22m [inlined]",
      " [4] \u001b[1mmacro expansion\u001b[22m\u001b[22m at \u001b[1m./multidimensional.jl:494\u001b[22m\u001b[22m [inlined]",
      " [5] \u001b[1m_getindex\u001b[22m\u001b[22m at \u001b[1m./multidimensional.jl:491\u001b[22m\u001b[22m [inlined]",
      " [6] \u001b[1mgetindex\u001b[22m\u001b[22m\u001b[1m(\u001b[22m\u001b[22m::Array{Union{Missings.Missing, String},1}, ::Array{Missings.Missing,1}\u001b[1m)\u001b[22m\u001b[22m at \u001b[1m./abstractarray.jl:883\u001b[22m\u001b[22m",
      " [7] \u001b[1mcopy!\u001b[22m\u001b[22m\u001b[1m(\u001b[22m\u001b[22m::Array{Any,1}, ::Base.Generator{Array{Any,1},DataFrames.##67#68{Array{Missings.Missing,1}}}\u001b[1m)\u001b[22m\u001b[22m at \u001b[1m./abstractarray.jl:573\u001b[22m\u001b[22m",
      " [8] \u001b[1m_collect\u001b[22m\u001b[22m\u001b[1m(\u001b[22m\u001b[22m::Type{Any}, ::Base.Generator{Array{Any,1},DataFrames.##67#68{Array{Missings.Missing,1}}}, ::Base.HasShape\u001b[1m)\u001b[22m\u001b[22m at \u001b[1m./array.jl:396\u001b[22m\u001b[22m",
      " [9] \u001b[1mgetindex\u001b[22m\u001b[22m\u001b[1m(\u001b[22m\u001b[22m::DataFrames.DataFrame, ::Array{Missings.Missing,1}, ::Colon\u001b[1m)\u001b[22m\u001b[22m at \u001b[1m/Users/jrising/.julia/v0.6/DataFrames/src/dataframe/dataframe.jl:307\u001b[22m\u001b[22m",
      " [10] \u001b[1mgetirrigationperdayarea\u001b[22m\u001b[22m\u001b[1m(\u001b[22m\u001b[22m::Array{Float64,1}\u001b[1m)\u001b[22m\u001b[22m at \u001b[1m/Users/jrising/research/water/awash/src/lib/agriculture-years.jl:53\u001b[22m\u001b[22m"
     ]
    }
   ],
   "source": [
    "getirrigationperdayarea(irtotal)"
   ]
  },
  {
   "cell_type": "code",
   "execution_count": 36,
   "metadata": {
    "scrolled": true
   },
   "outputs": [
    {
     "data": {
      "text/plain": [
       "3109-element Array{Any,1}:\n",
       " 17900.0     \n",
       " 72900.0     \n",
       "  5500.0     \n",
       "  4500.0     \n",
       " 22000.0     \n",
       "  5000.0     \n",
       "  1800.0     \n",
       " 18700.0     \n",
       "  -141.0     \n",
       " 39975.0     \n",
       "      missing\n",
       "     0.0     \n",
       "  5000.0     \n",
       "     ⋮       \n",
       " 38805.0     \n",
       " 10092.0     \n",
       " 18905.0     \n",
       " 49828.0     \n",
       " 15662.0     \n",
       " 32092.0     \n",
       "      missing\n",
       "  7042.0     \n",
       "      missing\n",
       "      missing\n",
       " 23280.0     \n",
       " 17281.0     "
      ]
     },
     "execution_count": 36,
     "metadata": {},
     "output_type": "execute_result"
    }
   ],
   "source": [
    "    irrigareas = CSV.read(loadpath(\"agriculture/irrigatedareas.csv\"), types=[Int64, Union{Float64, Missing}, Union{Float64, Missing}, Union{Float64, Missing}, Union{Float64, Missing}, Union{Float64, Missing}, Union{Float64, Missing}, Union{Float64, Missing}, Union{Float64, Missing}, Union{Float64, Missing}], missingstring=\"NA\")\n",
    "    rainyareas = CSV.read(loadpath(\"agriculture/rainfedareas.csv\"), types=[Int64, Union{Float64, Missing}, Union{Float64, Missing}, Union{Float64, Missing}, Union{Float64, Missing}, Union{Float64, Missing}, Union{Float64, Missing}, Union{Float64, Missing}, Union{Float64, Missing}, Union{Float64, Missing}], missingstring=\"NA\")\n",
    "    knownareas = CSV.read(loadpath(\"agriculture/knownareas.csv\"), types=[Int64, Float64, Float64, Float64, Float64, Float64, Float64, Float64, Float64])\n",
    "    otherareas = knownareas[:total]\n",
    "    totaldayareas = zeros(length(irtotal))\n",
    "\n",
    "crop = :Alfalfa\n",
    "        otherareas -= irrigareas[crop] + rainyareas[crop]\n"
   ]
  },
  {
   "cell_type": "code",
   "execution_count": 37,
   "metadata": {},
   "outputs": [
    {
     "data": {
      "text/html": [
       "<table class=\"data-frame\"><thead><tr><th></th><th>crop</th><th>state</th><th>county</th><th>longitude</th><th>latitude</th><th>fips</th><th>plant</th><th>harvest</th></tr></thead><tbody><tr><th>1</th><td>Barley.Winter</td><td>Georgia</td><td>Greene</td><td>-83.1666</td><td>33.5789</td><td>13133</td><td>-51</td><td>172</td></tr><tr><th>2</th><td>Barley.Winter</td><td>Georgia</td><td>Gwinnett</td><td>-84.0235</td><td>33.9613</td><td>13135</td><td>-51</td><td>172</td></tr><tr><th>3</th><td>Barley.Winter</td><td>Georgia</td><td>Habersham</td><td>-83.5311</td><td>34.631</td><td>13137</td><td>-51</td><td>172</td></tr><tr><th>4</th><td>Barley.Winter</td><td>Georgia</td><td>Hall</td><td>-83.8197</td><td>34.3168</td><td>13139</td><td>-51</td><td>172</td></tr><tr><th>5</th><td>Barley.Winter</td><td>Georgia</td><td>Hancock</td><td>-83.0009</td><td>33.2702</td><td>13141</td><td>-51</td><td>172</td></tr><tr><th>6</th><td>Barley.Winter</td><td>Georgia</td><td>Haralson</td><td>-85.2099</td><td>33.7941</td><td>13143</td><td>-51</td><td>172</td></tr><tr><th>7</th><td>Barley.Winter</td><td>Georgia</td><td>Harris</td><td>-84.9095</td><td>32.7362</td><td>13145</td><td>-51</td><td>172</td></tr><tr><th>8</th><td>Barley.Winter</td><td>Georgia</td><td>Hart</td><td>-82.9641</td><td>34.3512</td><td>13147</td><td>-51</td><td>172</td></tr><tr><th>9</th><td>Barley.Winter</td><td>Georgia</td><td>Heard</td><td>-85.1291</td><td>33.297</td><td>13149</td><td>-51</td><td>172</td></tr><tr><th>10</th><td>Barley.Winter</td><td>Georgia</td><td>Henry</td><td>-84.1552</td><td>33.4534</td><td>13151</td><td>-51</td><td>172</td></tr><tr><th>11</th><td>Barley.Winter</td><td>Georgia</td><td>Houston</td><td>-83.6663</td><td>32.459</td><td>13153</td><td>-51</td><td>172</td></tr><tr><th>12</th><td>Barley.Winter</td><td>Georgia</td><td>Irwin</td><td>-83.2763</td><td>31.6024</td><td>13155</td><td>-51</td><td>172</td></tr><tr><th>13</th><td>Barley.Winter</td><td>Georgia</td><td>Jackson</td><td>-83.5666</td><td>34.1339</td><td>13157</td><td>-51</td><td>172</td></tr><tr><th>14</th><td>Barley.Winter</td><td>Georgia</td><td>Jasper</td><td>-83.6884</td><td>33.316</td><td>13159</td><td>-51</td><td>172</td></tr><tr><th>15</th><td>Barley.Winter</td><td>Georgia</td><td>Jeff Davis</td><td>-82.6368</td><td>31.8057</td><td>13161</td><td>-51</td><td>172</td></tr><tr><th>16</th><td>Barley.Winter</td><td>Georgia</td><td>Jefferson</td><td>-82.4178</td><td>33.0553</td><td>13163</td><td>-51</td><td>172</td></tr><tr><th>17</th><td>Barley.Winter</td><td>Georgia</td><td>Jenkins</td><td>-81.9636</td><td>32.7925</td><td>13165</td><td>-51</td><td>172</td></tr><tr><th>18</th><td>Barley.Winter</td><td>Georgia</td><td>Johnson</td><td>-82.6602</td><td>32.7014</td><td>13167</td><td>-51</td><td>172</td></tr><tr><th>19</th><td>Barley.Winter</td><td>Georgia</td><td>Jones</td><td>-83.5604</td><td>33.0246</td><td>13169</td><td>-51</td><td>172</td></tr><tr><th>20</th><td>Barley.Winter</td><td>Georgia</td><td>Lamar</td><td>-84.1394</td><td>33.0765</td><td>13171</td><td>-51</td><td>172</td></tr><tr><th>21</th><td>Barley.Winter</td><td>Georgia</td><td>Lanier</td><td>-83.0632</td><td>31.038</td><td>13173</td><td>-51</td><td>172</td></tr><tr><th>22</th><td>Barley.Winter</td><td>Georgia</td><td>Laurens</td><td>-82.9223</td><td>32.4637</td><td>13175</td><td>-51</td><td>172</td></tr><tr><th>23</th><td>Barley.Winter</td><td>Georgia</td><td>Lee</td><td>-84.1413</td><td>31.7793</td><td>13177</td><td>-51</td><td>172</td></tr><tr><th>24</th><td>Barley.Winter</td><td>Georgia</td><td>Liberty</td><td>-81.4993</td><td>31.8303</td><td>13179</td><td>-51</td><td>172</td></tr><tr><th>25</th><td>Barley.Winter</td><td>Georgia</td><td>Lincoln</td><td>-82.4519</td><td>33.7944</td><td>13181</td><td>-51</td><td>172</td></tr><tr><th>26</th><td>Barley.Winter</td><td>Georgia</td><td>Long</td><td>-81.7455</td><td>31.7525</td><td>13183</td><td>-51</td><td>172</td></tr><tr><th>27</th><td>Barley.Winter</td><td>Alabama</td><td>Autauga</td><td>-86.6429</td><td>32.5355</td><td>1001</td><td>-85</td><td>164</td></tr><tr><th>28</th><td>Barley.Winter</td><td>Alabama</td><td>Baldwin</td><td>-87.7249</td><td>30.7363</td><td>1003</td><td>-51</td><td>172</td></tr><tr><th>29</th><td>Barley.Winter</td><td>Alabama</td><td>Barbour</td><td>-85.3954</td><td>31.8698</td><td>1005</td><td>-51</td><td>172</td></tr><tr><th>30</th><td>Barley.Winter</td><td>Alabama</td><td>Bibb</td><td>-87.1264</td><td>32.9986</td><td>1007</td><td>-85</td><td>164</td></tr><tr><th>&vellip;</th><td>&vellip;</td><td>&vellip;</td><td>&vellip;</td><td>&vellip;</td><td>&vellip;</td><td>&vellip;</td><td>&vellip;</td><td>&vellip;</td></tr></tbody></table>"
      ],
      "text/plain": [
       "78625×8 DataFrames.DataFrame. Omitted printing of 2 columns\n",
       "│ Row   │ crop          │ state   │ county     │ longitude │ latitude │ fips  │\n",
       "├───────┼───────────────┼─────────┼────────────┼───────────┼──────────┼───────┤\n",
       "│ 1     │ Barley.Winter │ Georgia │ Greene     │ -83.1666  │ 33.5789  │ 13133 │\n",
       "│ 2     │ Barley.Winter │ Georgia │ Gwinnett   │ -84.0235  │ 33.9613  │ 13135 │\n",
       "│ 3     │ Barley.Winter │ Georgia │ Habersham  │ -83.5311  │ 34.631   │ 13137 │\n",
       "│ 4     │ Barley.Winter │ Georgia │ Hall       │ -83.8197  │ 34.3168  │ 13139 │\n",
       "│ 5     │ Barley.Winter │ Georgia │ Hancock    │ -83.0009  │ 33.2702  │ 13141 │\n",
       "│ 6     │ Barley.Winter │ Georgia │ Haralson   │ -85.2099  │ 33.7941  │ 13143 │\n",
       "│ 7     │ Barley.Winter │ Georgia │ Harris     │ -84.9095  │ 32.7362  │ 13145 │\n",
       "│ 8     │ Barley.Winter │ Georgia │ Hart       │ -82.9641  │ 34.3512  │ 13147 │\n",
       "│ 9     │ Barley.Winter │ Georgia │ Heard      │ -85.1291  │ 33.297   │ 13149 │\n",
       "│ 10    │ Barley.Winter │ Georgia │ Henry      │ -84.1552  │ 33.4534  │ 13151 │\n",
       "│ 11    │ Barley.Winter │ Georgia │ Houston    │ -83.6663  │ 32.459   │ 13153 │\n",
       "⋮\n",
       "│ 78614 │ Yams          │ Wyoming │ Lincoln    │ -110.655  │ 42.2618  │ 56023 │\n",
       "│ 78615 │ Yams          │ Wyoming │ Natrona    │ -106.796  │ 42.9625  │ 56025 │\n",
       "│ 78616 │ Yams          │ Wyoming │ Niobrara   │ -104.476  │ 43.0572  │ 56027 │\n",
       "│ 78617 │ Yams          │ Wyoming │ Park       │ -109.587  │ 44.5203  │ 56029 │\n",
       "│ 78618 │ Yams          │ Wyoming │ Platte     │ -104.964  │ 42.132   │ 56031 │\n",
       "│ 78619 │ Yams          │ Wyoming │ Sheridan   │ -106.876  │ 44.7908  │ 56033 │\n",
       "│ 78620 │ Yams          │ Wyoming │ Sublette   │ -109.915  │ 42.7678  │ 56035 │\n",
       "│ 78621 │ Yams          │ Wyoming │ Sweetwater │ -108.878  │ 41.6598  │ 56037 │\n",
       "│ 78622 │ Yams          │ Wyoming │ Teton      │ -110.591  │ 43.9344  │ 56039 │\n",
       "│ 78623 │ Yams          │ Wyoming │ Uinta      │ -110.547  │ 41.2881  │ 56041 │\n",
       "│ 78624 │ Yams          │ Wyoming │ Washakie   │ -107.682  │ 43.9037  │ 56043 │\n",
       "│ 78625 │ Yams          │ Wyoming │ Weston     │ -104.569  │ 43.8412  │ 56045 │"
      ]
     },
     "execution_count": 37,
     "metadata": {},
     "output_type": "execute_result"
    }
   ],
   "source": [
    "cropcalendar"
   ]
  },
  {
   "cell_type": "code",
   "execution_count": null,
   "metadata": {
    "collapsed": true
   },
   "outputs": [],
   "source": []
  }
 ],
 "metadata": {
  "kernelspec": {
   "display_name": "Julia 0.6.2",
   "language": "julia",
   "name": "julia-0.6"
  },
  "language_info": {
   "file_extension": ".jl",
   "mimetype": "application/julia",
   "name": "julia",
   "version": "0.6.2"
  }
 },
 "nbformat": 4,
 "nbformat_minor": 2
}
