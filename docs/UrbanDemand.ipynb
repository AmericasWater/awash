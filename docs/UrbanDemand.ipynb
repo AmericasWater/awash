{
 "cells": [
  {
   "cell_type": "code",
   "execution_count": 1,
   "metadata": {
    "collapsed": false
   },
   "outputs": [],
   "source": [
    "using DataFrames\n",
    "include(\"../src/lib/readconfig.jl\")\n",
    "include(\"../src/lib/datastore.jl\")\n",
    "suffix = \"\";"
   ]
  },
  {
   "cell_type": "code",
   "execution_count": 2,
   "metadata": {
    "collapsed": false
   },
   "outputs": [],
   "source": [
    "mastercounties = readtable(datapath(\"global/counties$suffix.csv\"), eltypes=[String, String, String]);"
   ]
  },
  {
   "cell_type": "code",
   "execution_count": 3,
   "metadata": {
    "collapsed": false
   },
   "outputs": [],
   "source": [
    "config = emptyconfig()\n",
    "col1 = configdata(\"urbandemand\", \"demand/simulation2010demanddata.csv\", :PS_WTotl, :regions);"
   ]
  },
  {
   "cell_type": "code",
   "execution_count": 4,
   "metadata": {
    "collapsed": false
   },
   "outputs": [
    {
     "ename": "LoadError",
     "evalue": "LoadError: There are not 3109 entries, but no urbandemand-index configuration specified.\nwhile loading In[4], in expression starting on line 4",
     "output_type": "error",
     "traceback": [
      "LoadError: There are not 3109 entries, but no urbandemand-index configuration specified.\nwhile loading In[4], in expression starting on line 4",
      "",
      " in error at /Applications/Julia-0.4.0.app/Contents/Resources/julia/lib/julia/sys.dylib",
      " in configdata at /Users/jrising/research/water/model/awash/src/lib/readconfig.jl:100"
     ]
    }
   ],
   "source": [
    "config[\"urbandemand-path\"] = \"demand/urbandemand_May11.csv\"\n",
    "config[\"urbandemand-column\"] = \"per_capita\"\n",
    "config[\"urbandemand-transform\"] = \"repcap\"\n",
    "col2 = configdata(\"urbandemand\", \"demand/simulation2010demanddata.csv\", :PS_WTotl, :regions);"
   ]
  },
  {
   "cell_type": "code",
   "execution_count": 5,
   "metadata": {
    "collapsed": false
   },
   "outputs": [
    {
     "ename": "LoadError",
     "evalue": "LoadError: The PopulationDemand component needs to be loaded first.\nwhile loading In[5], in expression starting on line 2",
     "output_type": "error",
     "traceback": [
      "LoadError: The PopulationDemand component needs to be loaded first.\nwhile loading In[5], in expression starting on line 2",
      "",
      " in error at /Applications/Julia-0.4.0.app/Contents/Resources/julia/lib/julia/sys.dylib",
      " in anonymous at /Users/jrising/research/water/model/awash/src/lib/readconfig.jl:35",
      " in configdata at /Users/jrising/research/water/model/awash/src/lib/readconfig.jl:94"
     ]
    }
   ],
   "source": [
    "config[\"urbandemand-index\"] = \"FIPS_county\"\n",
    "col2 = configdata(\"urbandemand\", \"demand/simulation2010demanddata.csv\", :PS_WTotl, :regions);"
   ]
  },
  {
   "cell_type": "code",
   "execution_count": 6,
   "metadata": {
    "collapsed": false
   },
   "outputs": [],
   "source": [
    "include(\"../src/PopulationDemand.jl\")\n",
    "col2 = configdata(\"urbandemand\", \"demand/simulation2010demanddata.csv\", :PS_WTotl, :regions);"
   ]
  },
  {
   "cell_type": "code",
   "execution_count": 7,
   "metadata": {
    "collapsed": false
   },
   "outputs": [
    {
     "data": {
      "text/html": [
       "<table class=\"data-frame\"><tr><th></th><th>fips</th><th>surveyed</th><th>estimated</th></tr><tr><th>1</th><td>01001</td><td>7038.1</td><td>9646.785578166</td></tr><tr><th>2</th><td>01003</td><td>31761.3</td><td>41999.195453175</td></tr><tr><th>3</th><td>01005</td><td>5738.3</td><td>7440.535253222</td></tr><tr><th>4</th><td>01007</td><td>6761.6</td><td>4971.888792205</td></tr><tr><th>5</th><td>01009</td><td>5351.6</td><td>11952.297234796</td></tr><tr><th>6</th><td>01011</td><td>3180.3</td><td>2133.49371306</td></tr><tr><th>7</th><td>01013</td><td>3733.4</td><td>4791.047861436</td></tr><tr><th>8</th><td>01015</td><td>32217.6</td><td>27618.908848248</td></tr><tr><th>9</th><td>01017</td><td>5959.6</td><td>7539.569498999999</td></tr><tr><th>10</th><td>01019</td><td>4825.7</td><td>5708.207924787</td></tr><tr><th>11</th><td>01021</td><td>6761.6</td><td>8914.201153459</td></tr><tr><th>12</th><td>01023</td><td>1880.5</td><td>3926.2748094089998</td></tr><tr><th>13</th><td>01025</td><td>4355.6</td><td>7017.4179431699995</td></tr><tr><th>14</th><td>01027</td><td>2295.3</td><td>2992.286900952</td></tr><tr><th>15</th><td>01029</td><td>774.3</td><td>2982.883627432</td></tr><tr><th>16</th><td>01031</td><td>10508.8</td><td>11064.870254712</td></tr><tr><th>17</th><td>01033</td><td>12154.2</td><td>12814.692311564</td></tr><tr><th>18</th><td>01035</td><td>2336.8</td><td>3588.584012704</td></tr><tr><th>19</th><td>01037</td><td>414.8</td><td>2221.268588979</td></tr><tr><th>20</th><td>01039</td><td>6844.5</td><td>9132.62074907</td></tr><tr><th>21</th><td>01041</td><td>2834.6</td><td>2649.635208846</td></tr><tr><th>22</th><td>01043</td><td>42933.8</td><td>18202.240487592</td></tr><tr><th>23</th><td>01045</td><td>9471.7</td><td>9374.904197795</td></tr><tr><th>24</th><td>01047</td><td>8158.1</td><td>11288.72540768</td></tr><tr><th>25</th><td>01049</td><td>9831.2</td><td>16105.649138235</td></tr><tr><th>26</th><td>01051</td><td>18459.5</td><td>15397.169525115</td></tr><tr><th>27</th><td>01053</td><td>7853.9</td><td>10578.592175181</td></tr><tr><th>28</th><td>01055</td><td>28166.2</td><td>25874.59300833</td></tr><tr><th>29</th><td>01057</td><td>2806.9</td><td>4383.885569637</td></tr><tr><th>30</th><td>01059</td><td>6319.1</td><td>6537.335061647999</td></tr><tr><th>&vellip;</th><td>&vellip;</td><td>&vellip;</td><td>&vellip;</td></tr></table>"
      ],
      "text/plain": [
       "3109×3 DataFrames.DataFrame\n",
       "│ Row  │ fips    │ surveyed │ estimated │\n",
       "├──────┼─────────┼──────────┼───────────┤\n",
       "│ 1    │ \"01001\" │ 7038.1   │ 9646.79   │\n",
       "│ 2    │ \"01003\" │ 31761.3  │ 41999.2   │\n",
       "│ 3    │ \"01005\" │ 5738.3   │ 7440.54   │\n",
       "│ 4    │ \"01007\" │ 6761.6   │ 4971.89   │\n",
       "│ 5    │ \"01009\" │ 5351.6   │ 11952.3   │\n",
       "│ 6    │ \"01011\" │ 3180.3   │ 2133.49   │\n",
       "│ 7    │ \"01013\" │ 3733.4   │ 4791.05   │\n",
       "│ 8    │ \"01015\" │ 32217.6  │ 27618.9   │\n",
       "│ 9    │ \"01017\" │ 5959.6   │ 7539.57   │\n",
       "│ 10   │ \"01019\" │ 4825.7   │ 5708.21   │\n",
       "│ 11   │ \"01021\" │ 6761.6   │ 8914.2    │\n",
       "⋮\n",
       "│ 3098 │ \"56023\" │ 5365.0   │ 3136.22   │\n",
       "│ 3099 │ \"56025\" │ 15030.3  │ 15220.8   │\n",
       "│ 3100 │ \"56027\" │ 912.6    │ 463.426   │\n",
       "│ 3101 │ \"56029\" │ 4369.4   │ 5312.09   │\n",
       "│ 3102 │ \"56031\" │ 1714.6   │ 1892.89   │\n",
       "│ 3103 │ \"56033\" │ 6623.3   │ 5807.91   │\n",
       "│ 3104 │ \"56035\" │ 3152.6   │ 1540.73   │\n",
       "│ 3105 │ \"56037\" │ 13675.2  │ 7668.06   │\n",
       "│ 3106 │ \"56039\" │ 7204.0   │ NA        │\n",
       "│ 3107 │ \"56041\" │ 5987.2   │ 3462.01   │\n",
       "│ 3108 │ \"56043\" │ 2129.4   │ 1791.58   │\n",
       "│ 3109 │ \"56045\" │ 2295.3   │ 1408.44   │"
      ]
     },
     "execution_count": 7,
     "metadata": {},
     "output_type": "execute_result"
    }
   ],
   "source": [
    "DataFrame(fips=mastercounties[:fips], surveyed=col1, estimated=col2)"
   ]
  }
 ],
 "metadata": {
  "kernelspec": {
   "display_name": "Julia 0.4.0",
   "language": "julia",
   "name": "julia-0.4"
  },
  "language_info": {
   "file_extension": ".jl",
   "mimetype": "application/julia",
   "name": "julia",
   "version": "0.4.0"
  }
 },
 "nbformat": 4,
 "nbformat_minor": 0
}
