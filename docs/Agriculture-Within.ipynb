{
 "cells": [
  {
   "cell_type": "code",
   "execution_count": 1,
   "metadata": {
    "scrolled": true
   },
   "outputs": [
    {
     "name": "stderr",
     "output_type": "stream",
     "text": [
      "\u001b[1m\u001b[33mWARNING: \u001b[39m\u001b[22m\u001b[33mRCall is not installed, so some graphing will not work.  If you have R installed, install RCall with `Pkg.add(\"RCall\")`.\u001b[39m\n",
      "WARNING: Method definition ==(Base.Nullable{S}, Base.Nullable{T}) in module Base at nullable.jl:238 overwritten in module NullableArrays at /Users/jrising/.julia/v0.6/NullableArrays/src/operators.jl:99.\n",
      "\u001b[1m\u001b[33mWARNING: \u001b[39m\u001b[22m\u001b[33mError requiring Juno from Plots:\u001b[39m\n",
      "\u001b[91mArgumentError: Module Hiccup not found in current path.\n",
      "Run `Pkg.add(\"Hiccup\")` to install the Hiccup package.\u001b[39m\n"
     ]
    },
    {
     "name": "stdout",
     "output_type": "stream",
     "text": [
      "\u001b[0;1;34;94m┌───────────────\u001b[0;34m────────────────\u001b[0;37m────────────────\u001b[0;1;30;90m───┐\u001b[0m\n",
      "\u001b[0;34m│\u001b[0m    \u001b[0;34m▄▄\u001b[0m    \u001b[0;34m▄▄\u001b[0m      \u001b[0;37m▄▄\u001b[0m    \u001b[0;37m▄▄\u001b[0m       \u001b[0;1;30;90m▄▄▄▄\u001b[0m    \u001b[0;1;30;90m▄▄\u001b[0m    \u001b[0;1;34;94m▄▄\u001b[0m \u001b[0;1;34;94m│\u001b[0m\n",
      "\u001b[0;34m│\u001b[0m   \u001b[0;34m████\u001b[0m   \u001b[0;37m██\u001b[0m      \u001b[0;37m██\u001b[0m   \u001b[0;1;30;90m████\u001b[0m    \u001b[0;1;30;90m▄█▀▀▀▀█\u001b[0m   \u001b[0;1;34;94m██\u001b[0m    \u001b[0;1;34;94m██\u001b[0m \u001b[0;1;34;94m│\u001b[0m\n",
      "\u001b[0;37m│\u001b[0m   \u001b[0;37m████\u001b[0m   \u001b[0;37m▀█▄\u001b[0m \u001b[0;37m█\u001b[0;1;30;90m█\u001b[0m \u001b[0;1;30;90m▄█▀\u001b[0m   \u001b[0;1;30;90m████\u001b[0m    \u001b[0;1;34;94m██▄\u001b[0m       \u001b[0;1;34;94m██\u001b[0m    \u001b[0;34m██\u001b[0m \u001b[0;34m│\u001b[0m\n",
      "\u001b[0;37m│\u001b[0m  \u001b[0;37m██\u001b[0m  \u001b[0;37m█\u001b[0;1;30;90m█\u001b[0m   \u001b[0;1;30;90m██\u001b[0m \u001b[0;1;30;90m██\u001b[0m \u001b[0;1;30;90m██\u001b[0m   \u001b[0;1;30;90m█\u001b[0;1;34;94m█\u001b[0m  \u001b[0;1;34;94m██\u001b[0m    \u001b[0;1;34;94m▀████▄\u001b[0m   \u001b[0;34m████████\u001b[0m \u001b[0;34m│\u001b[0m\n",
      "\u001b[0;1;30;90m│\u001b[0m  \u001b[0;1;30;90m██████\u001b[0m   \u001b[0;1;30;90m███▀\u001b[0;1;34;94m▀███\u001b[0m   \u001b[0;1;34;94m██████\u001b[0m        \u001b[0;34m▀██\u001b[0m  \u001b[0;34m██\u001b[0m    \u001b[0;37m██\u001b[0m \u001b[0;37m│\u001b[0m\n",
      "\u001b[0;1;30;90m│\u001b[0m \u001b[0;1;30;90m▄██\u001b[0m  \u001b[0;1;30;90m█\u001b[0;1;34;94m█▄\u001b[0m  \u001b[0;1;34;94m███\u001b[0m  \u001b[0;1;34;94m███\u001b[0m  \u001b[0;1;34;94m▄█\u001b[0;34m█\u001b[0m  \u001b[0;34m██▄\u001b[0m  \u001b[0;34m█▄▄▄▄▄█▀\u001b[0m  \u001b[0;37m██\u001b[0m    \u001b[0;37m██\u001b[0m \u001b[0;37m│\u001b[0m\n",
      "\u001b[0;1;34;94m│\u001b[0m \u001b[0;1;34;94m▀▀\u001b[0m    \u001b[0;1;34;94m▀▀\u001b[0m  \u001b[0;1;34;94m▀▀▀\u001b[0m  \u001b[0;34m▀▀▀\u001b[0m  \u001b[0;34m▀▀\u001b[0m    \u001b[0;34m▀▀\u001b[0m   \u001b[0;37m▀▀▀▀▀\u001b[0m    \u001b[0;37m▀▀\u001b[0m    \u001b[0;1;30;90m▀▀\u001b[0m \u001b[0;1;30;90m│\u001b[0m\n",
      "\u001b[0;34m└───────\u001b[0;37m────────────────\u001b[0;1;30;90m────────────────\u001b[0;1;34;94m───────────┘\u001b[0m\n",
      "\n",
      "Welcome to AWASH, the America's Water Model, version 0.9.\n",
      "\n"
     ]
    }
   ],
   "source": [
    "include(\"../src/nui.jl\");"
   ]
  },
  {
   "cell_type": "code",
   "execution_count": 2,
   "metadata": {
    "collapsed": true
   },
   "outputs": [],
   "source": [
    "config = readconfig(\"../configs/complete.yml\")\n",
    "include(\"../src/world-minimal.jl\")"
   ]
  },
  {
   "cell_type": "code",
   "execution_count": 3,
   "metadata": {},
   "outputs": [
    {
     "data": {
      "text/plain": [
       "getirrigationperdayarea"
      ]
     },
     "execution_count": 3,
     "metadata": {},
     "output_type": "execute_result"
    }
   ],
   "source": [
    "include(\"../src/lib/agriculture-years.jl\")"
   ]
  },
  {
   "cell_type": "code",
   "execution_count": 4,
   "metadata": {},
   "outputs": [
    {
     "data": {
      "text/plain": [
       "3109-element Array{Float64,1}:\n",
       "   4066.02     \n",
       "  53881.7      \n",
       "   3001.11     \n",
       "    954.27     \n",
       "    663.84     \n",
       "    843.63     \n",
       "    470.22     \n",
       "   5656.47     \n",
       "    276.6      \n",
       "   1714.92     \n",
       "   1590.45     \n",
       "     41.49     \n",
       "     96.81     \n",
       "      ⋮        \n",
       "      2.6241e5 \n",
       "      2.15458e5\n",
       "  93477.0      \n",
       "      4.06146e5\n",
       "      4.53347e5\n",
       "      2.65674e5\n",
       "      2.23603e5\n",
       " 140900.0      \n",
       "  34201.6      \n",
       "      2.93514e5\n",
       "      2.17076e5\n",
       "  34395.2      "
      ]
     },
     "execution_count": 4,
     "metadata": {},
     "output_type": "execute_result"
    }
   ],
   "source": [
    "recorded = knowndf(\"exogenous-withdrawals\")\n",
    "irtotal = recorded[:IR_To] * 1383."
   ]
  },
  {
   "cell_type": "code",
   "execution_count": 98,
   "metadata": {
    "scrolled": false
   },
   "outputs": [
    {
     "data": {
      "text/plain": [
       "3109-element Array{Float64,1}:\n",
       "   0.000622334\n",
       "   0.00202498 \n",
       "   0.00149495 \n",
       "   0.000580986\n",
       "   8.267e-5   \n",
       "   0.000820197\n",
       "   0.00266723 \n",
       "   0.000987207\n",
       " Inf          \n",
       "   0.000138282\n",
       "   0.000378904\n",
       " Inf          \n",
       "   5.30466e-5 \n",
       "   ⋮          \n",
       "   0.00931078 \n",
       "   0.0193539  \n",
       "   0.00809643 \n",
       "   0.0164619  \n",
       "   0.0282927  \n",
       "   0.0106613  \n",
       "   0.00777427 \n",
       "   0.015596   \n",
       "   0.0144158  \n",
       "   0.0166836  \n",
       "   0.0208681  \n",
       "   0.00296658 "
      ]
     },
     "execution_count": 98,
     "metadata": {},
     "output_type": "execute_result"
    }
   ],
   "source": [
    "getirrigationperdayarea(irtotal)"
   ]
  },
  {
   "cell_type": "code",
   "execution_count": null,
   "metadata": {
    "collapsed": true
   },
   "outputs": [],
   "source": []
  }
 ],
 "metadata": {
  "kernelspec": {
   "display_name": "Julia 0.6.2",
   "language": "julia",
   "name": "julia-0.6"
  },
  "language_info": {
   "file_extension": ".jl",
   "mimetype": "application/julia",
   "name": "julia",
   "version": "0.6.2"
  }
 },
 "nbformat": 4,
 "nbformat_minor": 2
}
