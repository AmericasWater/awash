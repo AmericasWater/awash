{
 "cells": [
  {
   "cell_type": "code",
   "execution_count": null,
   "metadata": {
    "collapsed": false
   },
   "outputs": [],
   "source": [
    "include(\"../src/nui.jl\")"
   ]
  },
  {
   "cell_type": "markdown",
   "metadata": {},
   "source": [
    "This is the default starting script for the model.  Add your commands to this script, as described in [Tutorial 1](Tutorial%201%20-%20Running%20the%20model.ipynb).\n",
    "\n",
    "Each time you open this script to start the model, click the \"<span style=\"font-family: FontAwesome\" class=\"fa-step-forward fe\"></span>\" button.\n",
    "\n",
    "To make your own script, go to the File menu and select \"`Make a Copy...`\"."
   ]
  },
  {
   "cell_type": "code",
   "execution_count": null,
   "metadata": {
    "collapsed": true
   },
   "outputs": [],
   "source": []
  }
 ],
 "metadata": {
  "kernelspec": {
   "display_name": "Julia 0.4.0",
   "language": "julia",
   "name": "julia-0.4"
  },
  "language_info": {
   "file_extension": ".jl",
   "mimetype": "application/julia",
   "name": "julia",
   "version": "0.4.0"
  }
 },
 "nbformat": 4,
 "nbformat_minor": 0
}
